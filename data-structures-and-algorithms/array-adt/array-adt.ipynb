{
 "cells": [
  {
   "cell_type": "code",
   "execution_count": 9,
   "id": "80ae2ca4-a099-4c38-a40c-b39efc4d67b1",
   "metadata": {},
   "outputs": [
    {
     "name": "stdout",
     "output_type": "stream",
     "text": [
      "Overwriting arrayADT.c\n"
     ]
    }
   ],
   "source": [
    "%%file arrayADT.c\n",
    "#include <stdio.h>\n",
    "#include <stdlib.h>\n",
    "\n",
    "struct Array {\n",
    "  \n",
    "  int* A;\n",
    "  int capacity;\n",
    "  int currLength;\n",
    "  \n",
    "};\n",
    "\n",
    "void display(struct Array arr) {\n",
    "    \n",
    "    printf(\"Total Capacity: %d\\n\",arr.capacity);\n",
    "    printf(\"Free Space: %d\\n\",arr.capacity-arr.currLength);\n",
    "\n",
    "    for(int i=0;i<arr.currLength;i++){\n",
    "        printf(\"%d \",*(arr.A+i));\n",
    "    }\n",
    "}\n",
    "\n",
    "int main() {\n",
    "    \n",
    "    struct Array arr;\n",
    "\n",
    "    printf(\"Enter the size of the array: \");\n",
    "    scanf(\"%d\",&arr.capacity);\n",
    "    \n",
    "    arr.currLength = 0;\n",
    "    arr.A = (int*)malloc(arr.capacity * sizeof(int));\n",
    "\n",
    "\n",
    "    int n;\n",
    "    printf(\"Enter number of numbers: \");\n",
    "    scanf(\"%d\",&n);\n",
    "\n",
    "    if(n <= arr.capacity) {\n",
    "        printf(\"Enter all numbers\\n\");\n",
    "        for(int i=0;i<n;i++){\n",
    "            printf(\"Value %d: \",i+1);\n",
    "            scanf(\"%d\",arr.A+i);\n",
    "        }\n",
    "        arr.currLength = n;\n",
    "        display(arr);\n",
    "    }\n",
    "    else {\n",
    "        printf(\"Exceeding Array Capacity\");\n",
    "    }\n",
    "\n",
    "    \n",
    "    \n",
    "    free(arr.A);\n",
    "\n",
    "    \n",
    "  return 0;\n",
    "}"
   ]
  },
  {
   "cell_type": "code",
   "execution_count": 10,
   "id": "dbe626ba-1bd8-4a22-94a6-c8e4ebba6b5a",
   "metadata": {},
   "outputs": [],
   "source": [
    "%%bash\n",
    "gcc arrayADT.c -o arrayADT"
   ]
  },
  {
   "cell_type": "code",
   "execution_count": null,
   "id": "e1e86ff1-2baf-41a3-ba3f-6a5abf086845",
   "metadata": {},
   "outputs": [],
   "source": []
  }
 ],
 "metadata": {
  "kernelspec": {
   "display_name": "Python 3 (ipykernel)",
   "language": "python",
   "name": "python3"
  },
  "language_info": {
   "codemirror_mode": {
    "name": "ipython",
    "version": 3
   },
   "file_extension": ".py",
   "mimetype": "text/x-python",
   "name": "python",
   "nbconvert_exporter": "python",
   "pygments_lexer": "ipython3",
   "version": "3.11.7"
  }
 },
 "nbformat": 4,
 "nbformat_minor": 5
}
