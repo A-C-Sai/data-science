{
 "cells": [
  {
   "cell_type": "code",
   "execution_count": 1,
   "id": "9a9872bd-c940-46e1-9b77-4c12e39ba087",
   "metadata": {},
   "outputs": [],
   "source": [
    "from IPython.display import Image"
   ]
  },
  {
   "cell_type": "code",
   "execution_count": 24,
   "id": "c48ee2e3-a3fb-4e6d-92a5-9c31219a6178",
   "metadata": {},
   "outputs": [
    {
     "name": "stdout",
     "output_type": "stream",
     "text": [
      "\n"
     ]
    }
   ],
   "source": [
    "''' \n",
    "Tracing tree of recursion function\n",
    "\n",
    "Calling and Returning phase\n",
    "\n",
    "Recursion uses stack (memory consuming functions)\n",
    "\n",
    "Recurrence Relation (solve by induction/successive substitution)\n",
    "\n",
    "static - always in memory but accessible by the function in which they are declared (spoce limited to a function)\n",
    "and global variables - always in memory and accessible by all functions\n",
    "can help  us in recursion\n",
    "'''\n",
    "print()"
   ]
  },
  {
   "cell_type": "code",
   "execution_count": 25,
   "id": "1e35c4da-2001-4469-bec6-a698fb6bd42c",
   "metadata": {},
   "outputs": [
    {
     "name": "stdout",
     "output_type": "stream",
     "text": [
      "\n"
     ]
    }
   ],
   "source": [
    "\"\"\" General Form\n",
    "\n",
    "Type fun(param)\n",
    "{\n",
    "    if(<base_condition>)\n",
    "    {\n",
    "        1. Calling\n",
    "        2. fun(param)\n",
    "        3. Returning\n",
    "    }\n",
    "\n",
    "}\n",
    "\"\"\"\n",
    "print()"
   ]
  },
  {
   "cell_type": "code",
   "execution_count": 30,
   "id": "36078635-83e6-41f0-b0f5-ce6d1d1b205e",
   "metadata": {},
   "outputs": [
    {
     "name": "stdout",
     "output_type": "stream",
     "text": [
      "\n"
     ]
    }
   ],
   "source": [
    "\"\"\" Types of Recursions\n",
    "\n",
    "1. Tail Recursion\n",
    "    - All work done during calling phase\n",
    "    - Tail Recursion can be easily converted in the form of loops\n",
    "    - if we have to write a tail recursion, better to convert it into a loop as it is more space efficient.\n",
    "\n",
    "2. Head Recursion\n",
    "    - All work done during returning phase\n",
    "    - Not easy to convert in the form of a loop and might not look as it is.\n",
    "\n",
    "3. Tree Recursion\n",
    "\n",
    "\"\"\"\n",
    "print()"
   ]
  },
  {
   "cell_type": "code",
   "execution_count": 31,
   "id": "2bc987fb-2890-4ecc-8576-e19cd21b69ca",
   "metadata": {},
   "outputs": [
    {
     "name": "stdout",
     "output_type": "stream",
     "text": [
      "Overwriting r.c\n"
     ]
    }
   ],
   "source": [
    "%%file r.c\n",
    "#include <stdio.h>\n",
    "void fun1(int i) {\n",
    "\n",
    "    if (i>0) {\n",
    "        printf(\"%d \",i);\n",
    "        fun1(i-1);\n",
    "    }\n",
    "}\n",
    "\n",
    "void fun2(int i) {\n",
    "\n",
    "    if (i>0) {\n",
    "        fun2(i-1);\n",
    "        printf(\"%d \",i); \n",
    "    }\n",
    "}\n",
    "\n",
    "int fun3(int n) {\n",
    "\n",
    "    if(n>0){\n",
    "        return fun3(n-1)+n;\n",
    "    }\n",
    "    return 0;\n",
    "}\n",
    "\n",
    "\n",
    "int main() {\n",
    "\n",
    "    int a = fun3(5);\n",
    "    printf(\"%d\\n\",a);\n",
    "\n",
    "    return 0;\n",
    "}"
   ]
  },
  {
   "cell_type": "code",
   "execution_count": 32,
   "id": "a5910197-d28f-4f20-ad3b-a2b303463635",
   "metadata": {},
   "outputs": [
    {
     "name": "stdout",
     "output_type": "stream",
     "text": [
      "15\n"
     ]
    }
   ],
   "source": [
    "%%bash\n",
    "gcc r.c -o r\n",
    "./r"
   ]
  },
  {
   "cell_type": "code",
   "execution_count": null,
   "id": "b27d9836-55b2-44c3-95e7-c33ccfe7c526",
   "metadata": {},
   "outputs": [],
   "source": []
  }
 ],
 "metadata": {
  "kernelspec": {
   "display_name": "Python 3 (ipykernel)",
   "language": "python",
   "name": "python3"
  },
  "language_info": {
   "codemirror_mode": {
    "name": "ipython",
    "version": 3
   },
   "file_extension": ".py",
   "mimetype": "text/x-python",
   "name": "python",
   "nbconvert_exporter": "python",
   "pygments_lexer": "ipython3",
   "version": "3.11.7"
  }
 },
 "nbformat": 4,
 "nbformat_minor": 5
}
