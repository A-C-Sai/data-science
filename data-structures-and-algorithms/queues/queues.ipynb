{
 "cells": [
  {
   "cell_type": "markdown",
   "id": "bf21f58f-1f7b-4cb1-ada7-25b8c76d09e2",
   "metadata": {},
   "source": [
    "# Queues"
   ]
  },
  {
   "cell_type": "code",
   "execution_count": 2,
   "id": "fa6965a4-28d8-4edb-8e99-966d731a9aae",
   "metadata": {},
   "outputs": [
    {
     "name": "stdout",
     "output_type": "stream",
     "text": [
      "\n"
     ]
    }
   ],
   "source": [
    "'''\n",
    "    #########################################\n",
    "                  QUEUE ADT\n",
    "    #########################################\n",
    "\n",
    "    - logical data structure that follows the discipline FIFO (First In First Out)\n",
    "    - Has 2 Ends :\n",
    "        - Front (deletion)\n",
    "        - Rear (insertion)\n",
    "\n",
    "    Data:\n",
    "        1. Space for storing elements\n",
    "        2. Front\n",
    "        3. Rear\n",
    "\n",
    "    Operations:\n",
    "        1. enqueue(element)\n",
    "        2. dequeue()\n",
    "        3. isEmpty()\n",
    "        4. isFull()\n",
    "        5. first()\n",
    "        6. last()\n",
    "        7. display()\n",
    "        8. countElements()\n",
    "\n",
    "    - Can be implementd using Array or Linked List (physical data structures)\n",
    "'''\n",
    "print()"
   ]
  },
  {
   "cell_type": "code",
   "execution_count": null,
   "id": "05c759af-6a9b-440e-b2fb-9a8a4df59e84",
   "metadata": {},
   "outputs": [],
   "source": []
  }
 ],
 "metadata": {
  "kernelspec": {
   "display_name": "Python 3 (ipykernel)",
   "language": "python",
   "name": "python3"
  },
  "language_info": {
   "codemirror_mode": {
    "name": "ipython",
    "version": 3
   },
   "file_extension": ".py",
   "mimetype": "text/x-python",
   "name": "python",
   "nbconvert_exporter": "python",
   "pygments_lexer": "ipython3",
   "version": "3.11.7"
  }
 },
 "nbformat": 4,
 "nbformat_minor": 5
}
