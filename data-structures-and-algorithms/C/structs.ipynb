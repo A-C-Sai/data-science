{
 "cells": [
  {
   "cell_type": "code",
   "execution_count": null,
   "id": "616630bf-9d08-49c4-b06f-dd32c6ddeef6",
   "metadata": {},
   "outputs": [],
   "source": [
    "'''\n",
    "\n",
    "struct - collection of related members (variables) \n",
    "         they can be of different data types\n",
    "         listed under one name in a block of memory\n",
    "         similar to classes in other languages (but no methods)\n",
    "\n",
    "\n",
    "e.g.\n",
    "\n",
    "struct Player {\n",
    "\n",
    "    char name[10];\n",
    "    int goals;\n",
    "};\n",
    "\n",
    "\n",
    "typedef struct {\n",
    "\n",
    "    char name[10];\n",
    "    int goals;\n",
    "} Player;\n",
    "\n",
    "\n",
    "int main() {\n",
    "\n",
    "    struct Player player1 = {\"Sam\", 10};\n",
    "\n",
    "    Player player1 = {\"Sam\", 10};\n",
    "    \n",
    "    return 0;\n",
    "}\n",
    "\n",
    "We can have an array of structs\n",
    "'''\n"
   ]
  }
 ],
 "metadata": {
  "kernelspec": {
   "display_name": "Python 3 (ipykernel)",
   "language": "python",
   "name": "python3"
  },
  "language_info": {
   "codemirror_mode": {
    "name": "ipython",
    "version": 3
   },
   "file_extension": ".py",
   "mimetype": "text/x-python",
   "name": "python",
   "nbconvert_exporter": "python",
   "pygments_lexer": "ipython3",
   "version": "3.11.7"
  }
 },
 "nbformat": 4,
 "nbformat_minor": 5
}
