{
 "cells": [
  {
   "cell_type": "code",
   "execution_count": null,
   "id": "ccbfcbff-3f8c-42a2-aa0a-27fd45c454be",
   "metadata": {},
   "outputs": [],
   "source": [
    "'''\n",
    "\n",
    "pointer - a variable-like reference that holds a memory address to another variable, array, etc.\n",
    "          * = indirection operator (value at address)\n",
    "\n",
    "\n",
    "e.g.\n",
    "\n",
    "int age = 21;\n",
    "int *pAge = &age;\n",
    "      OR\n",
    "int *pAge = NULL;\n",
    "pAge = &age;\n",
    "\n",
    "pAge ---> contains the address at which the variable age is stored at.\n",
    "*pAge/age ---> value at the location/address pAge is pointing to. value at stored address.\n",
    "\n",
    "'''"
   ]
  }
 ],
 "metadata": {
  "kernelspec": {
   "display_name": "Python 3 (ipykernel)",
   "language": "python",
   "name": "python3"
  },
  "language_info": {
   "codemirror_mode": {
    "name": "ipython",
    "version": 3
   },
   "file_extension": ".py",
   "mimetype": "text/x-python",
   "name": "python",
   "nbconvert_exporter": "python",
   "pygments_lexer": "ipython3",
   "version": "3.11.7"
  }
 },
 "nbformat": 4,
 "nbformat_minor": 5
}
