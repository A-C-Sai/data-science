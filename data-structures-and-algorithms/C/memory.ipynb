{
 "cells": [
  {
   "cell_type": "code",
   "execution_count": null,
   "id": "6d984014-74da-4ddd-ba3f-8e7b5294db91",
   "metadata": {},
   "outputs": [],
   "source": [
    "'''\n",
    "\n",
    "memory = an array of bytes within RAM\n",
    "memory block = a single unit (byte) within memory, used to hold some value\n",
    "memory address = the address of where a memory block is located\n",
    "\n",
    "each BYTE has an address\n",
    "\n",
    "&var\n",
    "%p\n",
    "\n",
    "Application's memory : || Heap || Stack || Static/Global || Code(Text) ||\n",
    "\n",
    "'''"
   ]
  }
 ],
 "metadata": {
  "kernelspec": {
   "display_name": "Python 3 (ipykernel)",
   "language": "python",
   "name": "python3"
  },
  "language_info": {
   "codemirror_mode": {
    "name": "ipython",
    "version": 3
   },
   "file_extension": ".py",
   "mimetype": "text/x-python",
   "name": "python",
   "nbconvert_exporter": "python",
   "pygments_lexer": "ipython3",
   "version": "3.11.7"
  }
 },
 "nbformat": 4,
 "nbformat_minor": 5
}
