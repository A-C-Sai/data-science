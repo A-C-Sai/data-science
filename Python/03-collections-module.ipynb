{
 "cells": [
  {
   "cell_type": "code",
   "execution_count": 34,
   "id": "f4e9193b-d2e0-40de-aa58-734a1c09b69e",
   "metadata": {},
   "outputs": [],
   "source": [
    "from collections import (\n",
    "    Counter,\n",
    "    namedtuple,\n",
    "    defaultdict,\n",
    "    deque\n",
    ")"
   ]
  },
  {
   "cell_type": "code",
   "execution_count": null,
   "id": "0cb16b23-afe8-46ee-b2e7-13505f87f8d1",
   "metadata": {},
   "outputs": [],
   "source": []
  },
  {
   "cell_type": "markdown",
   "id": "e52e99d5-5f9f-445d-adbe-b1fbe9c76141",
   "metadata": {},
   "source": [
    "# Counter"
   ]
  },
  {
   "cell_type": "code",
   "execution_count": 4,
   "id": "11f85607-3cb3-4b1f-92f5-2916350db42e",
   "metadata": {},
   "outputs": [],
   "source": [
    " c = Counter({'a': 4, 'b': 2, 'c': -2, 'd': 0})"
   ]
  },
  {
   "cell_type": "code",
   "execution_count": 8,
   "id": "711e8bc7-271d-40e9-818f-8bc62f8d36e2",
   "metadata": {},
   "outputs": [
    {
     "name": "stdout",
     "output_type": "stream",
     "text": [
      "clear\n",
      "copy\n",
      "elements\n",
      "fromkeys\n",
      "get\n",
      "items\n",
      "keys\n",
      "most_common\n",
      "pop\n",
      "popitem\n",
      "setdefault\n",
      "subtract\n",
      "total\n",
      "update\n",
      "values\n"
     ]
    }
   ],
   "source": [
    "for method in dir(c):\n",
    "    if not method.startswith(\"_\"):\n",
    "        print(method)"
   ]
  },
  {
   "cell_type": "code",
   "execution_count": null,
   "id": "eebdbe0b-fd98-4b07-a91f-21575ba47d6c",
   "metadata": {},
   "outputs": [],
   "source": []
  },
  {
   "cell_type": "markdown",
   "id": "5a49891c-9657-4b5a-89dc-7f0a13e333b9",
   "metadata": {},
   "source": [
    "# namedtuple"
   ]
  },
  {
   "cell_type": "code",
   "execution_count": 12,
   "id": "9699b4ee-5d86-4108-a8a9-55e43537ea46",
   "metadata": {},
   "outputs": [],
   "source": [
    "Point = namedtuple('Point', 'x,y')\n",
    "coordinate = Point(x=2,y=3)"
   ]
  },
  {
   "cell_type": "code",
   "execution_count": 13,
   "id": "885b6958-964c-43e9-8163-22773e07a446",
   "metadata": {},
   "outputs": [
    {
     "data": {
      "text/plain": [
       "Point(x=2, y=3)"
      ]
     },
     "execution_count": 13,
     "metadata": {},
     "output_type": "execute_result"
    }
   ],
   "source": [
    "coordinate"
   ]
  },
  {
   "cell_type": "code",
   "execution_count": 14,
   "id": "26ddf1e2-f28b-46ef-9c82-495ee2a2b867",
   "metadata": {},
   "outputs": [
    {
     "name": "stdout",
     "output_type": "stream",
     "text": [
      "count\n",
      "index\n",
      "x\n",
      "y\n"
     ]
    }
   ],
   "source": [
    "for method in dir(coordinate):\n",
    "    if not method.startswith(\"_\"):\n",
    "        print(method)"
   ]
  },
  {
   "cell_type": "code",
   "execution_count": 16,
   "id": "cc57c1ac-0903-4d3f-96d3-e29a229b43bc",
   "metadata": {},
   "outputs": [
    {
     "data": {
      "text/plain": [
       "{'x': 2, 'y': 3}"
      ]
     },
     "execution_count": 16,
     "metadata": {},
     "output_type": "execute_result"
    }
   ],
   "source": [
    "coordinate._asdict()"
   ]
  },
  {
   "cell_type": "code",
   "execution_count": 18,
   "id": "3e89a5a4-8036-46f7-81ed-4c0c604b209d",
   "metadata": {},
   "outputs": [
    {
     "data": {
      "text/plain": [
       "2"
      ]
     },
     "execution_count": 18,
     "metadata": {},
     "output_type": "execute_result"
    }
   ],
   "source": [
    "coordinate.x"
   ]
  },
  {
   "cell_type": "code",
   "execution_count": null,
   "id": "4b84d72d-846f-4264-a937-e9e985e1b3c4",
   "metadata": {},
   "outputs": [],
   "source": []
  },
  {
   "cell_type": "markdown",
   "id": "5141975f-7fcd-4e09-8a50-ea785e838ccd",
   "metadata": {},
   "source": [
    "# defaultdict"
   ]
  },
  {
   "cell_type": "code",
   "execution_count": 35,
   "id": "0de7320b-e166-4100-8362-cd74d86c6403",
   "metadata": {},
   "outputs": [
    {
     "data": {
      "text/plain": [
       "defaultdict(list, {'a': 1, 'b': 2})"
      ]
     },
     "execution_count": 35,
     "metadata": {},
     "output_type": "execute_result"
    }
   ],
   "source": [
    "d = defaultdict(list)\n",
    "d['a']=1\n",
    "d['b']=2\n",
    "d"
   ]
  },
  {
   "cell_type": "code",
   "execution_count": 36,
   "id": "7eef509b-4383-496f-a66f-a12120c7ef8d",
   "metadata": {},
   "outputs": [
    {
     "data": {
      "text/plain": [
       "1"
      ]
     },
     "execution_count": 36,
     "metadata": {},
     "output_type": "execute_result"
    }
   ],
   "source": [
    "d['a']"
   ]
  },
  {
   "cell_type": "code",
   "execution_count": 37,
   "id": "86696ee5-5950-4161-851e-d1238049481e",
   "metadata": {},
   "outputs": [
    {
     "data": {
      "text/plain": [
       "[]"
      ]
     },
     "execution_count": 37,
     "metadata": {},
     "output_type": "execute_result"
    }
   ],
   "source": [
    "d['g']"
   ]
  },
  {
   "cell_type": "markdown",
   "id": "766280c8-6745-45cb-b57e-0f0c17ae115b",
   "metadata": {},
   "source": [
    "Note: Using list as the default_factory will create a list for each new key."
   ]
  },
  {
   "cell_type": "code",
   "execution_count": null,
   "id": "5aea608e-ad93-4fe0-a24a-4e86e27ecbcd",
   "metadata": {},
   "outputs": [],
   "source": []
  }
 ],
 "metadata": {
  "kernelspec": {
   "display_name": "Python 3 (ipykernel)",
   "language": "python",
   "name": "python3"
  },
  "language_info": {
   "codemirror_mode": {
    "name": "ipython",
    "version": 3
   },
   "file_extension": ".py",
   "mimetype": "text/x-python",
   "name": "python",
   "nbconvert_exporter": "python",
   "pygments_lexer": "ipython3",
   "version": "3.11.7"
  }
 },
 "nbformat": 4,
 "nbformat_minor": 5
}
