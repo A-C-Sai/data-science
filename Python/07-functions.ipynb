{
 "cells": [
  {
   "cell_type": "markdown",
   "id": "a5263bd1-7667-466f-ac06-fd06dd61534b",
   "metadata": {},
   "source": [
    "# Functions"
   ]
  },
  {
   "cell_type": "markdown",
   "id": "d24f98f8-1da6-4c0b-8ed9-fd3137e1ac77",
   "metadata": {},
   "source": [
    "Code re-usability within the same program."
   ]
  },
  {
   "cell_type": "code",
   "execution_count": 15,
   "id": "4f57b237-9bd0-4ae5-b59f-71564fd14b7f",
   "metadata": {},
   "outputs": [
    {
     "name": "stdout",
     "output_type": "stream",
     "text": [
      "\n"
     ]
    }
   ],
   "source": [
    "'''\n",
    "\n",
    "Function Definition\n",
    "------------------------\n",
    "\n",
    "ENFORCING POSITIONAL OR KEYBORD ARGUMENTS:\n",
    "\t\n",
    "\tdef func(a,b)\n",
    "\tdef func(a,b,/)\n",
    "\tdef func(*,a=defauleValue,b=defaultValue)\n",
    "\tdef func(a,/,c,d,*,d,e,f)\n",
    " \n",
    "\n",
    "def functionName(\n",
    "    positional paramaters e.g. a ,\n",
    "    variable length parameters *args tuple, \n",
    "    default parameters e.g. a=value, \n",
    "    keyword variable length parameters **kwargs dict\n",
    "    ):\n",
    "\t\n",
    "    # DOCSTRING\n",
    "\t-------------------\n",
    "\t-------------------\n",
    "\n",
    "\treturn _____ ---------> optional, here we can return multiple values which we can unpack\n",
    "\n",
    "\n",
    "Function CALL\n",
    "------------------------\n",
    "\n",
    "functionName(positional arguments, variable length arguments, default arguments, keyword variable length arguments)\n",
    "functionName(positional arguments, variable length arguments, keyword variable length arguments, default arguments)\n",
    "\n",
    "\n",
    "- keyword arguments used in function call\n",
    "\n",
    "\n",
    "- functionName is a valid VARIABLE NAME => function as object => can assign them to variables\n",
    "\n",
    "- nested function: the inner function can only be called inside the outer function. It is not visible\n",
    "\t\t\t\t\t\t\t\t\t outside the outside fucntion.\n",
    "\t\t\t\t\t\t\t\t\t \n",
    "- can pass function as a parameter\n",
    "\n",
    "- function can return another function\n",
    "\n",
    "'''\n",
    "print()"
   ]
  },
  {
   "cell_type": "code",
   "execution_count": 20,
   "id": "4ed4b84c-e7b1-426f-948e-b5391563c113",
   "metadata": {},
   "outputs": [
    {
     "name": "stdout",
     "output_type": "stream",
     "text": [
      "5\n",
      "1\n"
     ]
    }
   ],
   "source": [
    "def sum(x,y):\n",
    "\treturn x+y \n",
    "\n",
    "def sub(x,y):\n",
    "\treturn x-y\n",
    "\n",
    "def perform(func,x,y,/):\n",
    "\treturn func(x,y)\n",
    "\n",
    "\n",
    "adder = perform(sum,2,3)\n",
    "subtract = perform(sub,3,2)\n",
    "\n",
    "print(adder)\n",
    "print(subtract)"
   ]
  },
  {
   "cell_type": "code",
   "execution_count": 21,
   "id": "9b86b3b3-a7db-49aa-a097-07fd25113549",
   "metadata": {},
   "outputs": [
    {
     "name": "stdout",
     "output_type": "stream",
     "text": [
      "Hello World!\n"
     ]
    }
   ],
   "source": [
    "def outer(): # acts as a factory for functions\n",
    "\tdef inner():\n",
    "\t\tprint(\"Hello World!\")\n",
    "\treturn inner\n",
    "\t\n",
    "\n",
    "d = outer()\n",
    "d()"
   ]
  },
  {
   "cell_type": "code",
   "execution_count": 22,
   "id": "eadacbb3-aaf9-497a-8c3f-20386a38a198",
   "metadata": {},
   "outputs": [
    {
     "name": "stdout",
     "output_type": "stream",
     "text": [
      "\n"
     ]
    }
   ],
   "source": [
    "'''\n",
    "\n",
    "NOTE:\n",
    "\t- Defaults are created only once\n",
    "\t \n",
    "\t\te.g. def addItem(item, l=[]):\n",
    "\t\t\t\t\tl.append(item)\n",
    "\t\t\t\t\tprint(l)\n",
    "     \n",
    "\t\t\t-> having default value as [] might not be the best idea, None might be better\n",
    "\n",
    "  \n",
    "-> in python objects are passed by address only\n",
    "\n",
    "'''\n",
    "print()"
   ]
  },
  {
   "cell_type": "code",
   "execution_count": 23,
   "id": "704ed9da-26b2-408c-8a17-917fbd10951c",
   "metadata": {},
   "outputs": [
    {
     "name": "stdout",
     "output_type": "stream",
     "text": [
      "\n"
     ]
    }
   ],
   "source": [
    "'''\n",
    "- Anonymous/Lambda functions does not contain any name explicitly. To perform instant operations. \n",
    "- lambda keyword\n",
    "- contains single executable statement only\n",
    "- no need for return statement\n",
    "\n",
    "syntax: varname = lambda param-list: Expression\n",
    "\n",
    "'''\n",
    "print()"
   ]
  },
  {
   "cell_type": "code",
   "execution_count": 24,
   "id": "2cc293c9-45e8-49ef-b123-c0d31033c5cc",
   "metadata": {},
   "outputs": [
    {
     "name": "stdout",
     "output_type": "stream",
     "text": [
      "\n"
     ]
    }
   ],
   "source": [
    "'''\n",
    "- When we want to modify global variables inside function body, that modification must be preceded with: \n",
    "  global global_variable,....,global_variable-n\n",
    "  \n",
    "- UnboundLocalError\n",
    "\n",
    "- When globals and local variables share the same variable name PVM only remembers latest values. \n",
    "  To access global variables we use globals() function which is of dict type.\n",
    "\n",
    "'''\n",
    "print()"
   ]
  },
  {
   "cell_type": "code",
   "execution_count": null,
   "id": "f6696318-c1c8-46e2-af3d-b29efb3f8313",
   "metadata": {},
   "outputs": [],
   "source": []
  }
 ],
 "metadata": {
  "kernelspec": {
   "display_name": "Python 3 (ipykernel)",
   "language": "python",
   "name": "python3"
  },
  "language_info": {
   "codemirror_mode": {
    "name": "ipython",
    "version": 3
   },
   "file_extension": ".py",
   "mimetype": "text/x-python",
   "name": "python",
   "nbconvert_exporter": "python",
   "pygments_lexer": "ipython3",
   "version": "3.11.7"
  }
 },
 "nbformat": 4,
 "nbformat_minor": 5
}
