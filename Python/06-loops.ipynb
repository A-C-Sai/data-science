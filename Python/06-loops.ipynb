{
 "cells": [
  {
   "cell_type": "markdown",
   "id": "2306458b-320a-4378-8ce8-a4e574857fbf",
   "metadata": {},
   "source": [
    "# Loops"
   ]
  },
  {
   "cell_type": "markdown",
   "id": "1b659a39-4dfb-404e-8a87-5bf0fe8e7c9e",
   "metadata": {},
   "source": [
    "Nested loop and combinations of loops are possible"
   ]
  },
  {
   "cell_type": "markdown",
   "id": "6f6fdbf5-9ada-481c-b8b0-27ac677d6e9c",
   "metadata": {},
   "source": [
    "## 1) while loop "
   ]
  },
  {
   "cell_type": "code",
   "execution_count": 2,
   "id": "a14fd0c7-85ec-4291-8fa6-a11af8aa3781",
   "metadata": {},
   "outputs": [
    {
     "name": "stdout",
     "output_type": "stream",
     "text": [
      "\n"
     ]
    }
   ],
   "source": [
    "'''\n",
    "\n",
    "- initialization part\n",
    "- conditional part\n",
    "- updation part\n",
    "\n",
    "while (test cond):\n",
    "\t-------\n",
    "\t-------\n",
    "\n",
    "while (test cond):\n",
    "\t-------\n",
    "\t-------\n",
    "else:\n",
    "\t-------\n",
    "\t-------\n",
    "\n",
    "while (True) -------> infinite loops can also be useful\n",
    "\n",
    "'''\n",
    "print()"
   ]
  },
  {
   "cell_type": "code",
   "execution_count": null,
   "id": "35501182-042f-4915-b517-694dfb12befe",
   "metadata": {},
   "outputs": [],
   "source": []
  },
  {
   "cell_type": "markdown",
   "id": "07256638-6bc2-4828-8298-04e61c3375af",
   "metadata": {},
   "source": [
    "## 2) for loop"
   ]
  },
  {
   "cell_type": "code",
   "execution_count": 3,
   "id": "7e3f6dd7-a274-48a0-821e-3a4888779969",
   "metadata": {},
   "outputs": [
    {
     "name": "stdout",
     "output_type": "stream",
     "text": [
      "\n"
     ]
    }
   ],
   "source": [
    "'''\n",
    "\n",
    "for varname in iterable_obj:\n",
    "\t--------\n",
    "\t--------\n",
    "\n",
    "for varname in iterable_obj:\n",
    "\t--------\n",
    "\t--------\n",
    "else:\n",
    "\t--------\n",
    "\t--------\n",
    "\n",
    "'''\n",
    "print()"
   ]
  },
  {
   "cell_type": "code",
   "execution_count": null,
   "id": "cc4815f6-b937-4df2-ac66-dd82f9693f5c",
   "metadata": {},
   "outputs": [],
   "source": []
  },
  {
   "cell_type": "markdown",
   "id": "30a031cd-609d-44bb-afa1-bdb360ba7a80",
   "metadata": {},
   "source": [
    "## 3) control flow"
   ]
  },
  {
   "cell_type": "code",
   "execution_count": 4,
   "id": "9ef22349-35fd-49d6-a454-d78e5daf0f01",
   "metadata": {},
   "outputs": [
    {
     "name": "stdout",
     "output_type": "stream",
     "text": [
      "\n"
     ]
    }
   ],
   "source": [
    "'''\n",
    "\n",
    "break - we come out of the CORRESPONDING LOOP if condition is met. loop's else block block won't run.\n",
    "\n",
    "continue - we go to the top of the loop without executing the following statements \n",
    "           which are written after the continue statement for the CURRENT iteration only.\n",
    "\n",
    "pass - instructs PVM not to consider the indentation block.\n",
    "\n",
    "'''\n",
    "print()"
   ]
  },
  {
   "cell_type": "code",
   "execution_count": null,
   "id": "56d38304-6497-4e0f-a14c-171398c262f2",
   "metadata": {},
   "outputs": [],
   "source": []
  }
 ],
 "metadata": {
  "kernelspec": {
   "display_name": "Python 3 (ipykernel)",
   "language": "python",
   "name": "python3"
  },
  "language_info": {
   "codemirror_mode": {
    "name": "ipython",
    "version": 3
   },
   "file_extension": ".py",
   "mimetype": "text/x-python",
   "name": "python",
   "nbconvert_exporter": "python",
   "pygments_lexer": "ipython3",
   "version": "3.11.7"
  }
 },
 "nbformat": 4,
 "nbformat_minor": 5
}
