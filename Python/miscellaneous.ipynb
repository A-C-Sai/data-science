{
 "cells": [
  {
   "cell_type": "markdown",
   "id": "51880071-1cc4-47a7-8288-ac9d131076c8",
   "metadata": {},
   "source": [
    "# Miscellaneous"
   ]
  },
  {
   "cell_type": "code",
   "execution_count": null,
   "id": "fb281c8a-b234-4e2b-8474-a48ed3d839ae",
   "metadata": {},
   "outputs": [],
   "source": []
  },
  {
   "cell_type": "markdown",
   "id": "6aa5b0ef-dff4-4a5c-8f96-14709cc655fb",
   "metadata": {},
   "source": [
    "## all() and any()"
   ]
  },
  {
   "cell_type": "code",
   "execution_count": 1,
   "id": "c333ab86-c3da-4768-8846-e08af6d602c3",
   "metadata": {},
   "outputs": [
    {
     "name": "stdout",
     "output_type": "stream",
     "text": [
      "\n"
     ]
    }
   ],
   "source": [
    "'''\n",
    "You can use all() to determine if all the values in an iterable evaluate to True\n",
    "any() determines if one or more values in an iterable evaluate to True\n",
    "'''\n",
    "print()"
   ]
  },
  {
   "cell_type": "code",
   "execution_count": null,
   "id": "43d2fd71-7500-448c-81b0-9c8d650cd8e4",
   "metadata": {},
   "outputs": [],
   "source": []
  },
  {
   "cell_type": "markdown",
   "id": "bbbbca14-7eed-4b5c-9ce8-6272a27ce768",
   "metadata": {},
   "source": [
    "#  Initializing a List to a Fixed Number of Elements"
   ]
  },
  {
   "cell_type": "code",
   "execution_count": 2,
   "id": "7e37664d-360f-4c05-b238-ec8b6c9f2b0b",
   "metadata": {},
   "outputs": [],
   "source": [
    "# immutable elements\n",
    "my_list = [None] * 10"
   ]
  },
  {
   "cell_type": "code",
   "execution_count": 3,
   "id": "7857996d-ae7b-4bfa-b7b4-7a73326a8dc3",
   "metadata": {},
   "outputs": [],
   "source": [
    "# For mutable elements, the same construct will result in all elements of the list referring to the same object.\n",
    "my_list=[{1}] * 10"
   ]
  },
  {
   "cell_type": "code",
   "execution_count": 4,
   "id": "e3bfb203-2361-4d45-aa57-9d08633e7132",
   "metadata": {},
   "outputs": [],
   "source": [
    "my_list[0].add(2)"
   ]
  },
  {
   "cell_type": "code",
   "execution_count": 6,
   "id": "47be0f6f-6f07-4385-9d3b-db1912a67097",
   "metadata": {},
   "outputs": [
    {
     "name": "stdout",
     "output_type": "stream",
     "text": [
      "[{1, 2}, {1, 2}, {1, 2}, {1, 2}, {1, 2}, {1, 2}, {1, 2}, {1, 2}, {1, 2}, {1, 2}]\n"
     ]
    }
   ],
   "source": [
    "print(my_list)"
   ]
  },
  {
   "cell_type": "code",
   "execution_count": 7,
   "id": "c4de633d-5b92-434d-9b37-398080598a91",
   "metadata": {},
   "outputs": [],
   "source": [
    "# insted for mutable objects\n",
    "my_list = [{1} for _ in range(10)]"
   ]
  },
  {
   "cell_type": "code",
   "execution_count": null,
   "id": "7b3d156a-baeb-4866-86cf-6d3fc5f069f8",
   "metadata": {},
   "outputs": [],
   "source": []
  },
  {
   "cell_type": "code",
   "execution_count": null,
   "id": "2836d946-807d-466a-925a-c1f356439d9f",
   "metadata": {},
   "outputs": [],
   "source": []
  },
  {
   "cell_type": "markdown",
   "id": "dcde3d65-fabb-4870-ad97-815f89c37745",
   "metadata": {},
   "source": [
    "# Comprehensions"
   ]
  },
  {
   "cell_type": "code",
   "execution_count": 20,
   "id": "695b2440-240d-45a6-9952-ecd44cd54660",
   "metadata": {},
   "outputs": [
    {
     "name": "stdout",
     "output_type": "stream",
     "text": [
      "\n"
     ]
    }
   ],
   "source": [
    "'''\n",
    "[ <expression> for <element> in <iterable> ]\n",
    "\n",
    "[ <expression> for <element> in <iterable> if <condition> ] ---> Conditional List Comprehensions\n",
    "you can append one or more if conditions to filter values.\n",
    "\n",
    "else can be used in List comprehension constructs, but be careful regarding the syntax. \n",
    "The if/else clauses should be used before for loop, not after.\n",
    "\n",
    "Double Iteration - [... for x in ... for y in ...] \n",
    "\n",
    "\n",
    "{expression for varname in iterableObj Conditional Statement}\n",
    "{a:b for varname in iterableObj Conditional Statement}\n",
    "tuple(expression for varname in iterableObj Conditional Statement)\n",
    "(*(expression for varname in iterableObj Conditional Statement),)\n",
    "\n",
    "\n",
    "Generator expressions are very similar to list comprehensions. The main difference is that it does not create a full\n",
    "set of results at once; it creates a generator object which can then be iterated over.\n",
    "\n",
    "(expression for varname in iterableObj Conditional Statement) -----> Generator\n",
    "\n",
    "generator objects cannot be indexed and makes use of the next function to get items in order.\n",
    "\n",
    "Generator expressions are lazily evaluated, which means that they generate and return each value only when the\n",
    "generator is iterated. This is often useful when iterating through large datasets, avoiding the need to create a\n",
    "duplicate of the dataset in memory\n",
    "\n",
    "\n",
    "Refactoring:\n",
    "\n",
    "    Map: map(F, S) == [F(x) for x in S]\n",
    "    Filter: filter(P, S) == [x for x in S if P(x)]\n",
    "\n",
    "\n",
    "NOTE:\n",
    "    if the expression that begins the comprehension is a tuple then it must be parenthesized\n",
    "    [x, y for x, y in [(1, 2), (3, 4), (5, 6)]] WRONG\n",
    "    [(x, y) for x, y in [(1, 2), (3, 4), (5, 6)]] CORRECT\n",
    "\n",
    "\n",
    "\n",
    "Nested list comprehensions, unlike list comprehensions with nested loops, are List comprehensions within a list\n",
    "comprehension.\n",
    "\n",
    "#Nested List Comprehension\n",
    "[[x + y for x in [1, 2, 3]] for y in [3, 4, 5]]\n",
    "#Out: [[4, 5, 6], [5, 6, 7], [6, 7, 8]]\n",
    "\n",
    "'''\n",
    "print()"
   ]
  },
  {
   "cell_type": "code",
   "execution_count": 19,
   "id": "fe1d729f-cd39-4972-b57e-5025d25dac68",
   "metadata": {},
   "outputs": [
    {
     "data": {
      "text/plain": [
       "['*', 'u', 'i', '*', '*', 'i', '*', '*']"
      ]
     },
     "execution_count": 19,
     "metadata": {},
     "output_type": "execute_result"
    }
   ],
   "source": [
    "[x if x in 'aeiou' else '*' for x in 'building']"
   ]
  },
  {
   "cell_type": "code",
   "execution_count": 21,
   "id": "56a119e1-6afa-4e6b-a84b-9b29854f7652",
   "metadata": {},
   "outputs": [],
   "source": [
    "''' transpose of a matrix'''\n",
    "matrix = [\n",
    "    [1,2,3],\n",
    "    [4,5,6],\n",
    "    [7,8,9]\n",
    "]"
   ]
  },
  {
   "cell_type": "code",
   "execution_count": 22,
   "id": "1ebd80b8-145d-4d5f-885e-47c5512149a6",
   "metadata": {},
   "outputs": [
    {
     "data": {
      "text/plain": [
       "[[1, 4, 7], [2, 5, 8], [3, 6, 9]]"
      ]
     },
     "execution_count": 22,
     "metadata": {},
     "output_type": "execute_result"
    }
   ],
   "source": [
    "[[row[i] for row in matrix] for i in range(len(matrix))]"
   ]
  },
  {
   "cell_type": "code",
   "execution_count": null,
   "id": "e36ee5be-52d5-46b7-91d4-1736edf101e1",
   "metadata": {},
   "outputs": [],
   "source": []
  }
 ],
 "metadata": {
  "kernelspec": {
   "display_name": "Python 3 (ipykernel)",
   "language": "python",
   "name": "python3"
  },
  "language_info": {
   "codemirror_mode": {
    "name": "ipython",
    "version": 3
   },
   "file_extension": ".py",
   "mimetype": "text/x-python",
   "name": "python",
   "nbconvert_exporter": "python",
   "pygments_lexer": "ipython3",
   "version": "3.11.7"
  }
 },
 "nbformat": 4,
 "nbformat_minor": 5
}
