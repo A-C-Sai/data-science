{
 "cells": [
  {
   "cell_type": "markdown",
   "id": "547e10d9-9d1f-43b0-ac70-99ee817aa623",
   "metadata": {},
   "source": [
    "# Bubble Sort"
   ]
  },
  {
   "cell_type": "markdown",
   "id": "1e68ccef-8247-43f9-b568-d222e0f3930b",
   "metadata": {},
   "source": [
    "A = [8,4,3,7,2]<br>\n",
    "Total elements (n) = 5\n",
    "***\n",
    "**1st Pass:**\n",
    "<br>\n",
    "[8,4],3,7,2<br>\n",
    "4,[8,3],7,2<br>\n",
    "4,3,[8,7],2<br>\n",
    "4,3,7,[8,2]<br>\n",
    "4,3,7,2,8\n",
    "<br><br>\n",
    "No. Of Comparisons = 4<br>\n",
    "No. Of Swaps = 4\n",
    "<br><br>\n",
    "At the End of 1st pass, one element is sorted\n",
    "***\n",
    "**2nd Pass:**\n",
    "<br>\n",
    "[4,3],7,2,8<br>\n",
    "3,[4,7],2,8<br>\n",
    "3,4,[7,2],8<br>\n",
    "3,4,2,7,8\n",
    "<br><br>\n",
    "No. Of Comparisons = 3<br>\n",
    "No. Of Swaps = 3 (at most) (actual = 2)\n",
    "<br><br>\n",
    "At the End of 2nd pass, two elements are sorted\n",
    "***\n",
    "**3rd Pass:**\n",
    "<br>\n",
    "[3,4],2,7,8<br>\n",
    "3,[4,2],7,8<br>\n",
    "3,2,4,7,8\n",
    "<br><br>\n",
    "No. Of Comparisons = 2<br>\n",
    "No. Of Swaps = 2 (at most) (actual 1)\n",
    "<br><br>\n",
    "At the End of 3rd pass, three elements are sorted\n",
    "***\n",
    "**4th Pass:**\n",
    "<br>\n",
    "[3,2],4,7,8<br>\n",
    "2,3,4,7,8\n",
    "<br><br>\n",
    "No. Of Comparisons = 1<br>\n",
    "No. Of Swaps = 1 \n",
    "<br><br>\n",
    "At the End of 4th pass, All elements sorted\n",
    "***\n",
    "**Total No. of passes** = 4 passes (n-1)<br>\n",
    "**Total No. of comparisons** = 1+2+3+4+...+(n-1) = n(n-1)/2 = `O(n^2)`<br>\n",
    "**Max No. of swaps** = 1+2+3+4+...+(n-1) = n(n-1)/2 = O(n^2)\n",
    "***\n",
    "**Minimum Time** : `O(n)`<br>\n",
    "**Maximum Time** : `O(n^2)`\n",
    "***\n",
    "`Bubble sort is a stable algorithm`"
   ]
  },
  {
   "cell_type": "code",
   "execution_count": 12,
   "id": "fa84ac66-e483-4d62-a2e2-25333e93c69a",
   "metadata": {},
   "outputs": [],
   "source": [
    "import numpy as np"
   ]
  },
  {
   "cell_type": "code",
   "execution_count": 28,
   "id": "35f55069-6470-4354-aea2-d888c77e4d6e",
   "metadata": {},
   "outputs": [],
   "source": [
    "def bubble_sort(array):\n",
    " \n",
    "    # for array of n elements (n-1) passes are required\n",
    "    for i in range(array.shape[0]-1):\n",
    "        \n",
    "        swap_done = 0 \n",
    "        \n",
    "        # for each successive pass, the number of elements to be compared is reduced by 1\n",
    "        for j in range(array.shape[0]-1-i):\n",
    "\n",
    "            '''\n",
    "                >: for ascending order\n",
    "                <: for descending order\n",
    "            '''\n",
    "            if array[j] > array[j+1]:\n",
    "                array[j], array[j+1] = array[j+1], array[j]\n",
    "                swap_done = 1\n",
    "\n",
    "        # Adaptive\n",
    "        if swap_done == 0:\n",
    "            break # if no swaps have been done in a pass, the array is sorted and we don't need to sort any longer\n",
    "\n",
    "    return \n",
    "        \n",
    "        \n",
    "    "
   ]
  },
  {
   "cell_type": "code",
   "execution_count": null,
   "id": "4bf77211-7520-4ced-b57a-86397dfc0938",
   "metadata": {},
   "outputs": [],
   "source": []
  },
  {
   "cell_type": "code",
   "execution_count": 29,
   "id": "49ef4c21-0f2c-454b-acc2-ed61c54938d3",
   "metadata": {},
   "outputs": [
    {
     "data": {
      "text/plain": [
       "array([10,  5,  7,  3,  9,  6, 20, 15])"
      ]
     },
     "execution_count": 29,
     "metadata": {},
     "output_type": "execute_result"
    }
   ],
   "source": [
    "A = np.array([10,5,7,3,9,6,20,15])\n",
    "A"
   ]
  },
  {
   "cell_type": "code",
   "execution_count": 30,
   "id": "f77faf5e-9923-4f5e-80f8-6b85cc6bab19",
   "metadata": {},
   "outputs": [],
   "source": [
    "bubble_sort(A)"
   ]
  },
  {
   "cell_type": "code",
   "execution_count": 31,
   "id": "88384475-66e5-46a6-972f-096bb9c224e2",
   "metadata": {},
   "outputs": [
    {
     "data": {
      "text/plain": [
       "array([ 3,  5,  6,  7,  9, 10, 15, 20])"
      ]
     },
     "execution_count": 31,
     "metadata": {},
     "output_type": "execute_result"
    }
   ],
   "source": [
    "A"
   ]
  },
  {
   "cell_type": "code",
   "execution_count": null,
   "id": "74c1fb33-30bd-477c-a8fd-a050ef7cb9ed",
   "metadata": {},
   "outputs": [],
   "source": []
  }
 ],
 "metadata": {
  "kernelspec": {
   "display_name": "Python 3 (ipykernel)",
   "language": "python",
   "name": "python3"
  },
  "language_info": {
   "codemirror_mode": {
    "name": "ipython",
    "version": 3
   },
   "file_extension": ".py",
   "mimetype": "text/x-python",
   "name": "python",
   "nbconvert_exporter": "python",
   "pygments_lexer": "ipython3",
   "version": "3.11.7"
  }
 },
 "nbformat": 4,
 "nbformat_minor": 5
}
