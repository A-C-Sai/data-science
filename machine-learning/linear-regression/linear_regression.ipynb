{
 "cells": [
  {
   "cell_type": "markdown",
   "id": "f0b54080-5362-4cee-bdaa-febf394b8b6c",
   "metadata": {},
   "source": [
    "# Linear Regression"
   ]
  },
  {
   "cell_type": "code",
   "execution_count": 36,
   "id": "4c7cbaff-f63a-4cf8-bc9b-b2d619870022",
   "metadata": {},
   "outputs": [],
   "source": [
    "import numpy as np"
   ]
  },
  {
   "cell_type": "markdown",
   "id": "c4c5c06e-689d-4459-8323-9b22c5c2b345",
   "metadata": {},
   "source": [
    "## Closed Form Solution"
   ]
  },
  {
   "cell_type": "markdown",
   "id": "7ab98fdd-cbd0-4a14-848a-625c1cd8a8aa",
   "metadata": {},
   "source": [
    "- Below class can handle both simple and multiple linear regression.\n",
    "- As the dimensionality of the data grows, the closed for solution becomes computationally expensive. Other methods, such as gradient descent should be opted in these cases."
   ]
  },
  {
   "cell_type": "code",
   "execution_count": 39,
   "id": "fc47fab4-8dcd-4063-801a-28d072202cc7",
   "metadata": {},
   "outputs": [],
   "source": [
    "class CustomLinearRegression:\n",
    "\n",
    "    def __init__(self):\n",
    "        pass\n",
    "\n",
    "    def fit(self, X_train, y_train):\n",
    "        \n",
    "        m, n = X_train.shape\n",
    "        b_ = np.ones(m).reshape(-1, 1)\n",
    "        X_b = np.hstack((b_, X_train))\n",
    "        y_train = y_train.reshape(-1,1)\n",
    "        \n",
    "        beta = np.dot(np.dot(np.linalg.inv(np.dot(X_b.T, X_b)), X_b.T), y_train)\n",
    "        # beta = np.dot(np.linalg.pinv(X_b), y_train) -- using SVD\n",
    "\n",
    "        beta = beta.ravel()\n",
    "        self.intercept_ = beta[0]\n",
    "        self.coefficient_ = beta[1:]\n",
    "\n",
    "        return self\n",
    "        \n",
    "\n",
    "    def predict(self, X_test):\n",
    "        return np.dot(self.coefficient_, X_test) + self.intercept_"
   ]
  },
  {
   "cell_type": "code",
   "execution_count": null,
   "id": "b2989b00-9e6a-47c4-8fe4-a887df97232a",
   "metadata": {},
   "outputs": [],
   "source": []
  }
 ],
 "metadata": {
  "kernelspec": {
   "display_name": "Python 3 (ipykernel)",
   "language": "python",
   "name": "python3"
  },
  "language_info": {
   "codemirror_mode": {
    "name": "ipython",
    "version": 3
   },
   "file_extension": ".py",
   "mimetype": "text/x-python",
   "name": "python",
   "nbconvert_exporter": "python",
   "pygments_lexer": "ipython3",
   "version": "3.11.7"
  }
 },
 "nbformat": 4,
 "nbformat_minor": 5
}
