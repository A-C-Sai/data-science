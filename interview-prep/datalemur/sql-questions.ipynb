{
 "cells": [
  {
   "cell_type": "markdown",
   "id": "084b519c-6690-4800-8647-75d76caca66d",
   "metadata": {},
   "source": [
    "# Questions"
   ]
  },
  {
   "cell_type": "code",
   "execution_count": 2,
   "id": "e60a4eb2-3dcd-4ce9-8e9a-b45c614a934f",
   "metadata": {},
   "outputs": [],
   "source": [
    "from IPython.display import Image"
   ]
  },
  {
   "cell_type": "markdown",
   "id": "26274fef-1d0b-4ebb-829c-e880b23c3037",
   "metadata": {},
   "source": [
    "## Easy"
   ]
  },
  {
   "cell_type": "markdown",
   "id": "0e46f3ef-3b58-41aa-ae4e-89b1802848c3",
   "metadata": {},
   "source": [
    "***"
   ]
  },
  {
   "cell_type": "markdown",
   "id": "70534c87-dd4f-493b-b3bb-bf33ab038e67",
   "metadata": {},
   "source": [
    "<div>\n",
    "    <img src='./resources/q1.png' width=1000>\n",
    "    <img src='./resources/q1-table-structure.png' width=500>\n",
    "    <img src='./resources/q1-sample-table.png' width=240>\n",
    "    <img src='./resources/q1-assumptions.png' width=745>\n",
    "</div>"
   ]
  },
  {
   "cell_type": "markdown",
   "id": "fea0805c-90ba-4ad2-bd28-23b6b955faec",
   "metadata": {},
   "source": [
    "```sql\n",
    "SELECT candidate_id\n",
    "FROM candidates\n",
    "WHERE skill in ('Python','Tableau','PostgreSQL')\n",
    "GROUP BY candidate_id\n",
    "HAVING COUNT(*) = 3\n",
    "ORDER BY 1 ASC; \n",
    "```"
   ]
  },
  {
   "cell_type": "markdown",
   "id": "b7e7814d-a603-4d83-99f7-8d5ffc74f5b7",
   "metadata": {},
   "source": [
    "***"
   ]
  },
  {
   "cell_type": "markdown",
   "id": "9b31a2b3-3d40-4c58-aec4-7eef91fbaccc",
   "metadata": {},
   "source": [
    "<div>\n",
    "    <img src='./resources/q2.png' width=1000>\n",
    "    <img src='./resources/q2-table-structure1.png' width=250>\n",
    "    <img src='./resources/q2-table-structure2.png' width=213>\n",
    "    <br>\n",
    "    <img src='./resources/q2-sample-table1.png' width=254>\n",
    "    <img src='./resources/q2-sample-table2.png' width=326>\n",
    "</div>"
   ]
  },
  {
   "cell_type": "markdown",
   "id": "f499c806-b672-4340-b927-a8e59a0b2bce",
   "metadata": {},
   "source": [
    "```sql\n",
    "SELECT \n",
    "  pages.page_id\n",
    "FROM \n",
    "    pages \n",
    "    LEFT JOIN \n",
    "    page_likes \n",
    "    ON pages.page_id = page_likes.page_id\n",
    "GROUP BY 1\n",
    "HAVING COUNT(page_likes.user_id) = 0\n",
    "ORDER BY 1;\n",
    "```"
   ]
  },
  {
   "cell_type": "markdown",
   "id": "15e798c2-246e-49b1-a616-9ba17c5f6748",
   "metadata": {},
   "source": [
    "***"
   ]
  },
  {
   "cell_type": "markdown",
   "id": "b2a8c887-157f-4e6d-a01f-ede7352f12a3",
   "metadata": {},
   "source": [
    "<div>\n",
    "    <img src='./resources/q3.png' width=1000>\n",
    "    <img src='./resources/q3-table-structure.png' width=540>\n",
    "    <img src='./resources/q3-sample-table.png' width=405>\n",
    "</div>"
   ]
  },
  {
   "cell_type": "markdown",
   "id": "b5d0a01e-9a40-49ee-8e1e-3216f3c97256",
   "metadata": {},
   "source": [
    "```sql\n",
    "SELECT \n",
    "  SUM(CASE\n",
    "    WHEN device_type = 'laptop' THEN 1\n",
    "    ELSE 0\n",
    "    END) AS \"laptop_views\",\n",
    "  SUM(CASE\n",
    "    WHEN device_type IN ('phone','tablet') THEN 1\n",
    "    ELSE 0\n",
    "    END) AS \"mobile_views\"\n",
    "FROM viewership;\n",
    "```"
   ]
  },
  {
   "cell_type": "markdown",
   "id": "803cf933-a3e5-48fb-9160-3a2965bd3a8f",
   "metadata": {},
   "source": [
    "***"
   ]
  },
  {
   "cell_type": "markdown",
   "id": "82360994-8770-4b46-a256-19d0835a20b6",
   "metadata": {},
   "source": [
    "<div>\n",
    "    <img src='./resources/q4.png' width=1000>\n",
    "    <img src='./resources/q4-table-structure.png' width=240>\n",
    "    <img src='./resources/q4-sample-table.png' width=515>\n",
    "</div>"
   ]
  },
  {
   "cell_type": "markdown",
   "id": "bc80c7e1-a4a0-4cd6-a56c-7fc9da76c289",
   "metadata": {},
   "source": [
    "```sql\n",
    "SELECT \n",
    "  EXTRACT(MONTH FROM submit_date) as \"mth\", \n",
    "  product_id as \"product\",\n",
    "  ROUND(AVG(stars),2) as \"avg_stars\"\n",
    "FROM reviews\n",
    "GROUP BY \n",
    "  EXTRACT(MONTH FROM submit_date),\n",
    "  product_id\n",
    "ORDER BY\n",
    "  \"mth\" ASC,\n",
    "  \"product\" ASC\n",
    "```"
   ]
  },
  {
   "cell_type": "markdown",
   "id": "7b0cb5ac-af24-4faf-9605-c3bf38c82c77",
   "metadata": {},
   "source": [
    "***"
   ]
  },
  {
   "cell_type": "markdown",
   "id": "7371359c-6a9a-4a74-b90c-a6c9ab18e7dc",
   "metadata": {},
   "source": [
    "<div>\n",
    "    <img src='./resources/q5.png' width=1000>\n",
    "    <img src='./resources/q5-table-structure.png' width=350>\n",
    "    <img src='./resources/q5-sample-table.png' width=525>\n",
    "</div>"
   ]
  },
  {
   "cell_type": "markdown",
   "id": "f286a059-02fa-4f83-b9dd-eb2232be4ab6",
   "metadata": {},
   "source": [
    "```sql\n",
    "SELECT \n",
    "    card_name, \n",
    "    MAX(issued_amount)-MIN(issued_amount) \"difference\"\n",
    "FROM monthly_cards_issued\n",
    "GROUP BY card_name\n",
    "ORDER BY 2 DESC;\n",
    "```"
   ]
  },
  {
   "cell_type": "markdown",
   "id": "2dd305aa-3048-4622-a4b3-42a0f7817628",
   "metadata": {},
   "source": [
    "***"
   ]
  },
  {
   "cell_type": "markdown",
   "id": "98b78f73-1c39-42a2-953e-c88079d37434",
   "metadata": {},
   "source": [
    "<div>\n",
    "    <img src='./resources/q6.png' width=1000>\n",
    "    <img src='./resources/q6-table-structure.png' width=160>\n",
    "    <img src='./resources/q6-sample-table.png' width=645>\n",
    "</div>"
   ]
  },
  {
   "cell_type": "markdown",
   "id": "f7798bde-1f20-438c-b9c0-f6fb9aeb46d7",
   "metadata": {},
   "source": [
    "```sql\n",
    "SELECT \n",
    "    drug, \n",
    "    (total_sales-cogs) as \"total_profit\"\n",
    "FROM pharmacy_sales\n",
    "ORDER BY \"total_profit\" DESC\n",
    "LIMIT 3;\n",
    "```"
   ]
  },
  {
   "cell_type": "markdown",
   "id": "ad03c48d-ab94-4de9-9b74-0c65487ad5a6",
   "metadata": {},
   "source": [
    "***"
   ]
  },
  {
   "cell_type": "code",
   "execution_count": null,
   "id": "d63bc05c-78c3-4b9a-a10f-b9c148711a9c",
   "metadata": {},
   "outputs": [],
   "source": []
  }
 ],
 "metadata": {
  "kernelspec": {
   "display_name": "Python 3 (ipykernel)",
   "language": "python",
   "name": "python3"
  },
  "language_info": {
   "codemirror_mode": {
    "name": "ipython",
    "version": 3
   },
   "file_extension": ".py",
   "mimetype": "text/x-python",
   "name": "python",
   "nbconvert_exporter": "python",
   "pygments_lexer": "ipython3",
   "version": "3.11.7"
  }
 },
 "nbformat": 4,
 "nbformat_minor": 5
}
