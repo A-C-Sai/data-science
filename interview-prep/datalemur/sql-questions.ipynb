{
 "cells": [
  {
   "cell_type": "markdown",
   "id": "084b519c-6690-4800-8647-75d76caca66d",
   "metadata": {},
   "source": [
    "# Questions"
   ]
  },
  {
   "cell_type": "markdown",
   "id": "26274fef-1d0b-4ebb-829c-e880b23c3037",
   "metadata": {},
   "source": [
    "## Easy"
   ]
  },
  {
   "cell_type": "markdown",
   "id": "0e46f3ef-3b58-41aa-ae4e-89b1802848c3",
   "metadata": {},
   "source": [
    "***"
   ]
  },
  {
   "cell_type": "markdown",
   "id": "8db4be11-ad75-4a10-a834-ac7a5c1a7147",
   "metadata": {},
   "source": [
    "<div>\n",
    "    <img src='./resources/q1.png' width=1000>\n",
    "    <img src='./resources/q1-table-structure.png' width=500>\n",
    "    <img src='./resources/q1-sample-table.png' width=240>\n",
    "    <img src='./resources/q1-assumptions.png' width=745>\n",
    "</div>"
   ]
  },
  {
   "cell_type": "markdown",
   "id": "fea0805c-90ba-4ad2-bd28-23b6b955faec",
   "metadata": {},
   "source": [
    "```sql\n",
    "SELECT candidate_id\n",
    "FROM candidates\n",
    "WHERE skill in ('Python','Tableau','PostgreSQL')\n",
    "GROUP BY candidate_id\n",
    "HAVING COUNT(*) = 3\n",
    "ORDER BY 1 ASC; \n",
    "```"
   ]
  },
  {
   "cell_type": "markdown",
   "id": "b7e7814d-a603-4d83-99f7-8d5ffc74f5b7",
   "metadata": {},
   "source": [
    "***"
   ]
  },
  {
   "cell_type": "markdown",
   "id": "491fa5be-91db-408c-9f75-19b6bc3e398e",
   "metadata": {},
   "source": [
    "<div>\n",
    "    <img src='./resources/q2.png' width=1000>\n",
    "    <img src='./resources/q2-table-structure1.png' width=250>\n",
    "    <img src='./resources/q2-table-structure2.png' width=213>\n",
    "    <br>\n",
    "    <img src='./resources/q2-sample-table1.png' width=254>\n",
    "    <img src='./resources/q2-sample-table2.png' width=326>\n",
    "</div>"
   ]
  },
  {
   "cell_type": "markdown",
   "id": "f499c806-b672-4340-b927-a8e59a0b2bce",
   "metadata": {},
   "source": [
    "```sql\n",
    "SELECT \n",
    "  pages.page_id\n",
    "FROM \n",
    "    pages \n",
    "    LEFT JOIN \n",
    "    page_likes \n",
    "    ON pages.page_id = page_likes.page_id\n",
    "GROUP BY 1\n",
    "HAVING COUNT(page_likes.user_id) = 0\n",
    "ORDER BY 1;\n",
    "```"
   ]
  },
  {
   "cell_type": "markdown",
   "id": "15e798c2-246e-49b1-a616-9ba17c5f6748",
   "metadata": {},
   "source": [
    "***"
   ]
  },
  {
   "cell_type": "markdown",
   "id": "b47760b9-0126-4f2e-aec9-37801193c214",
   "metadata": {},
   "source": [
    "<div>\n",
    "    <img src='./resources/q3.png' width=1000>\n",
    "    <img src='./resources/q3-table-structure.png' width=540>\n",
    "    <img src='./resources/q3-sample-table.png' width=405>\n",
    "</div>"
   ]
  },
  {
   "cell_type": "markdown",
   "id": "b5d0a01e-9a40-49ee-8e1e-3216f3c97256",
   "metadata": {},
   "source": [
    "```sql\n",
    "SELECT \n",
    "  SUM(CASE\n",
    "    WHEN device_type = 'laptop' THEN 1\n",
    "    ELSE 0\n",
    "    END) AS \"laptop_views\",\n",
    "  SUM(CASE\n",
    "    WHEN device_type IN ('phone','tablet') THEN 1\n",
    "    ELSE 0\n",
    "    END) AS \"mobile_views\"\n",
    "FROM viewership;\n",
    "```"
   ]
  },
  {
   "cell_type": "markdown",
   "id": "803cf933-a3e5-48fb-9160-3a2965bd3a8f",
   "metadata": {},
   "source": [
    "***"
   ]
  },
  {
   "cell_type": "markdown",
   "id": "3b1ffbee-5354-4718-aca5-2cd459862c84",
   "metadata": {},
   "source": [
    "<div>\n",
    "    <img src='./resources/q4.png' width=1000>\n",
    "    <img src='./resources/q4-table-structure.png' width=240>\n",
    "    <img src='./resources/q4-sample-table.png' width=515>\n",
    "</div>"
   ]
  },
  {
   "cell_type": "markdown",
   "id": "bc80c7e1-a4a0-4cd6-a56c-7fc9da76c289",
   "metadata": {},
   "source": [
    "```sql\n",
    "SELECT \n",
    "  EXTRACT(MONTH FROM submit_date) as \"mth\", \n",
    "  product_id as \"product\",\n",
    "  ROUND(AVG(stars),2) as \"avg_stars\"\n",
    "FROM reviews\n",
    "GROUP BY \n",
    "  EXTRACT(MONTH FROM submit_date),\n",
    "  product_id\n",
    "ORDER BY\n",
    "  \"mth\" ASC,\n",
    "  \"product\" ASC\n",
    "```"
   ]
  },
  {
   "cell_type": "markdown",
   "id": "7b0cb5ac-af24-4faf-9605-c3bf38c82c77",
   "metadata": {},
   "source": [
    "***"
   ]
  },
  {
   "cell_type": "markdown",
   "id": "e261e2a8-7058-49c1-9524-a7789a0c593d",
   "metadata": {},
   "source": [
    "<div>\n",
    "    <img src='./resources/q5.png' width=1000>\n",
    "    <img src='./resources/q5-table-structure.png' width=350>\n",
    "    <img src='./resources/q5-sample-table.png' width=525>\n",
    "</div>"
   ]
  },
  {
   "cell_type": "markdown",
   "id": "f286a059-02fa-4f83-b9dd-eb2232be4ab6",
   "metadata": {},
   "source": [
    "```sql\n",
    "SELECT \n",
    "    card_name, \n",
    "    MAX(issued_amount)-MIN(issued_amount) \"difference\"\n",
    "FROM monthly_cards_issued\n",
    "GROUP BY card_name\n",
    "ORDER BY 2 DESC;\n",
    "```"
   ]
  },
  {
   "cell_type": "markdown",
   "id": "2dd305aa-3048-4622-a4b3-42a0f7817628",
   "metadata": {},
   "source": [
    "***"
   ]
  },
  {
   "cell_type": "markdown",
   "id": "3a5a8a51-a7c3-4cce-b7d9-4461a0274ff6",
   "metadata": {},
   "source": [
    "<div>\n",
    "    <img src='./resources/q6.png' width=1000>\n",
    "    <img src='./resources/q6-table-structure.png' width=160>\n",
    "    <img src='./resources/q6-sample-table.png' width=645>\n",
    "</div>"
   ]
  },
  {
   "cell_type": "markdown",
   "id": "f7798bde-1f20-438c-b9c0-f6fb9aeb46d7",
   "metadata": {},
   "source": [
    "```sql\n",
    "SELECT \n",
    "    drug, \n",
    "    (total_sales-cogs) as \"total_profit\"\n",
    "FROM pharmacy_sales\n",
    "ORDER BY \"total_profit\" DESC\n",
    "LIMIT 3;\n",
    "```"
   ]
  },
  {
   "cell_type": "markdown",
   "id": "ad03c48d-ab94-4de9-9b74-0c65487ad5a6",
   "metadata": {},
   "source": [
    "***"
   ]
  },
  {
   "cell_type": "markdown",
   "id": "34971308-01da-43f6-89b9-04714a074b4f",
   "metadata": {},
   "source": [
    "<div>\n",
    "    <img src='./resources/q7.png' width=1000>\n",
    "    <img src='./resources/q7-table-structure.png' width=385>\n",
    "    <img src='./resources/q7-sample-table.png' width=400>\n",
    "</div>"
   ]
  },
  {
   "cell_type": "markdown",
   "id": "ce1098ed-fc82-4041-a8b4-bfbb60ffd7e1",
   "metadata": {},
   "source": [
    "```sql\n",
    "SELECT \n",
    "    part,\n",
    "    assembly_step\n",
    "FROM parts_assembly\n",
    "WHERE finish_date IS NULL;\n",
    "```"
   ]
  },
  {
   "cell_type": "markdown",
   "id": "7df5b67a-1d9d-4f0a-9bde-406e2fbcd86b",
   "metadata": {},
   "source": [
    "***"
   ]
  },
  {
   "cell_type": "markdown",
   "id": "3ec3df43-9f61-4254-80e1-7ca3b26971b7",
   "metadata": {},
   "source": [
    "<div>\n",
    "    <img src='./resources/q8.png' width=1000>\n",
    "    <img src='./resources/q8-table-structure1.png' width=250>\n",
    "    <img src='./resources/q8-table-structure2.png' width=380>\n",
    "    <br>\n",
    "    <img src='./resources/q8-sample-table1.png' width=300>\n",
    "    <img src='./resources/q8-sample-table2.png' width=326>\n",
    "</div>"
   ]
  },
  {
   "cell_type": "markdown",
   "id": "f8fcf51b-ded0-4797-9780-0965e9691c6c",
   "metadata": {},
   "source": [
    "```sql\n",
    "SELECT \n",
    "    user_id\n",
    "FROM \n",
    "    emails \n",
    "    JOIN \n",
    "    texts \n",
    "    ON emails.email_id = texts.email_id\n",
    "WHERE \n",
    "    signup_action = 'Confirmed' AND \n",
    "    EXTRACT(DAY FROM action_date-signup_date) = 1;\n",
    "```"
   ]
  },
  {
   "cell_type": "markdown",
   "id": "81bbc393-22e5-4030-8425-347724eda24e",
   "metadata": {},
   "source": [
    "***"
   ]
  },
  {
   "cell_type": "markdown",
   "id": "73638eb9-8b92-432d-b2ca-c93fd59b05e1",
   "metadata": {},
   "source": [
    "<div>\n",
    "    <img src='./resources/q9.png' width=1000>\n",
    "    <img src='./resources/q9-table-structure.png' width=250>\n",
    "    <img src='./resources/q9-sample-table.png' width=610>\n",
    "</div>"
   ]
  },
  {
   "cell_type": "markdown",
   "id": "4facf8f9-a8c9-4612-9ae1-3a8a7d363c3e",
   "metadata": {},
   "source": [
    "```sql\n",
    "SELECT \n",
    "    user_id,\n",
    "    EXTRACT(DAY FROM MAX(post_date)-MIN(post_date)) AS days_between\n",
    "FROM posts\n",
    "WHERE EXTRACT(YEAR FROM post_date) = 2021\n",
    "GROUP BY user_id\n",
    "HAVING COUNT(*)>=2;\n",
    "```"
   ]
  },
  {
   "cell_type": "markdown",
   "id": "15b3137f-386d-4298-a800-09ed6479414c",
   "metadata": {},
   "source": [
    "***"
   ]
  },
  {
   "cell_type": "markdown",
   "id": "d46738df-10b1-442c-8aba-28ad4354accb",
   "metadata": {},
   "source": [
    "<div>\n",
    "    <img src='./resources/q10.png' width=1000>\n",
    "    <img src='./resources/q10-table-structure.png' width=355>\n",
    "    <img src='./resources/q10-sample-table.png' width=510>\n",
    "    <br>\n",
    "    <img src='./resources/q10-table-structure2.png' width=255>\n",
    "    <img src='./resources/q10-sample-table2.png' width=615>\n",
    "</div>"
   ]
  },
  {
   "cell_type": "markdown",
   "id": "b0516a7d-7236-4247-b565-85ea9ce9e351",
   "metadata": {},
   "source": [
    "```sql\n",
    "SELECT \n",
    "    city,\n",
    "    COUNT(*) \"total_orders\"\n",
    "FROM \n",
    "    trades t \n",
    "    INNER JOIN \n",
    "    users u \n",
    "    ON t.user_id = u.user_id\n",
    "WHERE status = 'Completed'\n",
    "GROUP BY city\n",
    "ORDER BY \"total_orders\" DESC\n",
    "LIMIT 3;\n",
    "```"
   ]
  },
  {
   "cell_type": "markdown",
   "id": "be0bf82c-4523-40db-86aa-3f5325138ee7",
   "metadata": {},
   "source": [
    "***"
   ]
  },
  {
   "cell_type": "code",
   "execution_count": null,
   "id": "6753c693-9a3d-427c-b63d-493821e4108f",
   "metadata": {},
   "outputs": [],
   "source": []
  }
 ],
 "metadata": {
  "kernelspec": {
   "display_name": "Python 3 (ipykernel)",
   "language": "python",
   "name": "python3"
  },
  "language_info": {
   "codemirror_mode": {
    "name": "ipython",
    "version": 3
   },
   "file_extension": ".py",
   "mimetype": "text/x-python",
   "name": "python",
   "nbconvert_exporter": "python",
   "pygments_lexer": "ipython3",
   "version": "3.11.7"
  }
 },
 "nbformat": 4,
 "nbformat_minor": 5
}
