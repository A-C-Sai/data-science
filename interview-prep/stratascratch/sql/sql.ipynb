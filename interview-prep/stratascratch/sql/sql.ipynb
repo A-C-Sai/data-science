{
 "cells": [
  {
   "cell_type": "code",
   "execution_count": 1,
   "id": "e1f9af72-1d60-45ec-a1e3-8c82d40d94f0",
   "metadata": {},
   "outputs": [],
   "source": [
    "from IPython.display import Image"
   ]
  },
  {
   "cell_type": "markdown",
   "id": "f2b4117c-c4f2-4c30-a2d2-0383f95d36bc",
   "metadata": {},
   "source": [
    "# Question"
   ]
  },
  {
   "cell_type": "markdown",
   "id": "7d7ba9bf-73bc-47c2-8887-2317edc1939a",
   "metadata": {},
   "source": [
    "**For more information about the question click the provided links**"
   ]
  },
  {
   "cell_type": "code",
   "execution_count": null,
   "id": "74ccbb87-020d-4845-9b51-a908ac4399d9",
   "metadata": {},
   "outputs": [],
   "source": []
  }
 ],
 "metadata": {
  "kernelspec": {
   "display_name": "Python 3 (ipykernel)",
   "language": "python",
   "name": "python3"
  },
  "language_info": {
   "codemirror_mode": {
    "name": "ipython",
    "version": 3
   },
   "file_extension": ".py",
   "mimetype": "text/x-python",
   "name": "python",
   "nbconvert_exporter": "python",
   "pygments_lexer": "ipython3",
   "version": "3.11.7"
  }
 },
 "nbformat": 4,
 "nbformat_minor": 5
}
