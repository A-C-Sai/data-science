{
 "cells": [
  {
   "cell_type": "markdown",
   "id": "e3289c2d-3642-466a-92a9-a62ca5de338b",
   "metadata": {},
   "source": [
    "# Import Libraries"
   ]
  },
  {
   "cell_type": "code",
   "execution_count": 2,
   "id": "d49c4368-1cd7-44ab-8d07-ff11d850045f",
   "metadata": {},
   "outputs": [],
   "source": [
    "import numpy as np\n",
    "import pandas as pd \n",
    "from sklearn.linear_model import LogisticRegression\n",
    "from sklearn.preprocessing import OneHotEncoder\n",
    "from sklearn.datasets import load_iris\n",
    "from sklearn.model_selection import train_test_split"
   ]
  },
  {
   "cell_type": "code",
   "execution_count": null,
   "id": "9626dc1f-236a-4945-bde8-26a1642df2a8",
   "metadata": {},
   "outputs": [],
   "source": []
  },
  {
   "cell_type": "markdown",
   "id": "c1412e27-6a02-49f2-a790-96a244928d44",
   "metadata": {},
   "source": [
    "# Data"
   ]
  },
  {
   "cell_type": "code",
   "execution_count": 3,
   "id": "f90ee2f1-5f3b-46f4-98fb-04454347f40e",
   "metadata": {},
   "outputs": [],
   "source": [
    "# read iris dataset\n",
    "X, y = load_iris(return_X_y=True)"
   ]
  },
  {
   "cell_type": "code",
   "execution_count": 6,
   "id": "d45d1700-cb29-40b6-8151-690e926062e0",
   "metadata": {},
   "outputs": [],
   "source": [
    "# one-hot encoding of target column\n",
    "y_ohe = OneHotEncoder().fit_transform(y.reshape(-1,1)).toarray()"
   ]
  },
  {
   "cell_type": "code",
   "execution_count": 8,
   "id": "a1cde23b-7962-4dad-97d6-edca1c0d5835",
   "metadata": {},
   "outputs": [],
   "source": [
    "# training and test data\n",
    "x_train, x_test, y_train, y_test = train_test_split(X, y_ohe)"
   ]
  },
  {
   "cell_type": "code",
   "execution_count": null,
   "id": "f64cc922-b82e-45a3-ae82-65a9ff490a67",
   "metadata": {},
   "outputs": [],
   "source": []
  },
  {
   "cell_type": "markdown",
   "id": "db219afd-88d1-489f-9670-df60ba703c44",
   "metadata": {},
   "source": [
    "# OvR"
   ]
  },
  {
   "cell_type": "code",
   "execution_count": 11,
   "id": "4f94d848-1790-4e0b-85e5-7328b6a4eb41",
   "metadata": {},
   "outputs": [],
   "source": [
    "# Perform OvR. Since there are three labels, three models are used.\n",
    "models = []\n",
    "for m in range(y_train.shape[1]):\n",
    "    y_sub = y_train[:,m]\n",
    "    models.append(LogisticRegression())\n",
    "    models[-1].fit(x_train, y_sub)"
   ]
  },
  {
   "cell_type": "code",
   "execution_count": 12,
   "id": "e8855e66-b9dc-49b9-80ac-902ede1fd51d",
   "metadata": {},
   "outputs": [],
   "source": [
    "# the labels of the test data are predicted using all three trained models\n",
    "y_prob = np.zeros(shape=y_test.shape)"
   ]
  },
  {
   "cell_type": "code",
   "execution_count": 15,
   "id": "5c995e85-d293-48d5-96c1-98c1a14deb57",
   "metadata": {},
   "outputs": [],
   "source": [
    "for m in range(y_test.shape[1]):\n",
    "    y_prob[:,m] = models[m].predict_proba(x_test)[:,1]"
   ]
  },
  {
   "cell_type": "code",
   "execution_count": 18,
   "id": "a92f38d8-9c84-4491-8eb1-14e8f0a901b1",
   "metadata": {},
   "outputs": [],
   "source": [
    "# y predicte as the label with the higest value in y_prob\n",
    "y_pred = np.argmax(y_prob, axis=1)"
   ]
  },
  {
   "cell_type": "code",
   "execution_count": null,
   "id": "e32c3f1f-afbe-4c72-b44d-a9c24c7214a6",
   "metadata": {},
   "outputs": [],
   "source": []
  },
  {
   "cell_type": "markdown",
   "id": "f8242ca5-4d12-460d-907f-ab19a35a9181",
   "metadata": {},
   "source": [
    "# Results"
   ]
  },
  {
   "cell_type": "code",
   "execution_count": 21,
   "id": "01081c43-2c12-4e64-b88a-8d1b9f10486f",
   "metadata": {},
   "outputs": [
    {
     "name": "stdout",
     "output_type": "stream",
     "text": [
      "accuracy of test data = 0.974\n"
     ]
    }
   ],
   "source": [
    "# measure the accuracy of the test data\n",
    "y_true = np.argmax(y_test, axis=1)\n",
    "acc = (y_true == y_pred).mean()\n",
    "print(f\"accuracy of test data = {acc:.3f}\")"
   ]
  },
  {
   "cell_type": "code",
   "execution_count": 22,
   "id": "04669f0b-d292-4df0-a267-b99b0bef2f7d",
   "metadata": {},
   "outputs": [
    {
     "name": "stdout",
     "output_type": "stream",
     "text": [
      "Model-0:\n",
      "w: [[-0.36794405  0.87723033 -2.18653445 -0.91759099]]\n",
      "b: [5.90767581]\n",
      "Model-1:\n",
      "w: [[-0.26158375 -1.77376674  0.60919612 -0.99540827]]\n",
      "b: [5.13120598]\n",
      "Model-2:\n",
      "w: [[-0.38731096 -0.50206908  2.73935802  2.14123896]]\n",
      "b: [-13.13403183]\n"
     ]
    }
   ],
   "source": [
    "# estimated parameters.\n",
    "for m in range(len(models)):\n",
    "    w = models[m].coef_\n",
    "    b = models[m].intercept_\n",
    "    print(\"Model-{}:\".format(m))\n",
    "    print(\"w:\",w)\n",
    "    print(\"b:\",b)"
   ]
  },
  {
   "cell_type": "code",
   "execution_count": null,
   "id": "96fa4407-8f37-47fd-84a6-ba03ff6849dd",
   "metadata": {},
   "outputs": [],
   "source": []
  }
 ],
 "metadata": {
  "kernelspec": {
   "display_name": "Python 3 (ipykernel)",
   "language": "python",
   "name": "python3"
  },
  "language_info": {
   "codemirror_mode": {
    "name": "ipython",
    "version": 3
   },
   "file_extension": ".py",
   "mimetype": "text/x-python",
   "name": "python",
   "nbconvert_exporter": "python",
   "pygments_lexer": "ipython3",
   "version": "3.11.7"
  }
 },
 "nbformat": 4,
 "nbformat_minor": 5
}
