{
 "cells": [
  {
   "cell_type": "code",
   "execution_count": 1,
   "id": "1f9bd8fb-f80f-487a-a90d-8cdd844d772f",
   "metadata": {},
   "outputs": [],
   "source": [
    "import numpy as np\n",
    "import pandas as pd\n",
    "from scipy import stats"
   ]
  },
  {
   "cell_type": "code",
   "execution_count": null,
   "id": "4edaf82e-1313-4bac-9682-04887f538b4f",
   "metadata": {},
   "outputs": [],
   "source": []
  },
  {
   "cell_type": "markdown",
   "id": "cf912dd4-67fd-463a-b2a1-ada6541f5f17",
   "metadata": {
    "jp-MarkdownHeadingCollapsed": true
   },
   "source": [
    "# Confidence Interval (sigma known)"
   ]
  },
  {
   "cell_type": "markdown",
   "id": "76258227-c313-4a4d-8bea-4738619c8d3d",
   "metadata": {},
   "source": [
    "A community health association is interested in estimating the average number of<br>\n",
    "maternity days women stay in the local hospital. A random sample is taken of<br>\n",
    "36 women who had babies in the hospital during the past year. The following<br>\n",
    "numbers of maternity days each woman was in the hospital are rounded to the<br>\n",
    "nearest day."
   ]
  },
  {
   "cell_type": "code",
   "execution_count": 2,
   "id": "8764837a-5826-4318-afbc-a9efecb61c2a",
   "metadata": {},
   "outputs": [],
   "source": [
    "data = np.array([int(i) for i in '334325314342353243241634335232354354'])"
   ]
  },
  {
   "cell_type": "code",
   "execution_count": 3,
   "id": "25828af7-6a83-4cfe-a1ad-60c8c782e291",
   "metadata": {},
   "outputs": [
    {
     "data": {
      "text/plain": [
       "array([3, 3, 4, 3, 2, 5, 3, 1, 4, 3, 4, 2, 3, 5, 3, 2, 4, 3, 2, 4, 1, 6,\n",
       "       3, 4, 3, 3, 5, 2, 3, 2, 3, 5, 4, 3, 5, 4])"
      ]
     },
     "execution_count": 3,
     "metadata": {},
     "output_type": "execute_result"
    }
   ],
   "source": [
    "data"
   ]
  },
  {
   "cell_type": "code",
   "execution_count": 4,
   "id": "4e49eb28-4600-4bf1-aa91-897bf275291d",
   "metadata": {},
   "outputs": [],
   "source": [
    "n = data.shape[0]"
   ]
  },
  {
   "cell_type": "code",
   "execution_count": 5,
   "id": "377b43c7-c4cf-41c0-bb15-18fd8a6633c5",
   "metadata": {},
   "outputs": [
    {
     "data": {
      "text/plain": [
       "36"
      ]
     },
     "execution_count": 5,
     "metadata": {},
     "output_type": "execute_result"
    }
   ],
   "source": [
    "n"
   ]
  },
  {
   "cell_type": "code",
   "execution_count": 6,
   "id": "cd6df0b5-c4f9-41d8-8359-84b29688fb45",
   "metadata": {},
   "outputs": [],
   "source": [
    "sigma = 1.17"
   ]
  },
  {
   "cell_type": "code",
   "execution_count": 7,
   "id": "40487bfb-662d-45f6-b102-1086da61ece7",
   "metadata": {},
   "outputs": [],
   "source": [
    "z_alpha_2 = stats.norm.ppf(0.01)"
   ]
  },
  {
   "cell_type": "code",
   "execution_count": 8,
   "id": "c8a3fb5d-2b60-4023-985d-f255431b7aad",
   "metadata": {},
   "outputs": [],
   "source": [
    "point_estimate = data.mean()"
   ]
  },
  {
   "cell_type": "code",
   "execution_count": 9,
   "id": "11d92d35-1926-4790-94e7-dadb983d9c66",
   "metadata": {},
   "outputs": [],
   "source": [
    "lower_bound = data.mean()+z_alpha_2*(sigma/np.sqrt(n))"
   ]
  },
  {
   "cell_type": "code",
   "execution_count": 10,
   "id": "aacffad7-df69-46e8-8973-37bfd4fce1be",
   "metadata": {},
   "outputs": [],
   "source": [
    "upper_bound = data.mean()-z_alpha_2*(sigma/np.sqrt(n))"
   ]
  },
  {
   "cell_type": "code",
   "execution_count": 13,
   "id": "c5874814-74bb-4822-a1c7-96b7b6523b8e",
   "metadata": {},
   "outputs": [
    {
     "name": "stdout",
     "output_type": "stream",
     "text": [
      "\n",
      "We are 98% confident that the average number of maternity days women stay\n",
      "in the local hospital for the population is between\n",
      "2.852 <= mu <= 3.759\n",
      "\n"
     ]
    }
   ],
   "source": [
    "print(f'''\n",
    "We are 98% confident that the average number of maternity days women stay\n",
    "in the local hospital for the population is between\n",
    "{round(lower_bound,3)} <= mu <= {round(upper_bound,3)}\n",
    "''')"
   ]
  },
  {
   "cell_type": "markdown",
   "id": "b3abcfbe-e237-435b-9e80-237452b69067",
   "metadata": {},
   "source": [
    "This means that if we were to sample 100 times and construct a 98% confidence interval<br>\n",
    "for each sample, approximately 98 of theese confidence intervals will contain the<br>\n",
    "population mean."
   ]
  },
  {
   "cell_type": "code",
   "execution_count": null,
   "id": "8c66abe0-8d44-4726-8da8-02603027d165",
   "metadata": {},
   "outputs": [],
   "source": []
  },
  {
   "cell_type": "markdown",
   "id": "eee08a10-eec9-48fb-ad36-62ddf3c91067",
   "metadata": {
    "jp-MarkdownHeadingCollapsed": true
   },
   "source": [
    "# Confidence Interval (sigma unknown)"
   ]
  },
  {
   "cell_type": "markdown",
   "id": "b38d8021-9b27-466d-bd58-9870b2150442",
   "metadata": {},
   "source": [
    "In the aerospace industry some companies allow their employees to accumulate extra working hours<br>\n",
    "beyond their 40-hour week. These extra hours sometimes are referred to as green time, orcomp time.<br>\n",
    "<br>\n",
    "Many managers work longer than the eight-hour workday preparing proposals, overseeing crucial tasks,<br> \n",
    "andtaking care of paperwork. Recognition of such overtime is important.<br>\n",
    "<br>\n",
    "Most managers are usually not paid extra for this work, but a record is kept of this time and occasionally<br>\n",
    "the manager is allowed to use some of this comp time as extra leave or vacation time.<br>\n",
    "<br>\n",
    "Suppose a researcher wants to estimate the average amount of comp time accumulated per week for managers<br>\n",
    "in the aerospace industry.<br>\n",
    "<br>\n",
    "He randomly samples 18 managers and measures the amount of extra time<br>\n",
    "they work during a specific week and obtains the results shown (in hours).<br>"
   ]
  },
  {
   "cell_type": "code",
   "execution_count": 14,
   "id": "2c4aa215-8610-44c3-8c54-72047235d7ad",
   "metadata": {},
   "outputs": [],
   "source": [
    "extra_time = np.array([6,21,17,20,7,0,8,16,29,3,8,12,11,9,21,25,15,16])"
   ]
  },
  {
   "cell_type": "markdown",
   "id": "da81c2f6-ff67-483c-a9e6-4fddebf4875c",
   "metadata": {},
   "source": [
    "Let's assume that the comp time is normally distributed in the population."
   ]
  },
  {
   "cell_type": "code",
   "execution_count": 15,
   "id": "830c6029-c8e3-438e-a074-c592f87ae436",
   "metadata": {},
   "outputs": [
    {
     "data": {
      "text/plain": [
       "18"
      ]
     },
     "execution_count": 15,
     "metadata": {},
     "output_type": "execute_result"
    }
   ],
   "source": [
    "extra_time.shape[0]"
   ]
  },
  {
   "cell_type": "code",
   "execution_count": 16,
   "id": "415894f9-8f24-4fc7-a4cd-745e15b4dea9",
   "metadata": {},
   "outputs": [],
   "source": [
    "df = extra_time.shape[0] - 1"
   ]
  },
  {
   "cell_type": "code",
   "execution_count": 17,
   "id": "46e42903-5561-4612-aa25-3f8eadb006d3",
   "metadata": {},
   "outputs": [],
   "source": [
    "t_alpha_2 = stats.t.ppf(0.05,df)"
   ]
  },
  {
   "cell_type": "code",
   "execution_count": 18,
   "id": "98879679-e0ba-4bc7-a0e5-5bbd67c7ade0",
   "metadata": {},
   "outputs": [
    {
     "data": {
      "text/plain": [
       "-1.7396067260750676"
      ]
     },
     "execution_count": 18,
     "metadata": {},
     "output_type": "execute_result"
    }
   ],
   "source": [
    "t_alpha_2"
   ]
  },
  {
   "cell_type": "code",
   "execution_count": 20,
   "id": "9f460c73-0f10-49a4-8cf8-785e11c259f8",
   "metadata": {},
   "outputs": [],
   "source": [
    "point_estimate = extra_time.mean()"
   ]
  },
  {
   "cell_type": "code",
   "execution_count": 23,
   "id": "dd36cab5-8ce5-4328-8078-93a0a8b341ae",
   "metadata": {},
   "outputs": [],
   "source": [
    "s = extra_time.std(ddof=1)"
   ]
  },
  {
   "cell_type": "code",
   "execution_count": 24,
   "id": "dc7da0f4-8ab5-4d23-b493-88b1e49d6999",
   "metadata": {},
   "outputs": [],
   "source": [
    "margin_of_error = t_alpha_2*(s/np.sqrt(extra_time.shape[0]))"
   ]
  },
  {
   "cell_type": "code",
   "execution_count": 26,
   "id": "e703f160-4917-4316-8ba8-c43e57a50f6d",
   "metadata": {},
   "outputs": [],
   "source": [
    "lower_bound = point_estimate + margin_of_error"
   ]
  },
  {
   "cell_type": "code",
   "execution_count": 27,
   "id": "b250cd75-540b-43a4-af41-0cc98ee84126",
   "metadata": {},
   "outputs": [],
   "source": [
    "upper_bound = point_estimate - margin_of_error"
   ]
  },
  {
   "cell_type": "code",
   "execution_count": 28,
   "id": "37de54b0-597a-4505-9cd4-070cc4d695d6",
   "metadata": {},
   "outputs": [
    {
     "name": "stdout",
     "output_type": "stream",
     "text": [
      "\n",
      "We are 90% confident that the average amount of \n",
      "comp time accumulated by a manager per week in this industry is between\n",
      "10.357 <= mu <= 16.754\n",
      "\n"
     ]
    }
   ],
   "source": [
    "print(f'''\n",
    "We are 90% confident that the average amount of \n",
    "comp time accumulated by a manager per week in this industry is between\n",
    "{round(lower_bound,3)} <= mu <= {round(upper_bound,3)}\n",
    "''')"
   ]
  },
  {
   "cell_type": "markdown",
   "id": "40ddd511-fa48-4841-8789-4ae31487d73b",
   "metadata": {},
   "source": [
    "**Possible use cases:**<br>\n",
    "<br>\n",
    "From these figures:\n",
    "1. aerospace managers could attempt to build a reward system for such extra work \n",
    "2. evaluate the regular 40-hour week to determine how to use the normal work hours more effectively and thus reduce comp time"
   ]
  },
  {
   "cell_type": "code",
   "execution_count": null,
   "id": "85a39071-2e0d-4f8a-8e55-af00637dc203",
   "metadata": {},
   "outputs": [],
   "source": []
  },
  {
   "cell_type": "markdown",
   "id": "f2fa7b41-bb02-42de-89f6-6737ffadbf56",
   "metadata": {
    "jp-MarkdownHeadingCollapsed": true
   },
   "source": [
    "# Estimating the Population Proportion"
   ]
  },
  {
   "cell_type": "markdown",
   "id": "86522011-e4d3-49de-959a-0a886a38f790",
   "metadata": {},
   "source": [
    "<div>\n",
    "    <img src='./images/inferential1.png' width=800>\n",
    "</div>"
   ]
  },
  {
   "cell_type": "code",
   "execution_count": 31,
   "id": "7d22b95b-0948-4b15-9e4d-201f8b5d9d47",
   "metadata": {},
   "outputs": [],
   "source": [
    "n = 212\n",
    "p_hat = 34/212\n",
    "q_hat = 1-p_hat"
   ]
  },
  {
   "cell_type": "code",
   "execution_count": 32,
   "id": "1b2f0479-bdc9-4193-bc57-0fefda1c0c51",
   "metadata": {},
   "outputs": [],
   "source": [
    "z_alpha_2 = stats.norm.ppf(0.05)"
   ]
  },
  {
   "cell_type": "code",
   "execution_count": 37,
   "id": "082a45de-d60a-4bb7-ac71-9364436d6db5",
   "metadata": {},
   "outputs": [],
   "source": [
    "margin_of_error = z_alpha_2*np.sqrt((p_hat*q_hat/n))"
   ]
  },
  {
   "cell_type": "code",
   "execution_count": 38,
   "id": "0a84c0a7-d8bd-4c2e-b632-376bb0dd9695",
   "metadata": {},
   "outputs": [],
   "source": [
    "lower_bound = p_hat+margin_of_error"
   ]
  },
  {
   "cell_type": "code",
   "execution_count": 39,
   "id": "6251ce5d-5e23-4286-bfa8-040e512c13de",
   "metadata": {},
   "outputs": [],
   "source": [
    "upper_bound = p_hat-margin_of_error"
   ]
  },
  {
   "cell_type": "code",
   "execution_count": 47,
   "id": "c31e3ce3-3a9b-44ee-baa9-94d4c1c2e50e",
   "metadata": {},
   "outputs": [
    {
     "name": "stdout",
     "output_type": "stream",
     "text": [
      "\n",
      "We can estimate that the population proportion of\n",
      "boot-cut jeans purchases in between 0.12 and 0.2\n",
      "With a confidence level of 90%\n",
      "\n"
     ]
    }
   ],
   "source": [
    "print(f'''\n",
    "We can estimate that the population proportion of\n",
    "boot-cut jeans purchases in between {round(lower_bound,2)} and {round(upper_bound,2)}\n",
    "With a confidence level of 90%\n",
    "''')"
   ]
  },
  {
   "cell_type": "markdown",
   "id": "a3d87eea-a158-4ad9-95fa-eb44c16e7066",
   "metadata": {},
   "source": [
    "As the estimated population is quiet low, we might want to improve the design of boot-cut jeans or replace it with a more trending style of jeans that appeal to the younger population."
   ]
  },
  {
   "cell_type": "code",
   "execution_count": null,
   "id": "a653895a-c0d8-4cbd-9443-388bffbcbc32",
   "metadata": {},
   "outputs": [],
   "source": []
  }
 ],
 "metadata": {
  "kernelspec": {
   "display_name": "Python 3 (ipykernel)",
   "language": "python",
   "name": "python3"
  },
  "language_info": {
   "codemirror_mode": {
    "name": "ipython",
    "version": 3
   },
   "file_extension": ".py",
   "mimetype": "text/x-python",
   "name": "python",
   "nbconvert_exporter": "python",
   "pygments_lexer": "ipython3",
   "version": "3.11.7"
  }
 },
 "nbformat": 4,
 "nbformat_minor": 5
}
