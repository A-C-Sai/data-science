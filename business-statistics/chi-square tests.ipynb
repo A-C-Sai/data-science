{
 "cells": [
  {
   "cell_type": "code",
   "execution_count": 1,
   "id": "9be9da82-1d87-4848-9b20-bf3544319f6d",
   "metadata": {},
   "outputs": [],
   "source": [
    "import numpy as np\n",
    "import pandas as pd\n",
    "import pingouin as pin"
   ]
  },
  {
   "cell_type": "code",
   "execution_count": 57,
   "id": "412914f7-4a83-4625-b177-a64e28a72f1e",
   "metadata": {},
   "outputs": [],
   "source": [
    "import opendatasets as od"
   ]
  },
  {
   "cell_type": "markdown",
   "id": "6830bef8-97be-49a9-95c0-78fe5bfbe15e",
   "metadata": {
    "jp-MarkdownHeadingCollapsed": true
   },
   "source": [
    "# Chi-square Test Of Independence"
   ]
  },
  {
   "cell_type": "code",
   "execution_count": 58,
   "id": "e6fb1f17-a03f-48c6-baeb-7783a029fdd6",
   "metadata": {},
   "outputs": [
    {
     "name": "stdout",
     "output_type": "stream",
     "text": [
      "Please provide your Kaggle credentials to download this dataset. Learn more: http://bit.ly/kaggle-creds\n",
      "Your Kaggle username:"
     ]
    },
    {
     "name": "stdin",
     "output_type": "stream",
     "text": [
      "  saicakella\n"
     ]
    },
    {
     "name": "stdout",
     "output_type": "stream",
     "text": [
      "Your Kaggle Key:"
     ]
    },
    {
     "name": "stdin",
     "output_type": "stream",
     "text": [
      "  ········\n"
     ]
    },
    {
     "name": "stdout",
     "output_type": "stream",
     "text": [
      "Dataset URL: https://www.kaggle.com/datasets/anandshaw2001/customer-churn-dataset\n",
      "Downloading customer-churn-dataset.zip to ./customer-churn-dataset\n"
     ]
    },
    {
     "name": "stderr",
     "output_type": "stream",
     "text": [
      "100%|██████████| 262k/262k [00:00<00:00, 290kB/s]"
     ]
    },
    {
     "name": "stdout",
     "output_type": "stream",
     "text": [
      "\n"
     ]
    },
    {
     "name": "stderr",
     "output_type": "stream",
     "text": [
      "\n"
     ]
    }
   ],
   "source": [
    "od.download('https://www.kaggle.com/datasets/anandshaw2001/customer-churn-dataset/data') "
   ]
  },
  {
   "cell_type": "code",
   "execution_count": null,
   "id": "3875d22a-3b3f-494b-9fb7-da148ba7a594",
   "metadata": {},
   "outputs": [],
   "source": []
  },
  {
   "cell_type": "code",
   "execution_count": 59,
   "id": "ec5f8988-30c7-425e-bfe9-59c6c7825bc6",
   "metadata": {},
   "outputs": [
    {
     "data": {
      "text/html": [
       "<div>\n",
       "<style scoped>\n",
       "    .dataframe tbody tr th:only-of-type {\n",
       "        vertical-align: middle;\n",
       "    }\n",
       "\n",
       "    .dataframe tbody tr th {\n",
       "        vertical-align: top;\n",
       "    }\n",
       "\n",
       "    .dataframe thead th {\n",
       "        text-align: right;\n",
       "    }\n",
       "</style>\n",
       "<table border=\"1\" class=\"dataframe\">\n",
       "  <thead>\n",
       "    <tr style=\"text-align: right;\">\n",
       "      <th></th>\n",
       "      <th>RowNumber</th>\n",
       "      <th>CustomerId</th>\n",
       "      <th>Surname</th>\n",
       "      <th>CreditScore</th>\n",
       "      <th>Geography</th>\n",
       "      <th>Gender</th>\n",
       "      <th>Age</th>\n",
       "      <th>Tenure</th>\n",
       "      <th>Balance</th>\n",
       "      <th>NumOfProducts</th>\n",
       "      <th>HasCrCard</th>\n",
       "      <th>IsActiveMember</th>\n",
       "      <th>EstimatedSalary</th>\n",
       "      <th>Exited</th>\n",
       "    </tr>\n",
       "  </thead>\n",
       "  <tbody>\n",
       "    <tr>\n",
       "      <th>0</th>\n",
       "      <td>1</td>\n",
       "      <td>15634602</td>\n",
       "      <td>Hargrave</td>\n",
       "      <td>619</td>\n",
       "      <td>France</td>\n",
       "      <td>Female</td>\n",
       "      <td>42</td>\n",
       "      <td>2</td>\n",
       "      <td>0.00</td>\n",
       "      <td>1</td>\n",
       "      <td>1</td>\n",
       "      <td>1</td>\n",
       "      <td>101348.88</td>\n",
       "      <td>1</td>\n",
       "    </tr>\n",
       "    <tr>\n",
       "      <th>1</th>\n",
       "      <td>2</td>\n",
       "      <td>15647311</td>\n",
       "      <td>Hill</td>\n",
       "      <td>608</td>\n",
       "      <td>Spain</td>\n",
       "      <td>Female</td>\n",
       "      <td>41</td>\n",
       "      <td>1</td>\n",
       "      <td>83807.86</td>\n",
       "      <td>1</td>\n",
       "      <td>0</td>\n",
       "      <td>1</td>\n",
       "      <td>112542.58</td>\n",
       "      <td>0</td>\n",
       "    </tr>\n",
       "    <tr>\n",
       "      <th>2</th>\n",
       "      <td>3</td>\n",
       "      <td>15619304</td>\n",
       "      <td>Onio</td>\n",
       "      <td>502</td>\n",
       "      <td>France</td>\n",
       "      <td>Female</td>\n",
       "      <td>42</td>\n",
       "      <td>8</td>\n",
       "      <td>159660.80</td>\n",
       "      <td>3</td>\n",
       "      <td>1</td>\n",
       "      <td>0</td>\n",
       "      <td>113931.57</td>\n",
       "      <td>1</td>\n",
       "    </tr>\n",
       "    <tr>\n",
       "      <th>3</th>\n",
       "      <td>4</td>\n",
       "      <td>15701354</td>\n",
       "      <td>Boni</td>\n",
       "      <td>699</td>\n",
       "      <td>France</td>\n",
       "      <td>Female</td>\n",
       "      <td>39</td>\n",
       "      <td>1</td>\n",
       "      <td>0.00</td>\n",
       "      <td>2</td>\n",
       "      <td>0</td>\n",
       "      <td>0</td>\n",
       "      <td>93826.63</td>\n",
       "      <td>0</td>\n",
       "    </tr>\n",
       "    <tr>\n",
       "      <th>4</th>\n",
       "      <td>5</td>\n",
       "      <td>15737888</td>\n",
       "      <td>Mitchell</td>\n",
       "      <td>850</td>\n",
       "      <td>Spain</td>\n",
       "      <td>Female</td>\n",
       "      <td>43</td>\n",
       "      <td>2</td>\n",
       "      <td>125510.82</td>\n",
       "      <td>1</td>\n",
       "      <td>1</td>\n",
       "      <td>1</td>\n",
       "      <td>79084.10</td>\n",
       "      <td>0</td>\n",
       "    </tr>\n",
       "  </tbody>\n",
       "</table>\n",
       "</div>"
      ],
      "text/plain": [
       "   RowNumber  CustomerId   Surname  CreditScore Geography  Gender  Age  \\\n",
       "0          1    15634602  Hargrave          619    France  Female   42   \n",
       "1          2    15647311      Hill          608     Spain  Female   41   \n",
       "2          3    15619304      Onio          502    France  Female   42   \n",
       "3          4    15701354      Boni          699    France  Female   39   \n",
       "4          5    15737888  Mitchell          850     Spain  Female   43   \n",
       "\n",
       "   Tenure    Balance  NumOfProducts  HasCrCard  IsActiveMember  \\\n",
       "0       2       0.00              1          1               1   \n",
       "1       1   83807.86              1          0               1   \n",
       "2       8  159660.80              3          1               0   \n",
       "3       1       0.00              2          0               0   \n",
       "4       2  125510.82              1          1               1   \n",
       "\n",
       "   EstimatedSalary  Exited  \n",
       "0        101348.88       1  \n",
       "1        112542.58       0  \n",
       "2        113931.57       1  \n",
       "3         93826.63       0  \n",
       "4         79084.10       0  "
      ]
     },
     "execution_count": 59,
     "metadata": {},
     "output_type": "execute_result"
    }
   ],
   "source": [
    "churn = pd.read_csv('./customer-churn-dataset/Churn_Modelling.csv')\n",
    "churn.head()"
   ]
  },
  {
   "cell_type": "code",
   "execution_count": 71,
   "id": "bf7538a1-5718-40e2-8f90-3fd7d86feb9f",
   "metadata": {},
   "outputs": [],
   "source": [
    "import seaborn as sns"
   ]
  },
  {
   "cell_type": "code",
   "execution_count": 73,
   "id": "7d07c7e5-22e1-4bed-8bc6-9cd1e6d78e07",
   "metadata": {},
   "outputs": [
    {
     "data": {
      "text/plain": [
       "<Axes: xlabel='Exited', ylabel='count'>"
      ]
     },
     "execution_count": 73,
     "metadata": {},
     "output_type": "execute_result"
    },
    {
     "data": {
      "image/png": "[encoded data removed]",
      "text/plain": [
       "<Figure size 640x480 with 1 Axes>"
      ]
     },
     "metadata": {},
     "output_type": "display_data"
    }
   ],
   "source": [
    "sns.countplot(churn,x='Exited',hue='IsActiveMember')"
   ]
  },
  {
   "cell_type": "code",
   "execution_count": null,
   "id": "218eada8-8cf8-44f8-8a88-b015f9aabcf7",
   "metadata": {},
   "outputs": [],
   "source": []
  },
  {
   "cell_type": "markdown",
   "id": "970ef78d-73e2-4eec-aa8d-07b90dcc1799",
   "metadata": {},
   "source": [
    "**Is churn independent of active status?**"
   ]
  },
  {
   "cell_type": "code",
   "execution_count": 74,
   "id": "2a5194aa-5e5d-4027-8041-9e45b5de99ec",
   "metadata": {},
   "outputs": [],
   "source": [
    "test = pin.chi2_independence(churn,'Exited','IsActiveMember')"
   ]
  },
  {
   "cell_type": "code",
   "execution_count": 75,
   "id": "503b1d1a-ce08-44e6-9cf6-bd5f9b0596fb",
   "metadata": {},
   "outputs": [
    {
     "data": {
      "text/html": [
       "<div>\n",
       "<style scoped>\n",
       "    .dataframe tbody tr th:only-of-type {\n",
       "        vertical-align: middle;\n",
       "    }\n",
       "\n",
       "    .dataframe tbody tr th {\n",
       "        vertical-align: top;\n",
       "    }\n",
       "\n",
       "    .dataframe thead th {\n",
       "        text-align: right;\n",
       "    }\n",
       "</style>\n",
       "<table border=\"1\" class=\"dataframe\">\n",
       "  <thead>\n",
       "    <tr style=\"text-align: right;\">\n",
       "      <th>IsActiveMember</th>\n",
       "      <th>0</th>\n",
       "      <th>1</th>\n",
       "    </tr>\n",
       "    <tr>\n",
       "      <th>Exited</th>\n",
       "      <th></th>\n",
       "      <th></th>\n",
       "    </tr>\n",
       "  </thead>\n",
       "  <tbody>\n",
       "    <tr>\n",
       "      <th>0</th>\n",
       "      <td>3861.2587</td>\n",
       "      <td>4101.7413</td>\n",
       "    </tr>\n",
       "    <tr>\n",
       "      <th>1</th>\n",
       "      <td>987.7413</td>\n",
       "      <td>1049.2587</td>\n",
       "    </tr>\n",
       "  </tbody>\n",
       "</table>\n",
       "</div>"
      ],
      "text/plain": [
       "IsActiveMember          0          1\n",
       "Exited                              \n",
       "0               3861.2587  4101.7413\n",
       "1                987.7413  1049.2587"
      ]
     },
     "execution_count": 75,
     "metadata": {},
     "output_type": "execute_result"
    }
   ],
   "source": [
    "test[0]"
   ]
  },
  {
   "cell_type": "code",
   "execution_count": 76,
   "id": "e761846e-c506-4fba-af36-b32dd0ad2a5e",
   "metadata": {},
   "outputs": [
    {
     "data": {
      "text/html": [
       "<div>\n",
       "<style scoped>\n",
       "    .dataframe tbody tr th:only-of-type {\n",
       "        vertical-align: middle;\n",
       "    }\n",
       "\n",
       "    .dataframe tbody tr th {\n",
       "        vertical-align: top;\n",
       "    }\n",
       "\n",
       "    .dataframe thead th {\n",
       "        text-align: right;\n",
       "    }\n",
       "</style>\n",
       "<table border=\"1\" class=\"dataframe\">\n",
       "  <thead>\n",
       "    <tr style=\"text-align: right;\">\n",
       "      <th>IsActiveMember</th>\n",
       "      <th>0</th>\n",
       "      <th>1</th>\n",
       "    </tr>\n",
       "    <tr>\n",
       "      <th>Exited</th>\n",
       "      <th></th>\n",
       "      <th></th>\n",
       "    </tr>\n",
       "  </thead>\n",
       "  <tbody>\n",
       "    <tr>\n",
       "      <th>0</th>\n",
       "      <td>3547.5</td>\n",
       "      <td>4415.5</td>\n",
       "    </tr>\n",
       "    <tr>\n",
       "      <th>1</th>\n",
       "      <td>1301.5</td>\n",
       "      <td>735.5</td>\n",
       "    </tr>\n",
       "  </tbody>\n",
       "</table>\n",
       "</div>"
      ],
      "text/plain": [
       "IsActiveMember       0       1\n",
       "Exited                        \n",
       "0               3547.5  4415.5\n",
       "1               1301.5   735.5"
      ]
     },
     "execution_count": 76,
     "metadata": {},
     "output_type": "execute_result"
    }
   ],
   "source": [
    "test[1]"
   ]
  },
  {
   "cell_type": "code",
   "execution_count": 77,
   "id": "197f3930-e1a8-4acb-9062-02b742fbdfde",
   "metadata": {},
   "outputs": [
    {
     "data": {
      "text/html": [
       "<div>\n",
       "<style scoped>\n",
       "    .dataframe tbody tr th:only-of-type {\n",
       "        vertical-align: middle;\n",
       "    }\n",
       "\n",
       "    .dataframe tbody tr th {\n",
       "        vertical-align: top;\n",
       "    }\n",
       "\n",
       "    .dataframe thead th {\n",
       "        text-align: right;\n",
       "    }\n",
       "</style>\n",
       "<table border=\"1\" class=\"dataframe\">\n",
       "  <thead>\n",
       "    <tr style=\"text-align: right;\">\n",
       "      <th></th>\n",
       "      <th>test</th>\n",
       "      <th>lambda</th>\n",
       "      <th>chi2</th>\n",
       "      <th>dof</th>\n",
       "      <th>pval</th>\n",
       "      <th>cramer</th>\n",
       "      <th>power</th>\n",
       "    </tr>\n",
       "  </thead>\n",
       "  <tbody>\n",
       "    <tr>\n",
       "      <th>0</th>\n",
       "      <td>pearson</td>\n",
       "      <td>1.000000</td>\n",
       "      <td>242.985342</td>\n",
       "      <td>1.0</td>\n",
       "      <td>8.785858e-55</td>\n",
       "      <td>0.155880</td>\n",
       "      <td>1.0</td>\n",
       "    </tr>\n",
       "    <tr>\n",
       "      <th>1</th>\n",
       "      <td>cressie-read</td>\n",
       "      <td>0.666667</td>\n",
       "      <td>243.311030</td>\n",
       "      <td>1.0</td>\n",
       "      <td>7.460594e-55</td>\n",
       "      <td>0.155984</td>\n",
       "      <td>1.0</td>\n",
       "    </tr>\n",
       "    <tr>\n",
       "      <th>2</th>\n",
       "      <td>log-likelihood</td>\n",
       "      <td>0.000000</td>\n",
       "      <td>245.039497</td>\n",
       "      <td>1.0</td>\n",
       "      <td>3.132684e-55</td>\n",
       "      <td>0.156537</td>\n",
       "      <td>1.0</td>\n",
       "    </tr>\n",
       "    <tr>\n",
       "      <th>3</th>\n",
       "      <td>freeman-tukey</td>\n",
       "      <td>-0.500000</td>\n",
       "      <td>247.308133</td>\n",
       "      <td>1.0</td>\n",
       "      <td>1.003006e-55</td>\n",
       "      <td>0.157260</td>\n",
       "      <td>1.0</td>\n",
       "    </tr>\n",
       "    <tr>\n",
       "      <th>4</th>\n",
       "      <td>mod-log-likelihood</td>\n",
       "      <td>-1.000000</td>\n",
       "      <td>250.448325</td>\n",
       "      <td>1.0</td>\n",
       "      <td>2.073486e-56</td>\n",
       "      <td>0.158256</td>\n",
       "      <td>1.0</td>\n",
       "    </tr>\n",
       "    <tr>\n",
       "      <th>5</th>\n",
       "      <td>neyman</td>\n",
       "      <td>-2.000000</td>\n",
       "      <td>259.531960</td>\n",
       "      <td>1.0</td>\n",
       "      <td>2.170391e-58</td>\n",
       "      <td>0.161100</td>\n",
       "      <td>1.0</td>\n",
       "    </tr>\n",
       "  </tbody>\n",
       "</table>\n",
       "</div>"
      ],
      "text/plain": [
       "                 test    lambda        chi2  dof          pval    cramer  \\\n",
       "0             pearson  1.000000  242.985342  1.0  8.785858e-55  0.155880   \n",
       "1        cressie-read  0.666667  243.311030  1.0  7.460594e-55  0.155984   \n",
       "2      log-likelihood  0.000000  245.039497  1.0  3.132684e-55  0.156537   \n",
       "3       freeman-tukey -0.500000  247.308133  1.0  1.003006e-55  0.157260   \n",
       "4  mod-log-likelihood -1.000000  250.448325  1.0  2.073486e-56  0.158256   \n",
       "5              neyman -2.000000  259.531960  1.0  2.170391e-58  0.161100   \n",
       "\n",
       "   power  \n",
       "0    1.0  \n",
       "1    1.0  \n",
       "2    1.0  \n",
       "3    1.0  \n",
       "4    1.0  \n",
       "5    1.0  "
      ]
     },
     "execution_count": 77,
     "metadata": {},
     "output_type": "execute_result"
    }
   ],
   "source": [
    "test[2]"
   ]
  },
  {
   "cell_type": "markdown",
   "id": "413310f9-af96-4e5d-9218-c57e353015d1",
   "metadata": {},
   "source": [
    "**The test indicates that there is a strong relation between the customer's active status and their churn status**"
   ]
  },
  {
   "cell_type": "code",
   "execution_count": null,
   "id": "0719f2e6-9b5f-4276-ba13-2031c647c48a",
   "metadata": {},
   "outputs": [],
   "source": []
  },
  {
   "cell_type": "markdown",
   "id": "6731b2b1-9af8-4a11-a831-6f65a9656e1f",
   "metadata": {
    "jp-MarkdownHeadingCollapsed": true
   },
   "source": [
    "# Chi-square Goodness-Of-Fit"
   ]
  },
  {
   "cell_type": "markdown",
   "id": "b22b1cf9-2045-467a-af02-ba35fffe4bf2",
   "metadata": {},
   "source": [
    "<div>\n",
    "    <img src='./images/chi2.png' width=700>\n",
    "</div>"
   ]
  },
  {
   "cell_type": "code",
   "execution_count": 87,
   "id": "b10fb4d8-9bed-423d-8021-173e44a35baa",
   "metadata": {},
   "outputs": [
    {
     "data": {
      "text/html": [
       "<div>\n",
       "<style scoped>\n",
       "    .dataframe tbody tr th:only-of-type {\n",
       "        vertical-align: middle;\n",
       "    }\n",
       "\n",
       "    .dataframe tbody tr th {\n",
       "        vertical-align: top;\n",
       "    }\n",
       "\n",
       "    .dataframe thead th {\n",
       "        text-align: right;\n",
       "    }\n",
       "</style>\n",
       "<table border=\"1\" class=\"dataframe\">\n",
       "  <thead>\n",
       "    <tr style=\"text-align: right;\">\n",
       "      <th></th>\n",
       "      <th>observed</th>\n",
       "    </tr>\n",
       "  </thead>\n",
       "  <tbody>\n",
       "    <tr>\n",
       "      <th>0</th>\n",
       "      <td>7</td>\n",
       "    </tr>\n",
       "    <tr>\n",
       "      <th>1</th>\n",
       "      <td>18</td>\n",
       "    </tr>\n",
       "    <tr>\n",
       "      <th>2</th>\n",
       "      <td>25</td>\n",
       "    </tr>\n",
       "    <tr>\n",
       "      <th>3</th>\n",
       "      <td>17</td>\n",
       "    </tr>\n",
       "    <tr>\n",
       "      <th>4</th>\n",
       "      <td>12</td>\n",
       "    </tr>\n",
       "    <tr>\n",
       "      <th>5</th>\n",
       "      <td>5</td>\n",
       "    </tr>\n",
       "  </tbody>\n",
       "</table>\n",
       "</div>"
      ],
      "text/plain": [
       "   observed\n",
       "0         7\n",
       "1        18\n",
       "2        25\n",
       "3        17\n",
       "4        12\n",
       "5         5"
      ]
     },
     "execution_count": 87,
     "metadata": {},
     "output_type": "execute_result"
    }
   ],
   "source": [
    "arrivals = pd.DataFrame({'observed':[7,18,25,17,12,5]})\n",
    "arrivals"
   ]
  },
  {
   "cell_type": "markdown",
   "id": "91e476e7-6829-48d3-859e-ac779fde644a",
   "metadata": {},
   "source": [
    "H0: The frequency distribution is Poisson<br>\n",
    "H1: The frequency distribution is not Poisson"
   ]
  },
  {
   "cell_type": "markdown",
   "id": "2e2fceca-906b-4038-bf0b-3359db970e03",
   "metadata": {},
   "source": [
    "The degrees of freedom are k - 2 = 6 - 1 - 1 = 4 because the expected distribution is Poisson.<br>\n",
    "An extra degree of freedom is lost, because the value of lambdamust be calculated by using the observed sample data"
   ]
  },
  {
   "cell_type": "code",
   "execution_count": 83,
   "id": "9d68aec4-695b-4986-90ab-3cb6c1e8f748",
   "metadata": {},
   "outputs": [],
   "source": [
    "df = 4\n",
    "alpha = 0.05"
   ]
  },
  {
   "cell_type": "code",
   "execution_count": 84,
   "id": "c0d1734b-ba14-4916-ad9e-e173ce913453",
   "metadata": {},
   "outputs": [],
   "source": [
    "from scipy import stats"
   ]
  },
  {
   "cell_type": "code",
   "execution_count": 85,
   "id": "57ab863b-ab2d-41c9-9800-03e7420a1a9b",
   "metadata": {},
   "outputs": [
    {
     "data": {
      "text/plain": [
       "9.487729036781154"
      ]
     },
     "execution_count": 85,
     "metadata": {},
     "output_type": "execute_result"
    }
   ],
   "source": [
    "critical_value = stats.chi2.ppf(1-alpha,df)\n",
    "critical_value"
   ]
  },
  {
   "cell_type": "markdown",
   "id": "81f38d1d-e766-497e-8609-fdc5db16b98e",
   "metadata": {},
   "source": [
    "**The decision rule is to reject the null hypothesis if the\n",
    "observed chi-square is greater than the critical_value**"
   ]
  },
  {
   "cell_type": "code",
   "execution_count": 86,
   "id": "478a3b69-c071-40b6-b451-ecbce49f511d",
   "metadata": {},
   "outputs": [
    {
     "data": {
      "text/plain": [
       "2.2857142857142856"
      ]
     },
     "execution_count": 86,
     "metadata": {},
     "output_type": "execute_result"
    }
   ],
   "source": [
    "lambda_ = ((0*7)+(1*18)+(2*25)+(3*17)+(4*12)+(5*5)) / (7+18+25+17+12+5)\n",
    "lambda_"
   ]
  },
  {
   "cell_type": "code",
   "execution_count": 91,
   "id": "7ec7d4c3-ebe8-45df-8159-a48bd483eb9f",
   "metadata": {},
   "outputs": [],
   "source": [
    "expected = [stats.poisson.pmf(0,lambda_)*84,\n",
    "            stats.poisson.pmf(1,lambda_)*84,\n",
    "            stats.poisson.pmf(2,lambda_)*84,\n",
    "            stats.poisson.pmf(3,lambda_)*84,\n",
    "            stats.poisson.pmf(4,lambda_)*84,\n",
    "            (1-stats.poisson.cdf(4,lambda_))*84]"
   ]
  },
  {
   "cell_type": "code",
   "execution_count": 92,
   "id": "8165a36f-f12d-464c-a267-b61269432845",
   "metadata": {},
   "outputs": [
    {
     "data": {
      "text/html": [
       "<div>\n",
       "<style scoped>\n",
       "    .dataframe tbody tr th:only-of-type {\n",
       "        vertical-align: middle;\n",
       "    }\n",
       "\n",
       "    .dataframe tbody tr th {\n",
       "        vertical-align: top;\n",
       "    }\n",
       "\n",
       "    .dataframe thead th {\n",
       "        text-align: right;\n",
       "    }\n",
       "</style>\n",
       "<table border=\"1\" class=\"dataframe\">\n",
       "  <thead>\n",
       "    <tr style=\"text-align: right;\">\n",
       "      <th></th>\n",
       "      <th>observed</th>\n",
       "      <th>expected</th>\n",
       "    </tr>\n",
       "  </thead>\n",
       "  <tbody>\n",
       "    <tr>\n",
       "      <th>0</th>\n",
       "      <td>7</td>\n",
       "      <td>8.542917</td>\n",
       "    </tr>\n",
       "    <tr>\n",
       "      <th>1</th>\n",
       "      <td>18</td>\n",
       "      <td>19.526667</td>\n",
       "    </tr>\n",
       "    <tr>\n",
       "      <th>2</th>\n",
       "      <td>25</td>\n",
       "      <td>22.316191</td>\n",
       "    </tr>\n",
       "    <tr>\n",
       "      <th>3</th>\n",
       "      <td>17</td>\n",
       "      <td>17.002812</td>\n",
       "    </tr>\n",
       "    <tr>\n",
       "      <th>4</th>\n",
       "      <td>12</td>\n",
       "      <td>9.715893</td>\n",
       "    </tr>\n",
       "    <tr>\n",
       "      <th>5</th>\n",
       "      <td>5</td>\n",
       "      <td>6.895519</td>\n",
       "    </tr>\n",
       "  </tbody>\n",
       "</table>\n",
       "</div>"
      ],
      "text/plain": [
       "   observed   expected\n",
       "0         7   8.542917\n",
       "1        18  19.526667\n",
       "2        25  22.316191\n",
       "3        17  17.002812\n",
       "4        12   9.715893\n",
       "5         5   6.895519"
      ]
     },
     "execution_count": 92,
     "metadata": {},
     "output_type": "execute_result"
    }
   ],
   "source": [
    "arrivals.insert(1,'expected',expected)\n",
    "arrivals"
   ]
  },
  {
   "cell_type": "code",
   "execution_count": 94,
   "id": "cabcd4a8-55b4-4dbf-8da1-8bf68bc4df1b",
   "metadata": {},
   "outputs": [
    {
     "data": {
      "text/plain": [
       "84"
      ]
     },
     "execution_count": 94,
     "metadata": {},
     "output_type": "execute_result"
    }
   ],
   "source": [
    "arrivals.observed.sum()"
   ]
  },
  {
   "cell_type": "code",
   "execution_count": 95,
   "id": "f3d92aef-3c53-43b3-b17f-e441c7aed9c8",
   "metadata": {},
   "outputs": [
    {
     "data": {
      "text/plain": [
       "84.0"
      ]
     },
     "execution_count": 95,
     "metadata": {},
     "output_type": "execute_result"
    }
   ],
   "source": [
    "arrivals.expected.sum()"
   ]
  },
  {
   "cell_type": "code",
   "execution_count": 96,
   "id": "f5e27555-9751-4767-90c5-b8e2bf098bb5",
   "metadata": {},
   "outputs": [
    {
     "data": {
      "text/html": [
       "<div>\n",
       "<style scoped>\n",
       "    .dataframe tbody tr th:only-of-type {\n",
       "        vertical-align: middle;\n",
       "    }\n",
       "\n",
       "    .dataframe tbody tr th {\n",
       "        vertical-align: top;\n",
       "    }\n",
       "\n",
       "    .dataframe thead th {\n",
       "        text-align: right;\n",
       "    }\n",
       "</style>\n",
       "<table border=\"1\" class=\"dataframe\">\n",
       "  <thead>\n",
       "    <tr style=\"text-align: right;\">\n",
       "      <th></th>\n",
       "      <th>observed</th>\n",
       "      <th>expected</th>\n",
       "      <th>(observed-expected)^2/expected</th>\n",
       "    </tr>\n",
       "  </thead>\n",
       "  <tbody>\n",
       "    <tr>\n",
       "      <th>0</th>\n",
       "      <td>7</td>\n",
       "      <td>8.542917</td>\n",
       "      <td>2.786627e-01</td>\n",
       "    </tr>\n",
       "    <tr>\n",
       "      <th>1</th>\n",
       "      <td>18</td>\n",
       "      <td>19.526667</td>\n",
       "      <td>1.193605e-01</td>\n",
       "    </tr>\n",
       "    <tr>\n",
       "      <th>2</th>\n",
       "      <td>25</td>\n",
       "      <td>22.316191</td>\n",
       "      <td>3.227625e-01</td>\n",
       "    </tr>\n",
       "    <tr>\n",
       "      <th>3</th>\n",
       "      <td>17</td>\n",
       "      <td>17.002812</td>\n",
       "      <td>4.651808e-07</td>\n",
       "    </tr>\n",
       "    <tr>\n",
       "      <th>4</th>\n",
       "      <td>12</td>\n",
       "      <td>9.715893</td>\n",
       "      <td>5.369703e-01</td>\n",
       "    </tr>\n",
       "    <tr>\n",
       "      <th>5</th>\n",
       "      <td>5</td>\n",
       "      <td>6.895519</td>\n",
       "      <td>5.210621e-01</td>\n",
       "    </tr>\n",
       "  </tbody>\n",
       "</table>\n",
       "</div>"
      ],
      "text/plain": [
       "   observed   expected  (observed-expected)^2/expected\n",
       "0         7   8.542917                    2.786627e-01\n",
       "1        18  19.526667                    1.193605e-01\n",
       "2        25  22.316191                    3.227625e-01\n",
       "3        17  17.002812                    4.651808e-07\n",
       "4        12   9.715893                    5.369703e-01\n",
       "5         5   6.895519                    5.210621e-01"
      ]
     },
     "execution_count": 96,
     "metadata": {},
     "output_type": "execute_result"
    }
   ],
   "source": [
    "arrivals['(observed-expected)^2/expected'] = (arrivals.observed-arrivals.expected)**2/arrivals.expected\n",
    "arrivals"
   ]
  },
  {
   "cell_type": "code",
   "execution_count": 105,
   "id": "cc48b230-94db-4036-9711-e5b2e28f249d",
   "metadata": {},
   "outputs": [
    {
     "data": {
      "text/plain": [
       "1.778818596109526"
      ]
     },
     "execution_count": 105,
     "metadata": {},
     "output_type": "execute_result"
    }
   ],
   "source": [
    "test_statistic = arrivals['(observed-expected)^2/expected'].sum()\n",
    "test_statistic"
   ]
  },
  {
   "cell_type": "code",
   "execution_count": null,
   "id": "7d24bffa-406d-419e-bd33-daae3c3b0391",
   "metadata": {},
   "outputs": [],
   "source": []
  },
  {
   "cell_type": "code",
   "execution_count": 106,
   "id": "6a28f175-ced9-4a94-8ae3-653216e67397",
   "metadata": {},
   "outputs": [
    {
     "data": {
      "text/plain": [
       "False"
      ]
     },
     "execution_count": 106,
     "metadata": {},
     "output_type": "execute_result"
    }
   ],
   "source": [
    "test_statistic>critical_value"
   ]
  },
  {
   "cell_type": "code",
   "execution_count": 111,
   "id": "ca7e3bb8-d52b-480d-9fa2-1305fb5c262c",
   "metadata": {},
   "outputs": [
    {
     "data": {
      "text/plain": [
       "0.7763552566905978"
      ]
     },
     "execution_count": 111,
     "metadata": {},
     "output_type": "execute_result"
    }
   ],
   "source": [
    "1-stats.chi2.cdf(test_statistic,df)"
   ]
  },
  {
   "cell_type": "markdown",
   "id": "44974e1f-6767-419e-9d4f-bdf94c12f078",
   "metadata": {},
   "source": [
    "**The observed value of 1.77 is not greater than the critical chi-square<br>\n",
    "value of 9.4877, so the supervisor’s decision is to not reject the null hypothesis. In<br>\n",
    "other words, he fails to reject the hypothesis that the distribution of bank arrivals is<br>\n",
    "Poisson.**"
   ]
  },
  {
   "cell_type": "code",
   "execution_count": 112,
   "id": "d50b0966-1600-4dc3-9f9c-dc80ba52a3de",
   "metadata": {},
   "outputs": [
    {
     "data": {
      "text/plain": [
       "Power_divergenceResult(statistic=1.778818596109526, pvalue=0.1822944629672484)"
      ]
     },
     "execution_count": 112,
     "metadata": {},
     "output_type": "execute_result"
    }
   ],
   "source": [
    "stats.chisquare(arrivals.observed,arrivals.expected,ddof=4)"
   ]
  },
  {
   "cell_type": "code",
   "execution_count": null,
   "id": "3034dbb1-bd4e-44e4-9ebc-8edbb888cfd9",
   "metadata": {},
   "outputs": [],
   "source": []
  }
 ],
 "metadata": {
  "kernelspec": {
   "display_name": "Python 3 (ipykernel)",
   "language": "python",
   "name": "python3"
  },
  "language_info": {
   "codemirror_mode": {
    "name": "ipython",
    "version": 3
   },
   "file_extension": ".py",
   "mimetype": "text/x-python",
   "name": "python",
   "nbconvert_exporter": "python",
   "pygments_lexer": "ipython3",
   "version": "3.11.7"
  }
 },
 "nbformat": 4,
 "nbformat_minor": 5
}
