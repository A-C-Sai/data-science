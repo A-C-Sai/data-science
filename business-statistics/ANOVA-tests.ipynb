{
 "cells": [
  {
   "cell_type": "code",
   "execution_count": 25,
   "id": "927f5fe2-adef-4feb-967f-8e68f569c4f2",
   "metadata": {},
   "outputs": [],
   "source": [
    "import numpy as np\n",
    "import pandas as pd"
   ]
  },
  {
   "cell_type": "code",
   "execution_count": 66,
   "id": "0fa6d7b9-84a9-4549-9382-7778cd5cf292",
   "metadata": {
    "scrolled": true
   },
   "outputs": [
    {
     "name": "stdout",
     "output_type": "stream",
     "text": [
      "Requirement already satisfied: pingouin in /opt/anaconda3/lib/python3.11/site-packages (0.5.4)\n",
      "Requirement already satisfied: numpy in /opt/anaconda3/lib/python3.11/site-packages (from pingouin) (1.26.4)\n",
      "Requirement already satisfied: scipy in /opt/anaconda3/lib/python3.11/site-packages (from pingouin) (1.11.4)\n",
      "Requirement already satisfied: pandas>=1.5 in /opt/anaconda3/lib/python3.11/site-packages (from pingouin) (2.1.4)\n",
      "Requirement already satisfied: matplotlib in /opt/anaconda3/lib/python3.11/site-packages (from pingouin) (3.8.0)\n",
      "Requirement already satisfied: seaborn in /opt/anaconda3/lib/python3.11/site-packages (from pingouin) (0.13.2)\n",
      "Requirement already satisfied: statsmodels in /opt/anaconda3/lib/python3.11/site-packages (from pingouin) (0.14.0)\n",
      "Requirement already satisfied: scikit-learn in /opt/anaconda3/lib/python3.11/site-packages (from pingouin) (1.4.1.post1)\n",
      "Requirement already satisfied: pandas-flavor in /opt/anaconda3/lib/python3.11/site-packages (from pingouin) (0.6.0)\n",
      "Requirement already satisfied: tabulate in /opt/anaconda3/lib/python3.11/site-packages (from pingouin) (0.9.0)\n",
      "Requirement already satisfied: python-dateutil>=2.8.2 in /opt/anaconda3/lib/python3.11/site-packages (from pandas>=1.5->pingouin) (2.8.2)\n",
      "Requirement already satisfied: pytz>=2020.1 in /opt/anaconda3/lib/python3.11/site-packages (from pandas>=1.5->pingouin) (2023.3.post1)\n",
      "Requirement already satisfied: tzdata>=2022.1 in /opt/anaconda3/lib/python3.11/site-packages (from pandas>=1.5->pingouin) (2023.3)\n",
      "Requirement already satisfied: contourpy>=1.0.1 in /opt/anaconda3/lib/python3.11/site-packages (from matplotlib->pingouin) (1.2.0)\n",
      "Requirement already satisfied: cycler>=0.10 in /opt/anaconda3/lib/python3.11/site-packages (from matplotlib->pingouin) (0.11.0)\n",
      "Requirement already satisfied: fonttools>=4.22.0 in /opt/anaconda3/lib/python3.11/site-packages (from matplotlib->pingouin) (4.25.0)\n",
      "Requirement already satisfied: kiwisolver>=1.0.1 in /opt/anaconda3/lib/python3.11/site-packages (from matplotlib->pingouin) (1.4.4)\n",
      "Requirement already satisfied: packaging>=20.0 in /opt/anaconda3/lib/python3.11/site-packages (from matplotlib->pingouin) (23.1)\n",
      "Requirement already satisfied: pillow>=6.2.0 in /opt/anaconda3/lib/python3.11/site-packages (from matplotlib->pingouin) (10.2.0)\n",
      "Requirement already satisfied: pyparsing>=2.3.1 in /opt/anaconda3/lib/python3.11/site-packages (from matplotlib->pingouin) (3.0.9)\n",
      "Requirement already satisfied: xarray in /opt/anaconda3/lib/python3.11/site-packages (from pandas-flavor->pingouin) (2023.6.0)\n",
      "Requirement already satisfied: joblib>=1.2.0 in /opt/anaconda3/lib/python3.11/site-packages (from scikit-learn->pingouin) (1.2.0)\n",
      "Requirement already satisfied: threadpoolctl>=2.0.0 in /opt/anaconda3/lib/python3.11/site-packages (from scikit-learn->pingouin) (2.2.0)\n",
      "Requirement already satisfied: patsy>=0.5.2 in /opt/anaconda3/lib/python3.11/site-packages (from statsmodels->pingouin) (0.5.3)\n",
      "Requirement already satisfied: six in /opt/anaconda3/lib/python3.11/site-packages (from patsy>=0.5.2->statsmodels->pingouin) (1.16.0)\n"
     ]
    }
   ],
   "source": [
    "!pip install pingouin"
   ]
  },
  {
   "cell_type": "code",
   "execution_count": 26,
   "id": "ddd2bd09-475f-44cb-84b6-a8453f96aa91",
   "metadata": {},
   "outputs": [],
   "source": [
    "import pingouin as pin"
   ]
  },
  {
   "cell_type": "code",
   "execution_count": 27,
   "id": "dc40ed3d-00b5-48d4-8b5d-00f0670278a0",
   "metadata": {},
   "outputs": [],
   "source": [
    "import matplotlib.pyplot as plt\n",
    "import seaborn as sns"
   ]
  },
  {
   "cell_type": "markdown",
   "id": "5eea0472-39b4-439d-a1e8-20e02d466fa8",
   "metadata": {},
   "source": [
    "# One-Way ANOVA (Completely Randomized design)"
   ]
  },
  {
   "cell_type": "markdown",
   "id": "113495c3-0913-4355-8056-dfd962a191b5",
   "metadata": {},
   "source": [
    "<div>\n",
    "    <img src='./images/one-way-anova.png' width=800>\n",
    "</div>"
   ]
  },
  {
   "cell_type": "code",
   "execution_count": 28,
   "id": "f7454335-1ac0-41c8-b588-365f3e4ed21b",
   "metadata": {},
   "outputs": [],
   "source": [
    "alpha = 0.01"
   ]
  },
  {
   "cell_type": "code",
   "execution_count": 29,
   "id": "4e6a1ada-38d5-4f72-bcbc-9f401969c29f",
   "metadata": {},
   "outputs": [
    {
     "data": {
      "text/html": [
       "<div>\n",
       "<style scoped>\n",
       "    .dataframe tbody tr th:only-of-type {\n",
       "        vertical-align: middle;\n",
       "    }\n",
       "\n",
       "    .dataframe tbody tr th {\n",
       "        vertical-align: top;\n",
       "    }\n",
       "\n",
       "    .dataframe thead th {\n",
       "        text-align: right;\n",
       "    }\n",
       "</style>\n",
       "<table border=\"1\" class=\"dataframe\">\n",
       "  <thead>\n",
       "    <tr style=\"text-align: right;\">\n",
       "      <th></th>\n",
       "      <th>fill_measures</th>\n",
       "      <th>machine</th>\n",
       "    </tr>\n",
       "  </thead>\n",
       "  <tbody>\n",
       "    <tr>\n",
       "      <th>0</th>\n",
       "      <td>4.05</td>\n",
       "      <td>1</td>\n",
       "    </tr>\n",
       "    <tr>\n",
       "      <th>1</th>\n",
       "      <td>4.01</td>\n",
       "      <td>1</td>\n",
       "    </tr>\n",
       "    <tr>\n",
       "      <th>2</th>\n",
       "      <td>4.02</td>\n",
       "      <td>1</td>\n",
       "    </tr>\n",
       "    <tr>\n",
       "      <th>3</th>\n",
       "      <td>4.04</td>\n",
       "      <td>1</td>\n",
       "    </tr>\n",
       "    <tr>\n",
       "      <th>4</th>\n",
       "      <td>3.99</td>\n",
       "      <td>2</td>\n",
       "    </tr>\n",
       "    <tr>\n",
       "      <th>5</th>\n",
       "      <td>4.02</td>\n",
       "      <td>2</td>\n",
       "    </tr>\n",
       "    <tr>\n",
       "      <th>6</th>\n",
       "      <td>4.01</td>\n",
       "      <td>2</td>\n",
       "    </tr>\n",
       "    <tr>\n",
       "      <th>7</th>\n",
       "      <td>3.99</td>\n",
       "      <td>2</td>\n",
       "    </tr>\n",
       "    <tr>\n",
       "      <th>8</th>\n",
       "      <td>4.00</td>\n",
       "      <td>2</td>\n",
       "    </tr>\n",
       "    <tr>\n",
       "      <th>9</th>\n",
       "      <td>4.00</td>\n",
       "      <td>2</td>\n",
       "    </tr>\n",
       "    <tr>\n",
       "      <th>10</th>\n",
       "      <td>3.97</td>\n",
       "      <td>3</td>\n",
       "    </tr>\n",
       "    <tr>\n",
       "      <th>11</th>\n",
       "      <td>3.98</td>\n",
       "      <td>3</td>\n",
       "    </tr>\n",
       "    <tr>\n",
       "      <th>12</th>\n",
       "      <td>3.97</td>\n",
       "      <td>3</td>\n",
       "    </tr>\n",
       "    <tr>\n",
       "      <th>13</th>\n",
       "      <td>3.95</td>\n",
       "      <td>3</td>\n",
       "    </tr>\n",
       "    <tr>\n",
       "      <th>14</th>\n",
       "      <td>4.00</td>\n",
       "      <td>3</td>\n",
       "    </tr>\n",
       "    <tr>\n",
       "      <th>15</th>\n",
       "      <td>4.00</td>\n",
       "      <td>4</td>\n",
       "    </tr>\n",
       "    <tr>\n",
       "      <th>16</th>\n",
       "      <td>4.02</td>\n",
       "      <td>4</td>\n",
       "    </tr>\n",
       "    <tr>\n",
       "      <th>17</th>\n",
       "      <td>3.99</td>\n",
       "      <td>4</td>\n",
       "    </tr>\n",
       "    <tr>\n",
       "      <th>18</th>\n",
       "      <td>4.01</td>\n",
       "      <td>4</td>\n",
       "    </tr>\n",
       "  </tbody>\n",
       "</table>\n",
       "</div>"
      ],
      "text/plain": [
       "    fill_measures  machine\n",
       "0            4.05        1\n",
       "1            4.01        1\n",
       "2            4.02        1\n",
       "3            4.04        1\n",
       "4            3.99        2\n",
       "5            4.02        2\n",
       "6            4.01        2\n",
       "7            3.99        2\n",
       "8            4.00        2\n",
       "9            4.00        2\n",
       "10           3.97        3\n",
       "11           3.98        3\n",
       "12           3.97        3\n",
       "13           3.95        3\n",
       "14           4.00        3\n",
       "15           4.00        4\n",
       "16           4.02        4\n",
       "17           3.99        4\n",
       "18           4.01        4"
      ]
     },
     "execution_count": 29,
     "metadata": {},
     "output_type": "execute_result"
    }
   ],
   "source": [
    "milk_company = pd.DataFrame({'fill_measures':[4.05,4.01,4.02,4.04,\n",
    "                                              3.99,4.02,4.01,3.99,\n",
    "                                              4.00,4.00,3.97,3.98,\n",
    "                                              3.97,3.95,4.00,4.00,\n",
    "                                              4.02,3.99,4.01],\n",
    "                             'machine':[1,1,1,1,2,2,2,2,2,2,3,3,3,3,3,4,4,4,4]})\n",
    "milk_company"
   ]
  },
  {
   "cell_type": "code",
   "execution_count": 30,
   "id": "9449e6df-6a38-468c-93da-ed3d36221877",
   "metadata": {},
   "outputs": [
    {
     "data": {
      "text/html": [
       "<div>\n",
       "<style scoped>\n",
       "    .dataframe tbody tr th:only-of-type {\n",
       "        vertical-align: middle;\n",
       "    }\n",
       "\n",
       "    .dataframe tbody tr th {\n",
       "        vertical-align: top;\n",
       "    }\n",
       "\n",
       "    .dataframe thead th {\n",
       "        text-align: right;\n",
       "    }\n",
       "</style>\n",
       "<table border=\"1\" class=\"dataframe\">\n",
       "  <thead>\n",
       "    <tr style=\"text-align: right;\">\n",
       "      <th></th>\n",
       "      <th>Source</th>\n",
       "      <th>SS</th>\n",
       "      <th>DF</th>\n",
       "      <th>MS</th>\n",
       "      <th>F</th>\n",
       "      <th>p-unc</th>\n",
       "      <th>np2</th>\n",
       "    </tr>\n",
       "  </thead>\n",
       "  <tbody>\n",
       "    <tr>\n",
       "      <th>0</th>\n",
       "      <td>machine</td>\n",
       "      <td>0.007076</td>\n",
       "      <td>3</td>\n",
       "      <td>0.002359</td>\n",
       "      <td>10.098403</td>\n",
       "      <td>0.000685</td>\n",
       "      <td>0.668839</td>\n",
       "    </tr>\n",
       "    <tr>\n",
       "      <th>1</th>\n",
       "      <td>Within</td>\n",
       "      <td>0.003503</td>\n",
       "      <td>15</td>\n",
       "      <td>0.000234</td>\n",
       "      <td>NaN</td>\n",
       "      <td>NaN</td>\n",
       "      <td>NaN</td>\n",
       "    </tr>\n",
       "  </tbody>\n",
       "</table>\n",
       "</div>"
      ],
      "text/plain": [
       "    Source        SS  DF        MS          F     p-unc       np2\n",
       "0  machine  0.007076   3  0.002359  10.098403  0.000685  0.668839\n",
       "1   Within  0.003503  15  0.000234        NaN       NaN       NaN"
      ]
     },
     "execution_count": 30,
     "metadata": {},
     "output_type": "execute_result"
    }
   ],
   "source": [
    "test = pin.anova(milk_company,'fill_measures','machine',detailed=True)\n",
    "test"
   ]
  },
  {
   "cell_type": "code",
   "execution_count": 31,
   "id": "1e5dfc9f-8ad3-4dce-b9ac-db2120ed0fd5",
   "metadata": {},
   "outputs": [
    {
     "data": {
      "text/plain": [
       "True"
      ]
     },
     "execution_count": 31,
     "metadata": {},
     "output_type": "execute_result"
    }
   ],
   "source": [
    "test['p-unc'][0]<alpha"
   ]
  },
  {
   "cell_type": "markdown",
   "id": "f54ff803-1d36-4cf6-baad-b3541d925018",
   "metadata": {},
   "source": [
    "**Since the p value is less that alpha, we reject the null hypothesis, indicating at least<br>\n",
    "one of the machines average fill is different.**"
   ]
  },
  {
   "cell_type": "code",
   "execution_count": null,
   "id": "9e8e8627-94ce-4e46-afc3-867602be9880",
   "metadata": {},
   "outputs": [],
   "source": []
  },
  {
   "cell_type": "code",
   "execution_count": 32,
   "id": "9d00193a-09d3-43fd-a98b-6c1d64169a62",
   "metadata": {},
   "outputs": [
    {
     "data": {
      "text/html": [
       "<div>\n",
       "<style scoped>\n",
       "    .dataframe tbody tr th:only-of-type {\n",
       "        vertical-align: middle;\n",
       "    }\n",
       "\n",
       "    .dataframe tbody tr th {\n",
       "        vertical-align: top;\n",
       "    }\n",
       "\n",
       "    .dataframe thead th {\n",
       "        text-align: right;\n",
       "    }\n",
       "</style>\n",
       "<table border=\"1\" class=\"dataframe\">\n",
       "  <thead>\n",
       "    <tr style=\"text-align: right;\">\n",
       "      <th></th>\n",
       "      <th>sepal_length</th>\n",
       "      <th>sepal_width</th>\n",
       "      <th>petal_length</th>\n",
       "      <th>petal_width</th>\n",
       "      <th>species</th>\n",
       "    </tr>\n",
       "  </thead>\n",
       "  <tbody>\n",
       "    <tr>\n",
       "      <th>0</th>\n",
       "      <td>5.1</td>\n",
       "      <td>3.5</td>\n",
       "      <td>1.4</td>\n",
       "      <td>0.2</td>\n",
       "      <td>setosa</td>\n",
       "    </tr>\n",
       "    <tr>\n",
       "      <th>1</th>\n",
       "      <td>4.9</td>\n",
       "      <td>3.0</td>\n",
       "      <td>1.4</td>\n",
       "      <td>0.2</td>\n",
       "      <td>setosa</td>\n",
       "    </tr>\n",
       "    <tr>\n",
       "      <th>2</th>\n",
       "      <td>4.7</td>\n",
       "      <td>3.2</td>\n",
       "      <td>1.3</td>\n",
       "      <td>0.2</td>\n",
       "      <td>setosa</td>\n",
       "    </tr>\n",
       "    <tr>\n",
       "      <th>3</th>\n",
       "      <td>4.6</td>\n",
       "      <td>3.1</td>\n",
       "      <td>1.5</td>\n",
       "      <td>0.2</td>\n",
       "      <td>setosa</td>\n",
       "    </tr>\n",
       "    <tr>\n",
       "      <th>4</th>\n",
       "      <td>5.0</td>\n",
       "      <td>3.6</td>\n",
       "      <td>1.4</td>\n",
       "      <td>0.2</td>\n",
       "      <td>setosa</td>\n",
       "    </tr>\n",
       "  </tbody>\n",
       "</table>\n",
       "</div>"
      ],
      "text/plain": [
       "   sepal_length  sepal_width  petal_length  petal_width species\n",
       "0           5.1          3.5           1.4          0.2  setosa\n",
       "1           4.9          3.0           1.4          0.2  setosa\n",
       "2           4.7          3.2           1.3          0.2  setosa\n",
       "3           4.6          3.1           1.5          0.2  setosa\n",
       "4           5.0          3.6           1.4          0.2  setosa"
      ]
     },
     "execution_count": 32,
     "metadata": {},
     "output_type": "execute_result"
    }
   ],
   "source": [
    "iris = sns.load_dataset('iris').dropna()\n",
    "iris.head()"
   ]
  },
  {
   "cell_type": "code",
   "execution_count": 37,
   "id": "59b52b96-8665-4245-891c-3af132bfec30",
   "metadata": {},
   "outputs": [
    {
     "data": {
      "image/png": "[encoded data removed]",
      "text/plain": [
       "<Figure size 1117.75x1000 with 14 Axes>"
      ]
     },
     "metadata": {},
     "output_type": "display_data"
    }
   ],
   "source": [
    "sns.pairplot(iris,hue='species',corner=True)\n",
    "plt.show()"
   ]
  },
  {
   "cell_type": "code",
   "execution_count": null,
   "id": "102c77c8-8b51-491e-8ee3-a9a59c680236",
   "metadata": {},
   "outputs": [],
   "source": []
  },
  {
   "cell_type": "code",
   "execution_count": 38,
   "id": "20eea93c-0d71-4af8-9653-71ba58380d81",
   "metadata": {},
   "outputs": [
    {
     "data": {
      "text/html": [
       "<div>\n",
       "<style scoped>\n",
       "    .dataframe tbody tr th:only-of-type {\n",
       "        vertical-align: middle;\n",
       "    }\n",
       "\n",
       "    .dataframe tbody tr th {\n",
       "        vertical-align: top;\n",
       "    }\n",
       "\n",
       "    .dataframe thead th {\n",
       "        text-align: right;\n",
       "    }\n",
       "</style>\n",
       "<table border=\"1\" class=\"dataframe\">\n",
       "  <thead>\n",
       "    <tr style=\"text-align: right;\">\n",
       "      <th></th>\n",
       "      <th>petal_length</th>\n",
       "      <th>species</th>\n",
       "    </tr>\n",
       "  </thead>\n",
       "  <tbody>\n",
       "    <tr>\n",
       "      <th>0</th>\n",
       "      <td>1.4</td>\n",
       "      <td>setosa</td>\n",
       "    </tr>\n",
       "    <tr>\n",
       "      <th>1</th>\n",
       "      <td>1.4</td>\n",
       "      <td>setosa</td>\n",
       "    </tr>\n",
       "    <tr>\n",
       "      <th>2</th>\n",
       "      <td>1.3</td>\n",
       "      <td>setosa</td>\n",
       "    </tr>\n",
       "    <tr>\n",
       "      <th>3</th>\n",
       "      <td>1.5</td>\n",
       "      <td>setosa</td>\n",
       "    </tr>\n",
       "    <tr>\n",
       "      <th>4</th>\n",
       "      <td>1.4</td>\n",
       "      <td>setosa</td>\n",
       "    </tr>\n",
       "  </tbody>\n",
       "</table>\n",
       "</div>"
      ],
      "text/plain": [
       "   petal_length species\n",
       "0           1.4  setosa\n",
       "1           1.4  setosa\n",
       "2           1.3  setosa\n",
       "3           1.5  setosa\n",
       "4           1.4  setosa"
      ]
     },
     "execution_count": 38,
     "metadata": {},
     "output_type": "execute_result"
    }
   ],
   "source": [
    "petal_length = iris[['petal_length','species']]\n",
    "petal_length.head()"
   ]
  },
  {
   "cell_type": "code",
   "execution_count": null,
   "id": "b63945e6-0fa7-4d90-85c7-42bc5ba17113",
   "metadata": {},
   "outputs": [],
   "source": []
  },
  {
   "cell_type": "code",
   "execution_count": 39,
   "id": "0a5afdc4-c22f-4a30-90d1-d8e5405aa256",
   "metadata": {},
   "outputs": [
    {
     "data": {
      "text/html": [
       "<div>\n",
       "<style scoped>\n",
       "    .dataframe tbody tr th:only-of-type {\n",
       "        vertical-align: middle;\n",
       "    }\n",
       "\n",
       "    .dataframe tbody tr th {\n",
       "        vertical-align: top;\n",
       "    }\n",
       "\n",
       "    .dataframe thead th {\n",
       "        text-align: right;\n",
       "    }\n",
       "</style>\n",
       "<table border=\"1\" class=\"dataframe\">\n",
       "  <thead>\n",
       "    <tr style=\"text-align: right;\">\n",
       "      <th></th>\n",
       "      <th>Source</th>\n",
       "      <th>SS</th>\n",
       "      <th>DF</th>\n",
       "      <th>MS</th>\n",
       "      <th>F</th>\n",
       "      <th>p-unc</th>\n",
       "      <th>np2</th>\n",
       "    </tr>\n",
       "  </thead>\n",
       "  <tbody>\n",
       "    <tr>\n",
       "      <th>0</th>\n",
       "      <td>species</td>\n",
       "      <td>437.1028</td>\n",
       "      <td>2</td>\n",
       "      <td>218.551400</td>\n",
       "      <td>1180.161182</td>\n",
       "      <td>2.856777e-91</td>\n",
       "      <td>0.941372</td>\n",
       "    </tr>\n",
       "    <tr>\n",
       "      <th>1</th>\n",
       "      <td>Within</td>\n",
       "      <td>27.2226</td>\n",
       "      <td>147</td>\n",
       "      <td>0.185188</td>\n",
       "      <td>NaN</td>\n",
       "      <td>NaN</td>\n",
       "      <td>NaN</td>\n",
       "    </tr>\n",
       "  </tbody>\n",
       "</table>\n",
       "</div>"
      ],
      "text/plain": [
       "    Source        SS   DF          MS            F         p-unc       np2\n",
       "0  species  437.1028    2  218.551400  1180.161182  2.856777e-91  0.941372\n",
       "1   Within   27.2226  147    0.185188          NaN           NaN       NaN"
      ]
     },
     "execution_count": 39,
     "metadata": {},
     "output_type": "execute_result"
    }
   ],
   "source": [
    "petal_length_test = pin.anova(petal_length,'petal_length','species',detailed=True)\n",
    "petal_length_test"
   ]
  },
  {
   "cell_type": "code",
   "execution_count": null,
   "id": "5c38917b-75c3-4aee-9087-33aa78b12c54",
   "metadata": {},
   "outputs": [],
   "source": []
  },
  {
   "cell_type": "markdown",
   "id": "32fa08ea-44f6-4838-9906-6c5ec55c036d",
   "metadata": {},
   "source": [
    "**The test indicates that the at least on of the species mean petal length is significantly different from the others**"
   ]
  },
  {
   "cell_type": "code",
   "execution_count": null,
   "id": "72568ca9-f128-4a4e-9f00-385f42c84550",
   "metadata": {},
   "outputs": [],
   "source": []
  },
  {
   "cell_type": "code",
   "execution_count": null,
   "id": "470c8d7b-bdba-4fea-8f14-1b505e84ef27",
   "metadata": {},
   "outputs": [],
   "source": []
  },
  {
   "cell_type": "markdown",
   "id": "96fb0ddd-ead8-4cf5-bb67-8bb56047be0a",
   "metadata": {},
   "source": [
    "## Post-hoc tests / Multiple Comparisons"
   ]
  },
  {
   "cell_type": "code",
   "execution_count": null,
   "id": "f381ad41-3002-4404-9d51-99460f103323",
   "metadata": {},
   "outputs": [],
   "source": []
  },
  {
   "cell_type": "code",
   "execution_count": null,
   "id": "ecb667de-cfed-4d35-94a6-c19dd2e05b13",
   "metadata": {},
   "outputs": [],
   "source": []
  },
  {
   "cell_type": "markdown",
   "id": "a9e6e93d-0d0e-4d87-982e-2979ea802257",
   "metadata": {},
   "source": [
    "## Tukey's HSD"
   ]
  },
  {
   "cell_type": "code",
   "execution_count": 72,
   "id": "7e1f55af-7040-442c-8514-6873bbd095a9",
   "metadata": {},
   "outputs": [
    {
     "data": {
      "text/html": [
       "<div>\n",
       "<style scoped>\n",
       "    .dataframe tbody tr th:only-of-type {\n",
       "        vertical-align: middle;\n",
       "    }\n",
       "\n",
       "    .dataframe tbody tr th {\n",
       "        vertical-align: top;\n",
       "    }\n",
       "\n",
       "    .dataframe thead th {\n",
       "        text-align: right;\n",
       "    }\n",
       "</style>\n",
       "<table border=\"1\" class=\"dataframe\">\n",
       "  <thead>\n",
       "    <tr style=\"text-align: right;\">\n",
       "      <th></th>\n",
       "      <th>A</th>\n",
       "      <th>B</th>\n",
       "      <th>mean(A)</th>\n",
       "      <th>mean(B)</th>\n",
       "      <th>diff</th>\n",
       "      <th>se</th>\n",
       "      <th>T</th>\n",
       "      <th>p-tukey</th>\n",
       "      <th>hedges</th>\n",
       "    </tr>\n",
       "  </thead>\n",
       "  <tbody>\n",
       "    <tr>\n",
       "      <th>0</th>\n",
       "      <td>setosa</td>\n",
       "      <td>versicolor</td>\n",
       "      <td>1.462</td>\n",
       "      <td>4.260</td>\n",
       "      <td>-2.798</td>\n",
       "      <td>0.086067</td>\n",
       "      <td>-32.509597</td>\n",
       "      <td>2.153833e-14</td>\n",
       "      <td>-7.837941</td>\n",
       "    </tr>\n",
       "    <tr>\n",
       "      <th>1</th>\n",
       "      <td>setosa</td>\n",
       "      <td>virginica</td>\n",
       "      <td>1.462</td>\n",
       "      <td>5.552</td>\n",
       "      <td>-4.090</td>\n",
       "      <td>0.086067</td>\n",
       "      <td>-47.521176</td>\n",
       "      <td>2.153833e-14</td>\n",
       "      <td>-9.920532</td>\n",
       "    </tr>\n",
       "    <tr>\n",
       "      <th>2</th>\n",
       "      <td>versicolor</td>\n",
       "      <td>virginica</td>\n",
       "      <td>4.260</td>\n",
       "      <td>5.552</td>\n",
       "      <td>-1.292</td>\n",
       "      <td>0.086067</td>\n",
       "      <td>-15.011579</td>\n",
       "      <td>2.153833e-14</td>\n",
       "      <td>-2.501415</td>\n",
       "    </tr>\n",
       "  </tbody>\n",
       "</table>\n",
       "</div>"
      ],
      "text/plain": [
       "            A           B  mean(A)  mean(B)   diff        se          T  \\\n",
       "0      setosa  versicolor    1.462    4.260 -2.798  0.086067 -32.509597   \n",
       "1      setosa   virginica    1.462    5.552 -4.090  0.086067 -47.521176   \n",
       "2  versicolor   virginica    4.260    5.552 -1.292  0.086067 -15.011579   \n",
       "\n",
       "        p-tukey    hedges  \n",
       "0  2.153833e-14 -7.837941  \n",
       "1  2.153833e-14 -9.920532  \n",
       "2  2.153833e-14 -2.501415  "
      ]
     },
     "execution_count": 72,
     "metadata": {},
     "output_type": "execute_result"
    }
   ],
   "source": [
    "pin.pairwise_tukey(petal_length,'petal_length','species')"
   ]
  },
  {
   "cell_type": "code",
   "execution_count": null,
   "id": "fcc7ef87-93f9-41a0-82e7-50f8fcce3c99",
   "metadata": {},
   "outputs": [],
   "source": []
  },
  {
   "cell_type": "code",
   "execution_count": 73,
   "id": "63f24ee8-7dc8-4a8f-a311-c9e0ec638f75",
   "metadata": {},
   "outputs": [],
   "source": [
    "from scipy import stats"
   ]
  },
  {
   "cell_type": "code",
   "execution_count": 74,
   "id": "185fc70d-0e93-4755-b00f-f527cbe9645f",
   "metadata": {},
   "outputs": [],
   "source": [
    "setosa = petal_length.query(\"species == 'setosa'\")['petal_length'].values\n",
    "versicolor = petal_length.query(\"species == 'versicolor'\")['petal_length'].values\n",
    "virginica = petal_length.query(\"species == 'virginica'\")['petal_length'].values"
   ]
  },
  {
   "cell_type": "code",
   "execution_count": 75,
   "id": "3017cefb-b09a-4a52-80ac-8e1ffed38c75",
   "metadata": {},
   "outputs": [],
   "source": [
    "HSD = stats.tukey_hsd(setosa,versicolor,virginica)"
   ]
  },
  {
   "cell_type": "code",
   "execution_count": 76,
   "id": "f5415ed2-b2a3-4875-a511-7ff4553b7e51",
   "metadata": {},
   "outputs": [
    {
     "name": "stdout",
     "output_type": "stream",
     "text": [
      "Tukey's HSD Pairwise Group Comparisons (95.0% Confidence Interval)\n",
      "Comparison  Statistic  p-value  Lower CI  Upper CI\n",
      " (0 - 1)     -2.798     0.000    -3.002    -2.594\n",
      " (0 - 2)     -4.090     0.000    -4.294    -3.886\n",
      " (1 - 0)      2.798     0.000     2.594     3.002\n",
      " (1 - 2)     -1.292     0.000    -1.496    -1.088\n",
      " (2 - 0)      4.090     0.000     3.886     4.294\n",
      " (2 - 1)      1.292     0.000     1.088     1.496\n",
      "\n"
     ]
    }
   ],
   "source": [
    "print(HSD)"
   ]
  },
  {
   "cell_type": "code",
   "execution_count": null,
   "id": "a62e71da-ec85-4279-b2b3-93b674891a75",
   "metadata": {},
   "outputs": [],
   "source": []
  },
  {
   "cell_type": "code",
   "execution_count": null,
   "id": "8d76607f-41a5-4987-b6ed-ec7657f2113f",
   "metadata": {},
   "outputs": [],
   "source": []
  },
  {
   "cell_type": "code",
   "execution_count": null,
   "id": "2867041c-81d1-473b-ba92-ca5faabe5ab6",
   "metadata": {},
   "outputs": [],
   "source": []
  },
  {
   "cell_type": "markdown",
   "id": "62dc9837-2afb-4e72-a62b-a6af66f85060",
   "metadata": {},
   "source": [
    "### Fisher's LSD"
   ]
  },
  {
   "cell_type": "code",
   "execution_count": 8,
   "id": "30c11735-63c9-448f-88b6-ac11647cd2bf",
   "metadata": {},
   "outputs": [
    {
     "data": {
      "image/png": "[encoded data removed]",
      "text/plain": [
       "<Figure size 511.111x500 with 1 Axes>"
      ]
     },
     "metadata": {},
     "output_type": "display_data"
    }
   ],
   "source": [
    "sns.catplot(data=milk_company,x='machine',y='fill_measures',kind='box')\n",
    "plt.show()"
   ]
  },
  {
   "cell_type": "code",
   "execution_count": 9,
   "id": "c660f9f1-0113-4fd4-b9ef-51d9af386be5",
   "metadata": {},
   "outputs": [],
   "source": [
    "m1 = milk_company.query('machine == 1')['fill_measures'].mean()"
   ]
  },
  {
   "cell_type": "code",
   "execution_count": 10,
   "id": "16d0c604-c9ef-4c60-a3eb-420cde0a6813",
   "metadata": {},
   "outputs": [],
   "source": [
    "m2 = milk_company.query('machine == 2')['fill_measures'].mean()"
   ]
  },
  {
   "cell_type": "code",
   "execution_count": 11,
   "id": "2c818f85-3eee-4fae-b2a6-2363976b7e68",
   "metadata": {},
   "outputs": [],
   "source": [
    "m3 = milk_company.query('machine == 3')['fill_measures'].mean()"
   ]
  },
  {
   "cell_type": "code",
   "execution_count": 12,
   "id": "716d1447-1615-4827-aa90-52528024c6df",
   "metadata": {},
   "outputs": [],
   "source": [
    "m4 = milk_company.query('machine == 4')['fill_measures'].mean()"
   ]
  },
  {
   "cell_type": "code",
   "execution_count": 13,
   "id": "05bdf068-30fa-465d-b1d3-fad8ec0fe67a",
   "metadata": {},
   "outputs": [],
   "source": [
    "mean_1 = np.array([m1,m1,m1,m2,m2,m3])\n",
    "mean_2 = np.array([m2,m3,m4,m3,m4,m4])\n",
    "n1 = [4,4,4,6,6,5]\n",
    "n2 = [6,5,4,5,4,4]\n",
    "difference = mean_1-mean_2"
   ]
  },
  {
   "cell_type": "code",
   "execution_count": 14,
   "id": "82a55ba4-8f38-4b01-a02d-d72b528b5c65",
   "metadata": {},
   "outputs": [
    {
     "data": {
      "text/html": [
       "<div>\n",
       "<style scoped>\n",
       "    .dataframe tbody tr th:only-of-type {\n",
       "        vertical-align: middle;\n",
       "    }\n",
       "\n",
       "    .dataframe tbody tr th {\n",
       "        vertical-align: top;\n",
       "    }\n",
       "\n",
       "    .dataframe thead th {\n",
       "        text-align: right;\n",
       "    }\n",
       "</style>\n",
       "<table border=\"1\" class=\"dataframe\">\n",
       "  <thead>\n",
       "    <tr style=\"text-align: right;\">\n",
       "      <th></th>\n",
       "      <th>mean_1</th>\n",
       "      <th>mean_2</th>\n",
       "      <th>n1</th>\n",
       "      <th>n2</th>\n",
       "      <th>difference</th>\n",
       "    </tr>\n",
       "  </thead>\n",
       "  <tbody>\n",
       "    <tr>\n",
       "      <th>1v2</th>\n",
       "      <td>4.030000</td>\n",
       "      <td>4.001667</td>\n",
       "      <td>4</td>\n",
       "      <td>6</td>\n",
       "      <td>0.028333</td>\n",
       "    </tr>\n",
       "    <tr>\n",
       "      <th>1v3</th>\n",
       "      <td>4.030000</td>\n",
       "      <td>3.974000</td>\n",
       "      <td>4</td>\n",
       "      <td>5</td>\n",
       "      <td>0.056000</td>\n",
       "    </tr>\n",
       "    <tr>\n",
       "      <th>1v4</th>\n",
       "      <td>4.030000</td>\n",
       "      <td>4.005000</td>\n",
       "      <td>4</td>\n",
       "      <td>4</td>\n",
       "      <td>0.025000</td>\n",
       "    </tr>\n",
       "    <tr>\n",
       "      <th>2v3</th>\n",
       "      <td>4.001667</td>\n",
       "      <td>3.974000</td>\n",
       "      <td>6</td>\n",
       "      <td>5</td>\n",
       "      <td>0.027667</td>\n",
       "    </tr>\n",
       "    <tr>\n",
       "      <th>2v4</th>\n",
       "      <td>4.001667</td>\n",
       "      <td>4.005000</td>\n",
       "      <td>6</td>\n",
       "      <td>4</td>\n",
       "      <td>-0.003333</td>\n",
       "    </tr>\n",
       "    <tr>\n",
       "      <th>3v4</th>\n",
       "      <td>3.974000</td>\n",
       "      <td>4.005000</td>\n",
       "      <td>5</td>\n",
       "      <td>4</td>\n",
       "      <td>-0.031000</td>\n",
       "    </tr>\n",
       "  </tbody>\n",
       "</table>\n",
       "</div>"
      ],
      "text/plain": [
       "       mean_1    mean_2  n1  n2  difference\n",
       "1v2  4.030000  4.001667   4   6    0.028333\n",
       "1v3  4.030000  3.974000   4   5    0.056000\n",
       "1v4  4.030000  4.005000   4   4    0.025000\n",
       "2v3  4.001667  3.974000   6   5    0.027667\n",
       "2v4  4.001667  4.005000   6   4   -0.003333\n",
       "3v4  3.974000  4.005000   5   4   -0.031000"
      ]
     },
     "execution_count": 14,
     "metadata": {},
     "output_type": "execute_result"
    }
   ],
   "source": [
    "pairwise_comparisons = pd.DataFrame({'mean_1':mean_1,'mean_2':mean_2,'n1':n1,'n2':n2,'difference':difference},\n",
    "                                   index=['1v2','1v3','1v4','2v3','2v4','3v4'])\n",
    "pairwise_comparisons"
   ]
  },
  {
   "cell_type": "code",
   "execution_count": 15,
   "id": "2cb482c0-be93-4496-a008-69b3bfa6170b",
   "metadata": {},
   "outputs": [],
   "source": [
    "MSE = test['MS'][1]\n",
    "df = test['DF'][1]"
   ]
  },
  {
   "cell_type": "code",
   "execution_count": 16,
   "id": "5d7833e8-e770-4a10-a86c-53e36deb1d90",
   "metadata": {},
   "outputs": [],
   "source": [
    "def test_statistic(row):\n",
    "    return row.difference/np.sqrt(MSE*((1/row.n1)+(1/row.n2)))"
   ]
  },
  {
   "cell_type": "code",
   "execution_count": 17,
   "id": "1e468a85-fd58-4153-aaaf-a76e50daf651",
   "metadata": {},
   "outputs": [],
   "source": [
    "pairwise_comparisons.insert(5,'t',pairwise_comparisons.apply(test_statistic,axis=1))"
   ]
  },
  {
   "cell_type": "code",
   "execution_count": 18,
   "id": "a225c568-8ff1-4b8e-b65a-22862d77a6bb",
   "metadata": {},
   "outputs": [
    {
     "data": {
      "text/html": [
       "<div>\n",
       "<style scoped>\n",
       "    .dataframe tbody tr th:only-of-type {\n",
       "        vertical-align: middle;\n",
       "    }\n",
       "\n",
       "    .dataframe tbody tr th {\n",
       "        vertical-align: top;\n",
       "    }\n",
       "\n",
       "    .dataframe thead th {\n",
       "        text-align: right;\n",
       "    }\n",
       "</style>\n",
       "<table border=\"1\" class=\"dataframe\">\n",
       "  <thead>\n",
       "    <tr style=\"text-align: right;\">\n",
       "      <th></th>\n",
       "      <th>mean_1</th>\n",
       "      <th>mean_2</th>\n",
       "      <th>n1</th>\n",
       "      <th>n2</th>\n",
       "      <th>difference</th>\n",
       "      <th>t</th>\n",
       "    </tr>\n",
       "  </thead>\n",
       "  <tbody>\n",
       "    <tr>\n",
       "      <th>1v2</th>\n",
       "      <td>4.030000</td>\n",
       "      <td>4.001667</td>\n",
       "      <td>4</td>\n",
       "      <td>6</td>\n",
       "      <td>0.028333</td>\n",
       "      <td>2.872157</td>\n",
       "    </tr>\n",
       "    <tr>\n",
       "      <th>1v3</th>\n",
       "      <td>4.030000</td>\n",
       "      <td>3.974000</td>\n",
       "      <td>4</td>\n",
       "      <td>5</td>\n",
       "      <td>0.056000</td>\n",
       "      <td>5.462440</td>\n",
       "    </tr>\n",
       "    <tr>\n",
       "      <th>1v4</th>\n",
       "      <td>4.030000</td>\n",
       "      <td>4.005000</td>\n",
       "      <td>4</td>\n",
       "      <td>4</td>\n",
       "      <td>0.025000</td>\n",
       "      <td>2.313449</td>\n",
       "    </tr>\n",
       "    <tr>\n",
       "      <th>2v3</th>\n",
       "      <td>4.001667</td>\n",
       "      <td>3.974000</td>\n",
       "      <td>6</td>\n",
       "      <td>5</td>\n",
       "      <td>0.027667</td>\n",
       "      <td>2.989689</td>\n",
       "    </tr>\n",
       "    <tr>\n",
       "      <th>2v4</th>\n",
       "      <td>4.001667</td>\n",
       "      <td>4.005000</td>\n",
       "      <td>6</td>\n",
       "      <td>4</td>\n",
       "      <td>-0.003333</td>\n",
       "      <td>-0.337901</td>\n",
       "    </tr>\n",
       "    <tr>\n",
       "      <th>3v4</th>\n",
       "      <td>3.974000</td>\n",
       "      <td>4.005000</td>\n",
       "      <td>5</td>\n",
       "      <td>4</td>\n",
       "      <td>-0.031000</td>\n",
       "      <td>-3.023851</td>\n",
       "    </tr>\n",
       "  </tbody>\n",
       "</table>\n",
       "</div>"
      ],
      "text/plain": [
       "       mean_1    mean_2  n1  n2  difference         t\n",
       "1v2  4.030000  4.001667   4   6    0.028333  2.872157\n",
       "1v3  4.030000  3.974000   4   5    0.056000  5.462440\n",
       "1v4  4.030000  4.005000   4   4    0.025000  2.313449\n",
       "2v3  4.001667  3.974000   6   5    0.027667  2.989689\n",
       "2v4  4.001667  4.005000   6   4   -0.003333 -0.337901\n",
       "3v4  3.974000  4.005000   5   4   -0.031000 -3.023851"
      ]
     },
     "execution_count": 18,
     "metadata": {},
     "output_type": "execute_result"
    }
   ],
   "source": [
    "pairwise_comparisons"
   ]
  },
  {
   "cell_type": "code",
   "execution_count": 19,
   "id": "317d6935-fbcb-4d14-89fb-4d9d19fdcce9",
   "metadata": {},
   "outputs": [],
   "source": [
    "import scipy"
   ]
  },
  {
   "cell_type": "code",
   "execution_count": 20,
   "id": "636c8a6b-197a-4b0b-b526-eba1478eb4ec",
   "metadata": {},
   "outputs": [],
   "source": [
    "def p_value(row):\n",
    "    if row['t'] > 0:\n",
    "        return round(scipy.stats.t.cdf(-row['t'],df)+(1-scipy.stats.t.cdf(row['t'],df)),4) \n",
    "    else:\n",
    "        return round(scipy.stats.t.cdf(row['t'],df)+(1-scipy.stats.t.cdf(-row['t'],df)),4)"
   ]
  },
  {
   "cell_type": "code",
   "execution_count": 21,
   "id": "df2557c6-8672-446d-ac39-3baf8ccad3af",
   "metadata": {},
   "outputs": [
    {
     "data": {
      "text/html": [
       "<div>\n",
       "<style scoped>\n",
       "    .dataframe tbody tr th:only-of-type {\n",
       "        vertical-align: middle;\n",
       "    }\n",
       "\n",
       "    .dataframe tbody tr th {\n",
       "        vertical-align: top;\n",
       "    }\n",
       "\n",
       "    .dataframe thead th {\n",
       "        text-align: right;\n",
       "    }\n",
       "</style>\n",
       "<table border=\"1\" class=\"dataframe\">\n",
       "  <thead>\n",
       "    <tr style=\"text-align: right;\">\n",
       "      <th></th>\n",
       "      <th>mean_1</th>\n",
       "      <th>mean_2</th>\n",
       "      <th>n1</th>\n",
       "      <th>n2</th>\n",
       "      <th>difference</th>\n",
       "      <th>t</th>\n",
       "      <th>p</th>\n",
       "    </tr>\n",
       "  </thead>\n",
       "  <tbody>\n",
       "    <tr>\n",
       "      <th>1v2</th>\n",
       "      <td>4.030000</td>\n",
       "      <td>4.001667</td>\n",
       "      <td>4</td>\n",
       "      <td>6</td>\n",
       "      <td>0.028333</td>\n",
       "      <td>2.872157</td>\n",
       "      <td>0.0116</td>\n",
       "    </tr>\n",
       "    <tr>\n",
       "      <th>1v3</th>\n",
       "      <td>4.030000</td>\n",
       "      <td>3.974000</td>\n",
       "      <td>4</td>\n",
       "      <td>5</td>\n",
       "      <td>0.056000</td>\n",
       "      <td>5.462440</td>\n",
       "      <td>0.0001</td>\n",
       "    </tr>\n",
       "    <tr>\n",
       "      <th>1v4</th>\n",
       "      <td>4.030000</td>\n",
       "      <td>4.005000</td>\n",
       "      <td>4</td>\n",
       "      <td>4</td>\n",
       "      <td>0.025000</td>\n",
       "      <td>2.313449</td>\n",
       "      <td>0.0353</td>\n",
       "    </tr>\n",
       "    <tr>\n",
       "      <th>2v3</th>\n",
       "      <td>4.001667</td>\n",
       "      <td>3.974000</td>\n",
       "      <td>6</td>\n",
       "      <td>5</td>\n",
       "      <td>0.027667</td>\n",
       "      <td>2.989689</td>\n",
       "      <td>0.0092</td>\n",
       "    </tr>\n",
       "    <tr>\n",
       "      <th>2v4</th>\n",
       "      <td>4.001667</td>\n",
       "      <td>4.005000</td>\n",
       "      <td>6</td>\n",
       "      <td>4</td>\n",
       "      <td>-0.003333</td>\n",
       "      <td>-0.337901</td>\n",
       "      <td>0.7401</td>\n",
       "    </tr>\n",
       "    <tr>\n",
       "      <th>3v4</th>\n",
       "      <td>3.974000</td>\n",
       "      <td>4.005000</td>\n",
       "      <td>5</td>\n",
       "      <td>4</td>\n",
       "      <td>-0.031000</td>\n",
       "      <td>-3.023851</td>\n",
       "      <td>0.0085</td>\n",
       "    </tr>\n",
       "  </tbody>\n",
       "</table>\n",
       "</div>"
      ],
      "text/plain": [
       "       mean_1    mean_2  n1  n2  difference         t       p\n",
       "1v2  4.030000  4.001667   4   6    0.028333  2.872157  0.0116\n",
       "1v3  4.030000  3.974000   4   5    0.056000  5.462440  0.0001\n",
       "1v4  4.030000  4.005000   4   4    0.025000  2.313449  0.0353\n",
       "2v3  4.001667  3.974000   6   5    0.027667  2.989689  0.0092\n",
       "2v4  4.001667  4.005000   6   4   -0.003333 -0.337901  0.7401\n",
       "3v4  3.974000  4.005000   5   4   -0.031000 -3.023851  0.0085"
      ]
     },
     "execution_count": 21,
     "metadata": {},
     "output_type": "execute_result"
    }
   ],
   "source": [
    "pairwise_comparisons.insert(6,'p',pairwise_comparisons.apply(p_value,axis=1))\n",
    "pairwise_comparisons"
   ]
  },
  {
   "cell_type": "code",
   "execution_count": 22,
   "id": "ccd5077d-f124-423b-888e-3470beacf166",
   "metadata": {},
   "outputs": [],
   "source": [
    "def decision(row):\n",
    "    if row['p'] < (alpha):\n",
    "        return 'reject'\n",
    "    else :\n",
    "        return 'accept'"
   ]
  },
  {
   "cell_type": "code",
   "execution_count": 23,
   "id": "270c4c69-604b-401a-bdbe-9917fa7ba64c",
   "metadata": {},
   "outputs": [
    {
     "data": {
      "text/html": [
       "<div>\n",
       "<style scoped>\n",
       "    .dataframe tbody tr th:only-of-type {\n",
       "        vertical-align: middle;\n",
       "    }\n",
       "\n",
       "    .dataframe tbody tr th {\n",
       "        vertical-align: top;\n",
       "    }\n",
       "\n",
       "    .dataframe thead th {\n",
       "        text-align: right;\n",
       "    }\n",
       "</style>\n",
       "<table border=\"1\" class=\"dataframe\">\n",
       "  <thead>\n",
       "    <tr style=\"text-align: right;\">\n",
       "      <th></th>\n",
       "      <th>mean_1</th>\n",
       "      <th>mean_2</th>\n",
       "      <th>n1</th>\n",
       "      <th>n2</th>\n",
       "      <th>difference</th>\n",
       "      <th>t</th>\n",
       "      <th>p</th>\n",
       "      <th>decision</th>\n",
       "    </tr>\n",
       "  </thead>\n",
       "  <tbody>\n",
       "    <tr>\n",
       "      <th>1v2</th>\n",
       "      <td>4.030000</td>\n",
       "      <td>4.001667</td>\n",
       "      <td>4</td>\n",
       "      <td>6</td>\n",
       "      <td>0.028333</td>\n",
       "      <td>2.872157</td>\n",
       "      <td>0.0116</td>\n",
       "      <td>accept</td>\n",
       "    </tr>\n",
       "    <tr>\n",
       "      <th>1v3</th>\n",
       "      <td>4.030000</td>\n",
       "      <td>3.974000</td>\n",
       "      <td>4</td>\n",
       "      <td>5</td>\n",
       "      <td>0.056000</td>\n",
       "      <td>5.462440</td>\n",
       "      <td>0.0001</td>\n",
       "      <td>reject</td>\n",
       "    </tr>\n",
       "    <tr>\n",
       "      <th>1v4</th>\n",
       "      <td>4.030000</td>\n",
       "      <td>4.005000</td>\n",
       "      <td>4</td>\n",
       "      <td>4</td>\n",
       "      <td>0.025000</td>\n",
       "      <td>2.313449</td>\n",
       "      <td>0.0353</td>\n",
       "      <td>accept</td>\n",
       "    </tr>\n",
       "    <tr>\n",
       "      <th>2v3</th>\n",
       "      <td>4.001667</td>\n",
       "      <td>3.974000</td>\n",
       "      <td>6</td>\n",
       "      <td>5</td>\n",
       "      <td>0.027667</td>\n",
       "      <td>2.989689</td>\n",
       "      <td>0.0092</td>\n",
       "      <td>reject</td>\n",
       "    </tr>\n",
       "    <tr>\n",
       "      <th>2v4</th>\n",
       "      <td>4.001667</td>\n",
       "      <td>4.005000</td>\n",
       "      <td>6</td>\n",
       "      <td>4</td>\n",
       "      <td>-0.003333</td>\n",
       "      <td>-0.337901</td>\n",
       "      <td>0.7401</td>\n",
       "      <td>accept</td>\n",
       "    </tr>\n",
       "    <tr>\n",
       "      <th>3v4</th>\n",
       "      <td>3.974000</td>\n",
       "      <td>4.005000</td>\n",
       "      <td>5</td>\n",
       "      <td>4</td>\n",
       "      <td>-0.031000</td>\n",
       "      <td>-3.023851</td>\n",
       "      <td>0.0085</td>\n",
       "      <td>reject</td>\n",
       "    </tr>\n",
       "  </tbody>\n",
       "</table>\n",
       "</div>"
      ],
      "text/plain": [
       "       mean_1    mean_2  n1  n2  difference         t       p decision\n",
       "1v2  4.030000  4.001667   4   6    0.028333  2.872157  0.0116   accept\n",
       "1v3  4.030000  3.974000   4   5    0.056000  5.462440  0.0001   reject\n",
       "1v4  4.030000  4.005000   4   4    0.025000  2.313449  0.0353   accept\n",
       "2v3  4.001667  3.974000   6   5    0.027667  2.989689  0.0092   reject\n",
       "2v4  4.001667  4.005000   6   4   -0.003333 -0.337901  0.7401   accept\n",
       "3v4  3.974000  4.005000   5   4   -0.031000 -3.023851  0.0085   reject"
      ]
     },
     "execution_count": 23,
     "metadata": {},
     "output_type": "execute_result"
    }
   ],
   "source": [
    "pairwise_comparisons.insert(7,'decision',pairwise_comparisons.apply(decision,axis=1))\n",
    "pairwise_comparisons"
   ]
  },
  {
   "cell_type": "code",
   "execution_count": 24,
   "id": "a9faf431-6554-4c07-af17-eed8af773ebf",
   "metadata": {},
   "outputs": [
    {
     "data": {
      "text/plain": [
       "Index(['1v3', '2v3', '3v4'], dtype='object')"
      ]
     },
     "execution_count": 24,
     "metadata": {},
     "output_type": "execute_result"
    }
   ],
   "source": [
    "pairwise_comparisons.query('decision == \"reject\"').index"
   ]
  },
  {
   "cell_type": "markdown",
   "id": "fa5a837b-0d25-47b6-82af-ad5f29da6331",
   "metadata": {},
   "source": [
    "**Our Culprit is machine 3, which can be clearly seen in the graph above also. Further we can see that<br>\n",
    "the p value for 1v3 is the lowest, indicating the means of these two machines are the furthest apart, which<br>\n",
    "can also be seen in the graph above.**"
   ]
  },
  {
   "cell_type": "code",
   "execution_count": null,
   "id": "9bad8d79-2b98-417c-b369-fb7c743af766",
   "metadata": {},
   "outputs": [],
   "source": []
  },
  {
   "cell_type": "markdown",
   "id": "39c26872-74a9-4f04-88b5-afa3e385e004",
   "metadata": {},
   "source": [
    "# Two-way ANOVA without replacement (Randomized block design)"
   ]
  },
  {
   "cell_type": "code",
   "execution_count": 145,
   "id": "791a0eb2-d5e9-4429-801d-3d82d0339597",
   "metadata": {},
   "outputs": [],
   "source": [
    "from statsmodels.formula.api import ols\n",
    "from statsmodels.stats.anova import anova_lm"
   ]
  },
  {
   "cell_type": "markdown",
   "id": "ea7d2bd1-172d-482a-9786-acb7f97ac3a3",
   "metadata": {},
   "source": [
    "<div>\n",
    "    <img src='./images/two-way-anova.png' width=800>\n",
    "</div>"
   ]
  },
  {
   "cell_type": "code",
   "execution_count": null,
   "id": "de42ba33-87c0-4d8e-8854-5d9ac9b3133a",
   "metadata": {},
   "outputs": [],
   "source": []
  },
  {
   "cell_type": "code",
   "execution_count": 195,
   "id": "47006a5e-8688-4cc7-94f6-9e68ca69e841",
   "metadata": {},
   "outputs": [
    {
     "data": {
      "text/html": [
       "<div>\n",
       "<style scoped>\n",
       "    .dataframe tbody tr th:only-of-type {\n",
       "        vertical-align: middle;\n",
       "    }\n",
       "\n",
       "    .dataframe tbody tr th {\n",
       "        vertical-align: top;\n",
       "    }\n",
       "\n",
       "    .dataframe thead th {\n",
       "        text-align: right;\n",
       "    }\n",
       "</style>\n",
       "<table border=\"1\" class=\"dataframe\">\n",
       "  <thead>\n",
       "    <tr style=\"text-align: right;\">\n",
       "      <th></th>\n",
       "      <th>rating</th>\n",
       "      <th>affiliation</th>\n",
       "      <th>s_class</th>\n",
       "    </tr>\n",
       "  </thead>\n",
       "  <tbody>\n",
       "    <tr>\n",
       "      <th>0</th>\n",
       "      <td>11</td>\n",
       "      <td>D</td>\n",
       "      <td>U</td>\n",
       "    </tr>\n",
       "    <tr>\n",
       "      <th>1</th>\n",
       "      <td>15</td>\n",
       "      <td>D</td>\n",
       "      <td>UM</td>\n",
       "    </tr>\n",
       "    <tr>\n",
       "      <th>2</th>\n",
       "      <td>19</td>\n",
       "      <td>D</td>\n",
       "      <td>M</td>\n",
       "    </tr>\n",
       "    <tr>\n",
       "      <th>3</th>\n",
       "      <td>16</td>\n",
       "      <td>D</td>\n",
       "      <td>LM</td>\n",
       "    </tr>\n",
       "    <tr>\n",
       "      <th>4</th>\n",
       "      <td>9</td>\n",
       "      <td>D</td>\n",
       "      <td>L</td>\n",
       "    </tr>\n",
       "    <tr>\n",
       "      <th>5</th>\n",
       "      <td>5</td>\n",
       "      <td>R</td>\n",
       "      <td>U</td>\n",
       "    </tr>\n",
       "    <tr>\n",
       "      <th>6</th>\n",
       "      <td>9</td>\n",
       "      <td>R</td>\n",
       "      <td>UM</td>\n",
       "    </tr>\n",
       "    <tr>\n",
       "      <th>7</th>\n",
       "      <td>14</td>\n",
       "      <td>R</td>\n",
       "      <td>M</td>\n",
       "    </tr>\n",
       "    <tr>\n",
       "      <th>8</th>\n",
       "      <td>12</td>\n",
       "      <td>R</td>\n",
       "      <td>LM</td>\n",
       "    </tr>\n",
       "    <tr>\n",
       "      <th>9</th>\n",
       "      <td>8</td>\n",
       "      <td>R</td>\n",
       "      <td>L</td>\n",
       "    </tr>\n",
       "    <tr>\n",
       "      <th>10</th>\n",
       "      <td>8</td>\n",
       "      <td>I</td>\n",
       "      <td>U</td>\n",
       "    </tr>\n",
       "    <tr>\n",
       "      <th>11</th>\n",
       "      <td>8</td>\n",
       "      <td>I</td>\n",
       "      <td>UM</td>\n",
       "    </tr>\n",
       "    <tr>\n",
       "      <th>12</th>\n",
       "      <td>15</td>\n",
       "      <td>I</td>\n",
       "      <td>M</td>\n",
       "    </tr>\n",
       "    <tr>\n",
       "      <th>13</th>\n",
       "      <td>10</td>\n",
       "      <td>I</td>\n",
       "      <td>LM</td>\n",
       "    </tr>\n",
       "    <tr>\n",
       "      <th>14</th>\n",
       "      <td>7</td>\n",
       "      <td>I</td>\n",
       "      <td>L</td>\n",
       "    </tr>\n",
       "  </tbody>\n",
       "</table>\n",
       "</div>"
      ],
      "text/plain": [
       "    rating affiliation s_class\n",
       "0       11           D       U\n",
       "1       15           D      UM\n",
       "2       19           D       M\n",
       "3       16           D      LM\n",
       "4        9           D       L\n",
       "5        5           R       U\n",
       "6        9           R      UM\n",
       "7       14           R       M\n",
       "8       12           R      LM\n",
       "9        8           R       L\n",
       "10       8           I       U\n",
       "11       8           I      UM\n",
       "12      15           I       M\n",
       "13      10           I      LM\n",
       "14       7           I       L"
      ]
     },
     "execution_count": 195,
     "metadata": {},
     "output_type": "execute_result"
    }
   ],
   "source": [
    "data = pd.DataFrame({'rating':[11,15,19,16,9,5,9,14,12,8,8,8,15,10,7],\n",
    "                     'affiliation':['D']*5+['R']*5+['I']*5,\n",
    "                    's_class': [\"U\",\"UM\",\"M\",\"LM\",\"L\"]*3})\n",
    "data"
   ]
  },
  {
   "cell_type": "code",
   "execution_count": 196,
   "id": "76aa8e5d-21af-4cf9-8989-288c420581ae",
   "metadata": {},
   "outputs": [
    {
     "data": {
      "text/html": [
       "<div>\n",
       "<style scoped>\n",
       "    .dataframe tbody tr th:only-of-type {\n",
       "        vertical-align: middle;\n",
       "    }\n",
       "\n",
       "    .dataframe tbody tr th {\n",
       "        vertical-align: top;\n",
       "    }\n",
       "\n",
       "    .dataframe thead th {\n",
       "        text-align: right;\n",
       "    }\n",
       "</style>\n",
       "<table border=\"1\" class=\"dataframe\">\n",
       "  <thead>\n",
       "    <tr style=\"text-align: right;\">\n",
       "      <th>affiliation</th>\n",
       "      <th>D</th>\n",
       "      <th>I</th>\n",
       "      <th>R</th>\n",
       "    </tr>\n",
       "    <tr>\n",
       "      <th>s_class</th>\n",
       "      <th></th>\n",
       "      <th></th>\n",
       "      <th></th>\n",
       "    </tr>\n",
       "  </thead>\n",
       "  <tbody>\n",
       "    <tr>\n",
       "      <th>L</th>\n",
       "      <td>9.0</td>\n",
       "      <td>7.0</td>\n",
       "      <td>8.0</td>\n",
       "    </tr>\n",
       "    <tr>\n",
       "      <th>LM</th>\n",
       "      <td>16.0</td>\n",
       "      <td>10.0</td>\n",
       "      <td>12.0</td>\n",
       "    </tr>\n",
       "    <tr>\n",
       "      <th>M</th>\n",
       "      <td>19.0</td>\n",
       "      <td>15.0</td>\n",
       "      <td>14.0</td>\n",
       "    </tr>\n",
       "    <tr>\n",
       "      <th>U</th>\n",
       "      <td>11.0</td>\n",
       "      <td>8.0</td>\n",
       "      <td>5.0</td>\n",
       "    </tr>\n",
       "    <tr>\n",
       "      <th>UM</th>\n",
       "      <td>15.0</td>\n",
       "      <td>8.0</td>\n",
       "      <td>9.0</td>\n",
       "    </tr>\n",
       "  </tbody>\n",
       "</table>\n",
       "</div>"
      ],
      "text/plain": [
       "affiliation     D     I     R\n",
       "s_class                      \n",
       "L             9.0   7.0   8.0\n",
       "LM           16.0  10.0  12.0\n",
       "M            19.0  15.0  14.0\n",
       "U            11.0   8.0   5.0\n",
       "UM           15.0   8.0   9.0"
      ]
     },
     "execution_count": 196,
     "metadata": {},
     "output_type": "execute_result"
    }
   ],
   "source": [
    "data.pivot_table(values='rating',columns='affiliation',index='s_class')"
   ]
  },
  {
   "cell_type": "code",
   "execution_count": 203,
   "id": "78b56000-9f59-4ff9-b2ce-9e6439eea763",
   "metadata": {},
   "outputs": [
    {
     "data": {
      "text/plain": [
       "<Axes: >"
      ]
     },
     "execution_count": 203,
     "metadata": {},
     "output_type": "execute_result"
    },
    {
     "data": {
      "image/png": "[encoded data removed]",
      "text/plain": [
       "<Figure size 640x480 with 1 Axes>"
      ]
     },
     "metadata": {},
     "output_type": "display_data"
    }
   ],
   "source": [
    "data.pivot_table(values='rating',columns='affiliation',index='s_class').plot(kind='box')"
   ]
  },
  {
   "cell_type": "markdown",
   "id": "14acf6a6-db7a-4f2f-a646-35a2e3a30e4d",
   "metadata": {},
   "source": [
    "**Let's try doing One-Way ANOVA first**"
   ]
  },
  {
   "cell_type": "code",
   "execution_count": 210,
   "id": "cdf28b94-2517-4388-8b3b-944f6cfeb441",
   "metadata": {},
   "outputs": [],
   "source": [
    "formula = 'rating ~affiliation'\n",
    "model = ols(formula,data).fit()\n",
    "aov_table = anova_lm(model,typ=2)"
   ]
  },
  {
   "cell_type": "code",
   "execution_count": 211,
   "id": "2b6e8689-1053-4295-82a9-ae759af73683",
   "metadata": {},
   "outputs": [
    {
     "name": "stdout",
     "output_type": "stream",
     "text": [
      "                 sum_sq    df         F   PR(>F)\n",
      "affiliation   64.533333   2.0  2.507772  0.12303\n",
      "Residual     154.400000  12.0       NaN      NaN\n"
     ]
    }
   ],
   "source": [
    "print(aov_table)"
   ]
  },
  {
   "cell_type": "markdown",
   "id": "6688b0b3-441d-4f06-8dca-26a814921693",
   "metadata": {},
   "source": [
    "**We can see that SSR (unexplained variance) is pretty high compared to the variance explained by affiliation.<br>\n",
    "Maybe There is someother factor that I causing this variance in rating. Let's introduce the blocking variable of<br>\n",
    "economic class. It seems logical that one's economic class influences their perception on the economy.**"
   ]
  },
  {
   "cell_type": "code",
   "execution_count": 212,
   "id": "ccd247ce-e316-4dd3-bfb9-492c416e0d70",
   "metadata": {},
   "outputs": [],
   "source": [
    "formula = 'rating ~affiliation+s_class'\n",
    "model = ols(formula,data).fit()\n",
    "aov_table = anova_lm(model,typ=2)"
   ]
  },
  {
   "cell_type": "code",
   "execution_count": 213,
   "id": "eeb62652-c399-472f-997e-f5d498bc1c10",
   "metadata": {},
   "outputs": [
    {
     "name": "stdout",
     "output_type": "stream",
     "text": [
      "                 sum_sq   df          F   PR(>F)\n",
      "affiliation   64.533333  2.0  15.365079  0.00182\n",
      "s_class      137.600000  4.0  16.380952  0.00064\n",
      "Residual      16.800000  8.0        NaN      NaN\n"
     ]
    }
   ],
   "source": [
    "print(aov_table)"
   ]
  },
  {
   "cell_type": "markdown",
   "id": "d2a45b0b-ae2f-4c10-b90b-8c1b77e5aa8c",
   "metadata": {},
   "source": [
    "**We can see a drastic reduction in SSR from 154 to 16. This indicated we have chosen a good blocking variable\n",
    "which is able to explain a majority part of the unexplained variance. We are only interested in the groups.\n",
    "Correspoind to affiliation the p value is 0.001 which is less than 0.01 therefore we reject the null hypothesis<\n",
    "that the mean rating of all affiliation groups are the same.<br>\n",
    "Additionally we can see that the p value for s_class is even lower indicating the econimic class is greatly influcing the rating (at least one of the blocking means is different from the others)**"
   ]
  },
  {
   "cell_type": "code",
   "execution_count": 214,
   "id": "33031069-1224-460c-987e-488c61262324",
   "metadata": {},
   "outputs": [
    {
     "data": {
      "image/png": "[encoded data removed]",
      "text/plain": [
       "<Figure size 640x480 with 1 Axes>"
      ]
     },
     "metadata": {},
     "output_type": "display_data"
    }
   ],
   "source": [
    "data.pivot_table(values='rating',index='affiliation',columns='s_class').plot(kind='box')\n",
    "plt.show()"
   ]
  },
  {
   "cell_type": "code",
   "execution_count": null,
   "id": "ad4539ed-47ec-473e-888c-0baf36d290b3",
   "metadata": {},
   "outputs": [],
   "source": []
  },
  {
   "cell_type": "markdown",
   "id": "d63af424-874f-49ef-948e-c88ced127ba6",
   "metadata": {
    "jp-MarkdownHeadingCollapsed": true
   },
   "source": [
    "# Two Way Anova With Replication (A Factorial Design)"
   ]
  },
  {
   "cell_type": "markdown",
   "id": "2042b5d9-5968-4785-b0e8-2a4213d4ab2b",
   "metadata": {},
   "source": [
    "<div>\n",
    "    <img src='./images/factorialDesign.png' width=700>\n",
    "</div>"
   ]
  },
  {
   "cell_type": "code",
   "execution_count": 215,
   "id": "74e7271f-7b30-420b-9342-8dce1e545ea7",
   "metadata": {},
   "outputs": [],
   "source": [
    "pairs_sold = [41,30,45,25,31,22,18,29,33,\n",
    "              38,31,39,29,35,30,22,17,25,\n",
    "              59,48,51,44,48,50,29,28,26,\n",
    "              47,40,39,43,42,53,24,27,32]\n",
    "\n",
    "number_of_competitors = ['0']*9+['1']*9+['2']*9+['3+']*9\n",
    "\n",
    "location = (['SA']*3+['Mall']*3+['DT']*3)*4"
   ]
  },
  {
   "cell_type": "code",
   "execution_count": null,
   "id": "a2d718e6-7f30-4062-909d-f75cb112b6c4",
   "metadata": {},
   "outputs": [],
   "source": []
  },
  {
   "cell_type": "code",
   "execution_count": 223,
   "id": "9425f649-bc83-440b-9181-decfe4efe7fb",
   "metadata": {},
   "outputs": [
    {
     "data": {
      "text/html": [
       "<div>\n",
       "<style scoped>\n",
       "    .dataframe tbody tr th:only-of-type {\n",
       "        vertical-align: middle;\n",
       "    }\n",
       "\n",
       "    .dataframe tbody tr th {\n",
       "        vertical-align: top;\n",
       "    }\n",
       "\n",
       "    .dataframe thead th {\n",
       "        text-align: right;\n",
       "    }\n",
       "</style>\n",
       "<table border=\"1\" class=\"dataframe\">\n",
       "  <thead>\n",
       "    <tr style=\"text-align: right;\">\n",
       "      <th></th>\n",
       "      <th>pairs_sold</th>\n",
       "      <th>competitors</th>\n",
       "      <th>location</th>\n",
       "    </tr>\n",
       "  </thead>\n",
       "  <tbody>\n",
       "    <tr>\n",
       "      <th>0</th>\n",
       "      <td>41</td>\n",
       "      <td>0</td>\n",
       "      <td>SA</td>\n",
       "    </tr>\n",
       "    <tr>\n",
       "      <th>1</th>\n",
       "      <td>30</td>\n",
       "      <td>0</td>\n",
       "      <td>SA</td>\n",
       "    </tr>\n",
       "    <tr>\n",
       "      <th>2</th>\n",
       "      <td>45</td>\n",
       "      <td>0</td>\n",
       "      <td>SA</td>\n",
       "    </tr>\n",
       "    <tr>\n",
       "      <th>3</th>\n",
       "      <td>25</td>\n",
       "      <td>0</td>\n",
       "      <td>Mall</td>\n",
       "    </tr>\n",
       "    <tr>\n",
       "      <th>4</th>\n",
       "      <td>31</td>\n",
       "      <td>0</td>\n",
       "      <td>Mall</td>\n",
       "    </tr>\n",
       "  </tbody>\n",
       "</table>\n",
       "</div>"
      ],
      "text/plain": [
       "   pairs_sold competitors location\n",
       "0          41           0       SA\n",
       "1          30           0       SA\n",
       "2          45           0       SA\n",
       "3          25           0     Mall\n",
       "4          31           0     Mall"
      ]
     },
     "execution_count": 223,
     "metadata": {},
     "output_type": "execute_result"
    }
   ],
   "source": [
    "data = pd.DataFrame({'pairs_sold':pairs_sold,\n",
    "                     'competitors':number_of_competitors,\n",
    "                     'location':location})\n",
    "data.head()"
   ]
  },
  {
   "cell_type": "code",
   "execution_count": 245,
   "id": "da5cad80-b4b9-49ef-a928-b2c86de58710",
   "metadata": {},
   "outputs": [
    {
     "data": {
      "text/html": [
       "<div>\n",
       "<style scoped>\n",
       "    .dataframe tbody tr th:only-of-type {\n",
       "        vertical-align: middle;\n",
       "    }\n",
       "\n",
       "    .dataframe tbody tr th {\n",
       "        vertical-align: top;\n",
       "    }\n",
       "\n",
       "    .dataframe thead th {\n",
       "        text-align: right;\n",
       "    }\n",
       "</style>\n",
       "<table border=\"1\" class=\"dataframe\">\n",
       "  <thead>\n",
       "    <tr style=\"text-align: right;\">\n",
       "      <th>competitors</th>\n",
       "      <th>0</th>\n",
       "      <th>1</th>\n",
       "      <th>2</th>\n",
       "      <th>3+</th>\n",
       "    </tr>\n",
       "    <tr>\n",
       "      <th>location</th>\n",
       "      <th></th>\n",
       "      <th></th>\n",
       "      <th></th>\n",
       "      <th></th>\n",
       "    </tr>\n",
       "  </thead>\n",
       "  <tbody>\n",
       "    <tr>\n",
       "      <th>DT</th>\n",
       "      <td>26.666667</td>\n",
       "      <td>21.333333</td>\n",
       "      <td>27.666667</td>\n",
       "      <td>27.666667</td>\n",
       "    </tr>\n",
       "    <tr>\n",
       "      <th>Mall</th>\n",
       "      <td>26.000000</td>\n",
       "      <td>31.333333</td>\n",
       "      <td>47.333333</td>\n",
       "      <td>46.000000</td>\n",
       "    </tr>\n",
       "    <tr>\n",
       "      <th>SA</th>\n",
       "      <td>38.666667</td>\n",
       "      <td>36.000000</td>\n",
       "      <td>52.666667</td>\n",
       "      <td>42.000000</td>\n",
       "    </tr>\n",
       "  </tbody>\n",
       "</table>\n",
       "</div>"
      ],
      "text/plain": [
       "competitors          0          1          2         3+\n",
       "location                                               \n",
       "DT           26.666667  21.333333  27.666667  27.666667\n",
       "Mall         26.000000  31.333333  47.333333  46.000000\n",
       "SA           38.666667  36.000000  52.666667  42.000000"
      ]
     },
     "execution_count": 245,
     "metadata": {},
     "output_type": "execute_result"
    }
   ],
   "source": [
    "data.pivot_table(values='pairs_sold',columns='competitors',index='location')"
   ]
  },
  {
   "cell_type": "code",
   "execution_count": 230,
   "id": "85d998f9-a547-4b1d-b35b-da926084a617",
   "metadata": {},
   "outputs": [],
   "source": [
    "import matplotlib.pyplot as plt\n",
    "import seaborn as sns\n",
    "from statsmodels.formula.api import ols\n",
    "from statsmodels.stats.anova import anova_lm\n",
    "from statsmodels.graphics.factorplots import interaction_plot"
   ]
  },
  {
   "cell_type": "code",
   "execution_count": 231,
   "id": "5a3ef8db-5501-47dd-9d63-bd3300116af9",
   "metadata": {},
   "outputs": [
    {
     "data": {
      "image/png": "[encoded data removed]",
      "text/plain": [
       "<Figure size 640x480 with 1 Axes>"
      ]
     },
     "metadata": {},
     "output_type": "display_data"
    }
   ],
   "source": [
    "sns.boxplot(x='competitors',y='pairs_sold',data=data)\n",
    "plt.show()"
   ]
  },
  {
   "cell_type": "code",
   "execution_count": 232,
   "id": "aa65c04b-0c1b-4c54-8f73-830b47f1843d",
   "metadata": {},
   "outputs": [
    {
     "data": {
      "image/png": "[encoded data removed]",
      "text/plain": [
       "<Figure size 640x480 with 1 Axes>"
      ]
     },
     "metadata": {},
     "output_type": "display_data"
    }
   ],
   "source": [
    "sns.boxplot(x='location',y='pairs_sold',data=data)\n",
    "plt.show()"
   ]
  },
  {
   "cell_type": "code",
   "execution_count": 283,
   "id": "c0eba1ef-e47d-44f5-a418-ee29e9e39bad",
   "metadata": {},
   "outputs": [
    {
     "name": "stderr",
     "output_type": "stream",
     "text": [
      "/opt/anaconda3/lib/python3.11/site-packages/statsmodels/graphics/factorplots.py:113: FutureWarning: The provided callable <function mean at 0x105386c00> is currently using DataFrameGroupBy.mean. In a future version of pandas, the provided callable will be used directly. To keep current behavior pass the string \"mean\" instead.\n",
      "  plot_data = data.groupby(['trace', 'x']).aggregate(func).reset_index()\n"
     ]
    },
    {
     "data": {
      "text/plain": [
       "[<matplotlib.lines.Line2D at 0x14a07fb10>]"
      ]
     },
     "execution_count": 283,
     "metadata": {},
     "output_type": "execute_result"
    },
    {
     "data": {
      "image/png": "[encoded data removed]",
      "text/plain": [
       "<Figure size 640x480 with 1 Axes>"
      ]
     },
     "metadata": {},
     "output_type": "display_data"
    }
   ],
   "source": [
    "fig = interaction_plot(data.competitors,data.location,data.pairs_sold)\n",
    "plt.axhline(data.pairs_sold.mean())\n",
    "plt.plot(0,data.query('competitors == \"0\"')['pairs_sold'].mean(),'ro') #marginal mean col1\n",
    "plt.plot(1,data.query('competitors == \"1\"')['pairs_sold'].mean(),'bo') #marginal mean col2\n",
    "plt.plot(2,data.query('competitors == \"2\"')['pairs_sold'].mean(),'yo') #marginal mean col3\n",
    "plt.plot(3,data.query('competitors == \"3+\"')['pairs_sold'].mean(),'co') #marginal mean col4\n",
    "plt.plot(3.5,data.query('location == \"DT\"')['pairs_sold'].mean(),'rx') #marginal mean row1\n",
    "plt.plot(3.5,data.query('location == \"Mall\"')['pairs_sold'].mean(),'bx') #marginal mean row2\n",
    "plt.plot(3.5,data.query('location == \"SA\"')['pairs_sold'].mean(),'gx') #marginal mean row3"
   ]
  },
  {
   "cell_type": "code",
   "execution_count": null,
   "id": "161ed8fc-80a2-4556-a504-aff197a0c4cc",
   "metadata": {},
   "outputs": [],
   "source": []
  },
  {
   "cell_type": "code",
   "execution_count": 284,
   "id": "339d6a8f-e91e-4ca0-b640-36bd503cbf9c",
   "metadata": {},
   "outputs": [],
   "source": [
    "#H01 There is no significant difference in pairs sold according to the number of  competitors in a 1 mile radius\n",
    "#H02 There is no significant difference in pairs sold according store location of the competitors in a 1 mile radius\n",
    "#H03 There is no significant interaction affects ..."
   ]
  },
  {
   "cell_type": "code",
   "execution_count": 285,
   "id": "7995a621-b59b-4b96-beaf-ca0c45e86114",
   "metadata": {},
   "outputs": [],
   "source": [
    "formula = 'pairs_sold~competitors+location+competitors*location'\n",
    "model = ols(formula,data).fit()\n",
    "aov_table = anova_lm(model,typ=2)"
   ]
  },
  {
   "cell_type": "code",
   "execution_count": 286,
   "id": "d1dfe5d2-aa09-4759-ba2a-fdf47635f8e1",
   "metadata": {},
   "outputs": [
    {
     "name": "stdout",
     "output_type": "stream",
     "text": [
      "                           sum_sq    df          F        PR(>F)\n",
      "competitors           1078.333333   3.0  14.204171  1.574850e-05\n",
      "location              1736.222222   2.0  34.305159  9.175344e-08\n",
      "competitors:location   503.333333   6.0   3.315038  1.605011e-02\n",
      "Residual               607.333333  24.0        NaN           NaN\n"
     ]
    }
   ],
   "source": [
    "print(aov_table)"
   ]
  },
  {
   "cell_type": "code",
   "execution_count": 287,
   "id": "4deab672-6fef-4aa6-97f3-b0e958061cfa",
   "metadata": {},
   "outputs": [
    {
     "data": {
      "text/plain": [
       "\"\\nFirst LOOK AT THE INTERACTION, we can see that the interaction is significant as p value for competitors:location is less than 0.05. \\nWe shouldn't look at the 2 independent factors individually as they are intertwined/infulence one another\\n\""
      ]
     },
     "execution_count": 287,
     "metadata": {},
     "output_type": "execute_result"
    }
   ],
   "source": [
    "'''\n",
    "First LOOK AT THE INTERACTION, we can see that the interaction is significant as p value for competitors:location is less than 0.05. \n",
    "We shouldn't look at the 2 independent factors individually as they are intertwined/infulence one another\n",
    "'''"
   ]
  },
  {
   "cell_type": "code",
   "execution_count": null,
   "id": "54d02333-a469-49b1-87cb-94bec3c8d9d2",
   "metadata": {},
   "outputs": [],
   "source": []
  },
  {
   "cell_type": "markdown",
   "id": "22b1734f-8edd-40fa-8126-26b54cb38a04",
   "metadata": {},
   "source": [
    "**The distance of the marginal column and row means from the grand mean will reflect its significance, the can be seen in the graph above**"
   ]
  },
  {
   "cell_type": "code",
   "execution_count": null,
   "id": "e4438b9a-17ad-4308-9411-13c9a46c1b70",
   "metadata": {},
   "outputs": [],
   "source": []
  }
 ],
 "metadata": {
  "kernelspec": {
   "display_name": "Python 3 (ipykernel)",
   "language": "python",
   "name": "python3"
  },
  "language_info": {
   "codemirror_mode": {
    "name": "ipython",
    "version": 3
   },
   "file_extension": ".py",
   "mimetype": "text/x-python",
   "name": "python",
   "nbconvert_exporter": "python",
   "pygments_lexer": "ipython3",
   "version": "3.11.7"
  }
 },
 "nbformat": 4,
 "nbformat_minor": 5
}
