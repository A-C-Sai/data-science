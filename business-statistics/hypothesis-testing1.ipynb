{
 "cells": [
  {
   "cell_type": "code",
   "execution_count": 1,
   "id": "22dc7397-ec69-47ba-8b9a-249f62347260",
   "metadata": {},
   "outputs": [],
   "source": [
    "import numpy as np\n",
    "import pandas as pd"
   ]
  },
  {
   "cell_type": "code",
   "execution_count": 16,
   "id": "c610bba1-6c39-43ea-8f80-aeb11aefab12",
   "metadata": {},
   "outputs": [],
   "source": [
    "from scipy import stats"
   ]
  },
  {
   "cell_type": "markdown",
   "id": "c948e657-3981-44b0-99f4-db214471be51",
   "metadata": {
    "jp-MarkdownHeadingCollapsed": true
   },
   "source": [
    "# Hypothesis about a population mean, z Statistic (sigma known) <br>"
   ]
  },
  {
   "cell_type": "markdown",
   "id": "e00f8364-2285-4d0f-adba-b7387720e621",
   "metadata": {},
   "source": [
    "<div>\n",
    "    <img src='./images/hypothesis1.png' width=800>\n",
    "</div>"
   ]
  },
  {
   "cell_type": "markdown",
   "id": "f3257409-9bd4-4836-b4fc-c5b4bbfd7739",
   "metadata": {},
   "source": [
    "H0: mu = 50<br>\n",
    "H1: mu > 50"
   ]
  },
  {
   "cell_type": "code",
   "execution_count": 8,
   "id": "11e1c2c3-e12e-4c26-b9c2-d25474117a56",
   "metadata": {},
   "outputs": [],
   "source": [
    "prices = np.array([52,52,56,50,50,51,49,49,54,51,51,48,\n",
    "          56,52,52,53,56,52,52,56,57,48,53])"
   ]
  },
  {
   "cell_type": "code",
   "execution_count": 9,
   "id": "bdbd30a6-efe8-4d33-bbda-0e425435c99b",
   "metadata": {},
   "outputs": [],
   "source": [
    "mu = 50"
   ]
  },
  {
   "cell_type": "code",
   "execution_count": 10,
   "id": "bf8ff056-6d52-492b-bc25-a2a7fff061bf",
   "metadata": {},
   "outputs": [],
   "source": [
    "n = 23"
   ]
  },
  {
   "cell_type": "code",
   "execution_count": 11,
   "id": "f31ea53b-c05d-4ec6-a892-378a5ba28545",
   "metadata": {},
   "outputs": [],
   "source": [
    "sigma = 3.49"
   ]
  },
  {
   "cell_type": "code",
   "execution_count": 15,
   "id": "90edcbe9-af52-42f5-a72e-7e48f5da1a63",
   "metadata": {},
   "outputs": [],
   "source": [
    "alpha = 0.1"
   ]
  },
  {
   "cell_type": "markdown",
   "id": "177d1dbe-f70b-44a0-9aa3-b720db961c28",
   "metadata": {
    "jp-MarkdownHeadingCollapsed": true
   },
   "source": [
    "## approach 1"
   ]
  },
  {
   "cell_type": "code",
   "execution_count": 17,
   "id": "59e4ac36-b3a0-4632-a900-6fb9c4f290dc",
   "metadata": {},
   "outputs": [],
   "source": [
    "z_alpha_2 = stats.norm.ppf(0.9)"
   ]
  },
  {
   "cell_type": "code",
   "execution_count": 20,
   "id": "2d48d19b-e453-48a8-9c00-1be8aaa140df",
   "metadata": {},
   "outputs": [
    {
     "data": {
      "text/plain": [
       "50.932604688469375"
      ]
     },
     "execution_count": 20,
     "metadata": {},
     "output_type": "execute_result"
    }
   ],
   "source": [
    "threshold = z_alpha_2*(sigma/np.sqrt(n))+50\n",
    "threshold"
   ]
  },
  {
   "cell_type": "code",
   "execution_count": 22,
   "id": "4758e34d-75df-40c0-ad1d-c0de824ec24a",
   "metadata": {},
   "outputs": [
    {
     "data": {
      "text/plain": [
       "52.17391304347826"
      ]
     },
     "execution_count": 22,
     "metadata": {},
     "output_type": "execute_result"
    }
   ],
   "source": [
    "observed_value = prices.mean()\n",
    "observed_value"
   ]
  },
  {
   "cell_type": "markdown",
   "id": "542c64db-b31f-40f5-bb08-419eafe32ee2",
   "metadata": {},
   "source": [
    "**as the observed value is greater than the threshold value we will reject H0.**"
   ]
  },
  {
   "cell_type": "markdown",
   "id": "30acae5a-6b67-410e-a52b-73cdb8c50c1c",
   "metadata": {
    "jp-MarkdownHeadingCollapsed": true
   },
   "source": [
    "## approach 2"
   ]
  },
  {
   "cell_type": "code",
   "execution_count": 23,
   "id": "856bd1d9-dd87-46be-a11c-ee889033010b",
   "metadata": {},
   "outputs": [
    {
     "data": {
      "text/plain": [
       "2.9873125223076573"
      ]
     },
     "execution_count": 23,
     "metadata": {},
     "output_type": "execute_result"
    }
   ],
   "source": [
    "z = (observed_value - mu)/(sigma/np.sqrt(n))\n",
    "z"
   ]
  },
  {
   "cell_type": "code",
   "execution_count": 24,
   "id": "b65f013f-3c53-4056-8a04-7d5bdcff24f8",
   "metadata": {},
   "outputs": [
    {
     "data": {
      "text/plain": [
       "1.2815515655446004"
      ]
     },
     "execution_count": 24,
     "metadata": {},
     "output_type": "execute_result"
    }
   ],
   "source": [
    "z_critical = stats.norm.ppf(0.9)\n",
    "z_critical"
   ]
  },
  {
   "cell_type": "markdown",
   "id": "b4bfd0df-b6a4-49c1-8207-10b07d5aff65",
   "metadata": {},
   "source": [
    "**calculated test statistic is greater that z_critical so we reject H0**"
   ]
  },
  {
   "cell_type": "markdown",
   "id": "4d67a624-1d92-4538-86df-6e34f1e21432",
   "metadata": {
    "jp-MarkdownHeadingCollapsed": true
   },
   "source": [
    "## approach 3"
   ]
  },
  {
   "cell_type": "code",
   "execution_count": 25,
   "id": "12a2d04c-3403-4100-baf6-f3ff35a20e20",
   "metadata": {},
   "outputs": [
    {
     "data": {
      "text/plain": [
       "2.9873125223076573"
      ]
     },
     "execution_count": 25,
     "metadata": {},
     "output_type": "execute_result"
    }
   ],
   "source": [
    "z = (observed_value - mu)/(sigma/np.sqrt(n))\n",
    "z"
   ]
  },
  {
   "cell_type": "code",
   "execution_count": 27,
   "id": "ab815d57-d295-4530-b83c-5797f8ea6139",
   "metadata": {},
   "outputs": [
    {
     "data": {
      "text/plain": [
       "0.0014072092702339667"
      ]
     },
     "execution_count": 27,
     "metadata": {},
     "output_type": "execute_result"
    }
   ],
   "source": [
    "p_value = 1-stats.norm.cdf(z)\n",
    "p_value"
   ]
  },
  {
   "cell_type": "markdown",
   "id": "ede34884-2a3c-4dc6-9bb5-c1923e4bb0b4",
   "metadata": {},
   "source": [
    "**p value is less than the level of significance (0.1) therefore we reject H0**"
   ]
  },
  {
   "cell_type": "code",
   "execution_count": null,
   "id": "88333371-db9d-4afc-9be0-ab060803e466",
   "metadata": {},
   "outputs": [],
   "source": []
  },
  {
   "cell_type": "code",
   "execution_count": null,
   "id": "2e043901-451d-42ff-82c6-8441a674d822",
   "metadata": {},
   "outputs": [],
   "source": []
  },
  {
   "cell_type": "markdown",
   "id": "3d2d9700-a026-4a24-976d-6c6b087f6703",
   "metadata": {
    "jp-MarkdownHeadingCollapsed": true
   },
   "source": [
    "# Hypothesis about a population mean, t Statistic (sigma unknown) <br>"
   ]
  },
  {
   "cell_type": "markdown",
   "id": "63a88862-c30e-42cd-a5d7-9fbdc0ccf878",
   "metadata": {},
   "source": [
    "<div>\n",
    "    <img src='./images/hypothesis2.png' width=800>\n",
    "</div>"
   ]
  },
  {
   "cell_type": "markdown",
   "id": "561921ce-b929-417b-9ec2-1860ca88f9d3",
   "metadata": {},
   "source": [
    "H0: mu = 1.84<br>\n",
    "Ha: mu != 1.84"
   ]
  },
  {
   "cell_type": "code",
   "execution_count": 37,
   "id": "321056e8-7e3d-47ae-977d-9bfc4246a521",
   "metadata": {},
   "outputs": [],
   "source": [
    "diameters = np.array([1.81,1.89,1.86,1.83,\n",
    "                      1.85,1.82,1.87,1.85,\n",
    "                      1.84,1.86,1.88,1.85])"
   ]
  },
  {
   "cell_type": "code",
   "execution_count": 38,
   "id": "21301f9e-123c-49b4-a28b-fd15bea728f9",
   "metadata": {},
   "outputs": [],
   "source": [
    "mu = 1.84"
   ]
  },
  {
   "cell_type": "code",
   "execution_count": 39,
   "id": "e5e87ac3-1407-4df4-baa5-a8d89baf044b",
   "metadata": {},
   "outputs": [],
   "source": [
    "n = 12"
   ]
  },
  {
   "cell_type": "code",
   "execution_count": 40,
   "id": "ea825883-f4c9-42f0-8dba-9437f8961b36",
   "metadata": {},
   "outputs": [],
   "source": [
    "df = n-1"
   ]
  },
  {
   "cell_type": "code",
   "execution_count": 41,
   "id": "35c88ab0-0ebc-4bb5-af42-a8686fcf0089",
   "metadata": {},
   "outputs": [],
   "source": [
    "alpha = 0.1"
   ]
  },
  {
   "cell_type": "code",
   "execution_count": 42,
   "id": "f77aad4a-c744-4a72-9154-8c4401fdfda4",
   "metadata": {},
   "outputs": [],
   "source": [
    "observed_value = diameters.mean()"
   ]
  },
  {
   "cell_type": "code",
   "execution_count": 43,
   "id": "f2aa5e5f-cd2d-4250-a863-7d854f415b23",
   "metadata": {},
   "outputs": [],
   "source": [
    "s = diameters.std(ddof=1)"
   ]
  },
  {
   "cell_type": "code",
   "execution_count": 44,
   "id": "c5b95bbe-4f7a-4c44-95db-df942dd9cd93",
   "metadata": {},
   "outputs": [
    {
     "data": {
      "text/plain": [
       "1.5947073886035412"
      ]
     },
     "execution_count": 44,
     "metadata": {},
     "output_type": "execute_result"
    }
   ],
   "source": [
    "test_statistic = (observed_value-mu)/(s/np.sqrt(n))\n",
    "test_statistic"
   ]
  },
  {
   "cell_type": "code",
   "execution_count": 45,
   "id": "3a63028d-cd1e-4e5e-acea-8b94d899fee8",
   "metadata": {},
   "outputs": [
    {
     "data": {
      "text/plain": [
       "0.1390844045839594"
      ]
     },
     "execution_count": 45,
     "metadata": {},
     "output_type": "execute_result"
    }
   ],
   "source": [
    "p_value = stats.t.cdf(-test_statistic,df)+(1-stats.t.cdf(test_statistic,df))\n",
    "p_value"
   ]
  },
  {
   "cell_type": "markdown",
   "id": "2998908e-17ca-4c5e-95b0-52ad54c11429",
   "metadata": {},
   "source": [
    "**p value is greater than the level of significance so we fail to reject H0**"
   ]
  },
  {
   "cell_type": "code",
   "execution_count": null,
   "id": "a46b6cee-9be0-47e2-8eed-9136deacbf55",
   "metadata": {},
   "outputs": [],
   "source": []
  },
  {
   "cell_type": "markdown",
   "id": "1b148796-a992-4ff5-bfd2-3e2a9100405e",
   "metadata": {
    "jp-MarkdownHeadingCollapsed": true
   },
   "source": [
    "# Testing Hypothesis About A Proportion"
   ]
  },
  {
   "cell_type": "markdown",
   "id": "a46c349f-df5e-443c-a781-434eb4999202",
   "metadata": {},
   "source": [
    "A large manufacturing company investigated the service it received from suppliers<br>\r",
    "and discovered that, in the past, 32% of all materials shipments were received late.<br>\n",
    "<br>\n",
    "However, the company recently installed a just-in-time system in which suppliers<br>\r",
    "are linked more closely to the manufacturing process. A random sample of 118<br>\r",
    "deliveries since the just-in-time system was installed reveals that 22 deliveries were<br>\r",
    "late. Use this sample information to test whether the proportion of late deliveries<br>\n",
    "was reduced significantly. Let aplha = 0.05"
   ]
  },
  {
   "cell_type": "markdown",
   "id": "3318d916-de8b-4733-a411-11530f966c63",
   "metadata": {},
   "source": [
    "H0: p=0.32<br>\n",
    "Ha: p<0.32"
   ]
  },
  {
   "cell_type": "code",
   "execution_count": 47,
   "id": "6ae3881d-b6ae-4a7f-b0bf-35131e1a82d2",
   "metadata": {},
   "outputs": [],
   "source": [
    "p = 0.32\n",
    "q = 1-p\n",
    "n = 118\n",
    "p_hat = 22/118\n",
    "alpha = 0.05"
   ]
  },
  {
   "cell_type": "code",
   "execution_count": 48,
   "id": "eea28cf1-7b04-46e2-b87b-cca812ca724d",
   "metadata": {},
   "outputs": [
    {
     "data": {
      "text/plain": [
       "True"
      ]
     },
     "execution_count": 48,
     "metadata": {},
     "output_type": "execute_result"
    }
   ],
   "source": [
    "n*p>5"
   ]
  },
  {
   "cell_type": "code",
   "execution_count": 49,
   "id": "b3ce5804-34cf-454e-ba53-7aab3c9281cf",
   "metadata": {},
   "outputs": [
    {
     "data": {
      "text/plain": [
       "True"
      ]
     },
     "execution_count": 49,
     "metadata": {},
     "output_type": "execute_result"
    }
   ],
   "source": [
    "n*q>5"
   ]
  },
  {
   "cell_type": "code",
   "execution_count": 50,
   "id": "ba055c83-4c78-43ce-bc80-67ddcbfd1c7d",
   "metadata": {},
   "outputs": [
    {
     "data": {
      "text/plain": [
       "-3.110181716407063"
      ]
     },
     "execution_count": 50,
     "metadata": {},
     "output_type": "execute_result"
    }
   ],
   "source": [
    "test_statistic = (p_hat - p)/np.sqrt(p*q/n)\n",
    "test_statistic"
   ]
  },
  {
   "cell_type": "code",
   "execution_count": 52,
   "id": "bc3d95ab-a1c8-40fc-a2f7-4a0ce9e32e3c",
   "metadata": {},
   "outputs": [
    {
     "data": {
      "text/plain": [
       "0.0009348613966112"
      ]
     },
     "execution_count": 52,
     "metadata": {},
     "output_type": "execute_result"
    }
   ],
   "source": [
    "p_value = stats.norm.cdf(test_statistic)\n",
    "p_value"
   ]
  },
  {
   "cell_type": "markdown",
   "id": "86aeeb92-0f9f-4b3c-8100-a1aeaa6793b2",
   "metadata": {},
   "source": [
    "**p value is less than the level of significance hence we reject H0**"
   ]
  },
  {
   "cell_type": "code",
   "execution_count": null,
   "id": "d034bc79-9501-4819-9971-c66727c9903c",
   "metadata": {},
   "outputs": [],
   "source": []
  },
  {
   "cell_type": "markdown",
   "id": "c3cc2b2c-77e4-4c7f-8b82-0094cf2bd663",
   "metadata": {
    "jp-MarkdownHeadingCollapsed": true
   },
   "source": [
    "# Testing Hypothesis about a variance"
   ]
  },
  {
   "cell_type": "markdown",
   "id": "5be768cd-4307-4c2f-87e6-fb82e98169e0",
   "metadata": {},
   "source": [
    "<div>\n",
    "    <img src='./images/hypothesis3.png' width=600>\n",
    "    <img src='./images/hypothesis4.png' width=600>\n",
    "</div>"
   ]
  },
  {
   "cell_type": "markdown",
   "id": "7097b1ee-6124-4787-806c-559c7df7744f",
   "metadata": {},
   "source": [
    "H0: variance = 100<br>\n",
    "Ha: variance > 100<br>\n",
    "let's assume alpha = 0.05"
   ]
  },
  {
   "cell_type": "code",
   "execution_count": 70,
   "id": "7d8126f6-27ab-4d32-8e52-7cbec68bd2f5",
   "metadata": {},
   "outputs": [],
   "source": [
    "h0_variance = 100\n",
    "observed_variance = 162\n",
    "n = 30\n",
    "df = n-1\n",
    "alpha = 0.05"
   ]
  },
  {
   "cell_type": "code",
   "execution_count": 89,
   "id": "dbb72993-8ebf-4669-9b3d-28487ea585bd",
   "metadata": {},
   "outputs": [
    {
     "data": {
      "text/plain": [
       "42.55696780429269"
      ]
     },
     "execution_count": 89,
     "metadata": {},
     "output_type": "execute_result"
    }
   ],
   "source": [
    "critical_value = stats.chi2.ppf(1-alpha,df)\n",
    "critical_value"
   ]
  },
  {
   "cell_type": "code",
   "execution_count": 90,
   "id": "16419de6-8d03-46e0-9f4c-84ad476124d5",
   "metadata": {},
   "outputs": [
    {
     "data": {
      "text/plain": [
       "46.98"
      ]
     },
     "execution_count": 90,
     "metadata": {},
     "output_type": "execute_result"
    }
   ],
   "source": [
    "test_statistic = df*observed_variance/h0_variance\n",
    "test_statistic"
   ]
  },
  {
   "cell_type": "markdown",
   "id": "79063ac7-c0a0-4c32-89ce-b6be5b725996",
   "metadata": {},
   "source": [
    "The sample data does offer sufficient evidence to conclude<br>\n",
    "the production variance of the new variance is higher than that<br>\n",
    "of the provious machine. Recalibration/repair of the new machine may be necessary."
   ]
  },
  {
   "cell_type": "code",
   "execution_count": 91,
   "id": "f7c979b3-310e-4e19-aa58-45c59593c9c2",
   "metadata": {},
   "outputs": [
    {
     "data": {
      "text/plain": [
       "0.018704373832863164"
      ]
     },
     "execution_count": 91,
     "metadata": {},
     "output_type": "execute_result"
    }
   ],
   "source": [
    "p_value = 1-stats.chi2.cdf(test_statistic,df)\n",
    "p_value"
   ]
  },
  {
   "cell_type": "code",
   "execution_count": null,
   "id": "055c8d64-e21d-46ec-980a-4056b827032d",
   "metadata": {},
   "outputs": [],
   "source": []
  },
  {
   "cell_type": "markdown",
   "id": "17dadd87-80fe-4a44-b965-6fb57042522e",
   "metadata": {
    "jp-MarkdownHeadingCollapsed": true
   },
   "source": [
    "# Type II Error"
   ]
  },
  {
   "cell_type": "markdown",
   "id": "64b890ce-719f-45da-a5af-638772da7804",
   "metadata": {},
   "source": [
    "<div>\n",
    "    <img src='./images/hypothesis5.png' width=700>\n",
    "</div>"
   ]
  },
  {
   "cell_type": "markdown",
   "id": "b6a16eec-67f5-440e-9479-12ed78a490ee",
   "metadata": {},
   "source": [
    "<div>\n",
    "    <img src='./images/hypothesis6.png' width=600>\n",
    "</div>"
   ]
  },
  {
   "cell_type": "markdown",
   "id": "fdeda971-c3c1-4e02-b4eb-46d022db2a4a",
   "metadata": {},
   "source": [
    "With two-tailed tests, both tails of the distribution contain rejection regions.<br>\n",
    "The area between the two tails is the nonrejection region and the region where<br>\n",
    "Type II errors can occur"
   ]
  },
  {
   "cell_type": "markdown",
   "id": "5a733356-d225-4b57-9741-a1831cd7e105",
   "metadata": {},
   "source": [
    "1. Find the critical values"
   ]
  },
  {
   "cell_type": "markdown",
   "id": "cc1023d7-3742-45a4-b9e2-65bd64e7c427",
   "metadata": {},
   "source": [
    "<div>\n",
    "    <img src='./images/hypothesis7.png' width=600>\n",
    "</div>"
   ]
  },
  {
   "cell_type": "code",
   "execution_count": 114,
   "id": "b4040708-9eb5-413f-be95-d83267e930ec",
   "metadata": {},
   "outputs": [
    {
     "data": {
      "text/plain": [
       "0.34"
      ]
     },
     "execution_count": 114,
     "metadata": {},
     "output_type": "execute_result"
    }
   ],
   "source": [
    "p_c1 = round(0.4 - 1.96*np.sqrt(0.4*0.6/250),2)\n",
    "p_c1"
   ]
  },
  {
   "cell_type": "code",
   "execution_count": 115,
   "id": "5b8f3e4a-ff74-43d1-b6b8-c29a2a2d633f",
   "metadata": {},
   "outputs": [
    {
     "data": {
      "text/plain": [
       "0.46"
      ]
     },
     "execution_count": 115,
     "metadata": {},
     "output_type": "execute_result"
    }
   ],
   "source": [
    "p_c2 = round(0.4 + 1.96*np.sqrt(0.4*0.6/250),2)\n",
    "p_c2"
   ]
  },
  {
   "cell_type": "markdown",
   "id": "2d41e658-b2ec-42ab-bcd5-c99173232384",
   "metadata": {},
   "source": [
    "let's use the z formula to calculate the area"
   ]
  },
  {
   "cell_type": "markdown",
   "id": "105a58d0-a5af-45dc-bc99-3ca16ffc14ff",
   "metadata": {},
   "source": [
    "<div>\n",
    "    <img src='./images/hypothesis8.png' width=400>\n",
    "</div>"
   ]
  },
  {
   "cell_type": "code",
   "execution_count": 116,
   "id": "c9f7095c-f8ce-4bae-bf7c-92df500e18ea",
   "metadata": {},
   "outputs": [
    {
     "data": {
      "text/plain": [
       "-0.66"
      ]
     },
     "execution_count": 116,
     "metadata": {},
     "output_type": "execute_result"
    }
   ],
   "source": [
    "z1 = round((p_c1-0.36)/np.sqrt(0.36*0.64/250),2)\n",
    "z1"
   ]
  },
  {
   "cell_type": "code",
   "execution_count": 117,
   "id": "cd8e86b4-e062-4009-aaca-576121374aab",
   "metadata": {},
   "outputs": [
    {
     "data": {
      "text/plain": [
       "3.29"
      ]
     },
     "execution_count": 117,
     "metadata": {},
     "output_type": "execute_result"
    }
   ],
   "source": [
    "z2 = round((p_c2-0.36)/np.sqrt(0.36*0.64/250),2)\n",
    "z2"
   ]
  },
  {
   "cell_type": "code",
   "execution_count": 118,
   "id": "188a22f7-8c97-4450-97e0-afceb88acb51",
   "metadata": {},
   "outputs": [
    {
     "data": {
      "text/plain": [
       "74.49"
      ]
     },
     "execution_count": 118,
     "metadata": {},
     "output_type": "execute_result"
    }
   ],
   "source": [
    "round(stats.norm.cdf(z2)-stats.norm.cdf(z1),4)*100"
   ]
  },
  {
   "cell_type": "markdown",
   "id": "c78a8fe3-02ed-47e0-af49-460682afc814",
   "metadata": {},
   "source": [
    "if the true population proportion were in fact .36, there is a chance of 75% of commiting a Type II Error."
   ]
  },
  {
   "cell_type": "code",
   "execution_count": null,
   "id": "4ac949f4-1b90-40bc-be2a-e2dacaeb49d6",
   "metadata": {},
   "outputs": [],
   "source": []
  }
 ],
 "metadata": {
  "kernelspec": {
   "display_name": "Python 3 (ipykernel)",
   "language": "python",
   "name": "python3"
  },
  "language_info": {
   "codemirror_mode": {
    "name": "ipython",
    "version": 3
   },
   "file_extension": ".py",
   "mimetype": "text/x-python",
   "name": "python",
   "nbconvert_exporter": "python",
   "pygments_lexer": "ipython3",
   "version": "3.11.7"
  }
 },
 "nbformat": 4,
 "nbformat_minor": 5
}
