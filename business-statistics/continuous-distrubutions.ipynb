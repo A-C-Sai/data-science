{
 "cells": [
  {
   "cell_type": "code",
   "execution_count": 1,
   "id": "59e38166-20d6-47a8-ae8c-2fd6c4419dbc",
   "metadata": {},
   "outputs": [],
   "source": [
    "import numpy as np\n",
    "import pandas as pd\n",
    "from scipy import stats\n",
    "import matplotlib.pyplot as plt\n",
    "import seaborn as sns"
   ]
  },
  {
   "cell_type": "code",
   "execution_count": null,
   "id": "bac9752b-04ee-4bbc-8a2a-55e4a9ea467a",
   "metadata": {},
   "outputs": [],
   "source": []
  },
  {
   "cell_type": "markdown",
   "id": "ad2c1c7c-9ed3-4e00-8add-1554b887069a",
   "metadata": {
    "jp-MarkdownHeadingCollapsed": true
   },
   "source": [
    "# Uniform"
   ]
  },
  {
   "cell_type": "markdown",
   "id": "de68d920-c9ad-4704-9b7c-cf6a660ba93e",
   "metadata": {},
   "source": [
    "<div>\n",
    "    <img src='./images/continuous1.png' width=700>\n",
    "<div/>"
   ]
  },
  {
   "cell_type": "code",
   "execution_count": 21,
   "id": "c0c642ed-7dc2-4893-83a5-d6297bd8e6f0",
   "metadata": {},
   "outputs": [],
   "source": [
    "time_distribution = stats.uniform(loc=27,scale=12)"
   ]
  },
  {
   "cell_type": "code",
   "execution_count": 28,
   "id": "a6a64e13-529b-4dd2-a5a9-b64ace5030db",
   "metadata": {},
   "outputs": [],
   "source": [
    "mean, variance, skew, kurtosis = time_distribution.stats('mvsk')"
   ]
  },
  {
   "cell_type": "code",
   "execution_count": 29,
   "id": "54da1650-0808-4560-b4ec-0f74938a73b8",
   "metadata": {},
   "outputs": [
    {
     "data": {
      "text/plain": [
       "33.0"
      ]
     },
     "execution_count": 29,
     "metadata": {},
     "output_type": "execute_result"
    }
   ],
   "source": [
    "mean"
   ]
  },
  {
   "cell_type": "code",
   "execution_count": 30,
   "id": "204fc95e-0dce-4e3e-ad09-dc5a74f48436",
   "metadata": {},
   "outputs": [
    {
     "data": {
      "text/plain": [
       "12.0"
      ]
     },
     "execution_count": 30,
     "metadata": {},
     "output_type": "execute_result"
    }
   ],
   "source": [
    "variance"
   ]
  },
  {
   "cell_type": "code",
   "execution_count": 31,
   "id": "0cc68556-ed93-450d-9439-badf850a8b12",
   "metadata": {},
   "outputs": [
    {
     "data": {
      "text/plain": [
       "0.0"
      ]
     },
     "execution_count": 31,
     "metadata": {},
     "output_type": "execute_result"
    }
   ],
   "source": [
    "standard_deviation"
   ]
  },
  {
   "cell_type": "code",
   "execution_count": 32,
   "id": "8da41574-e794-4074-afe6-7150128e9c07",
   "metadata": {},
   "outputs": [
    {
     "data": {
      "text/plain": [
       "-1.2"
      ]
     },
     "execution_count": 32,
     "metadata": {},
     "output_type": "execute_result"
    }
   ],
   "source": [
    "kurtosis"
   ]
  },
  {
   "cell_type": "code",
   "execution_count": 45,
   "id": "e59c4710-da02-440d-ab6d-491cd74db190",
   "metadata": {},
   "outputs": [
    {
     "data": {
      "text/plain": [
       "0.41666666666666663"
      ]
     },
     "execution_count": 45,
     "metadata": {},
     "output_type": "execute_result"
    }
   ],
   "source": [
    "stats.uniform.cdf(35,loc=27,scale=12) - stats.uniform.cdf(30,loc=27,scale=12)"
   ]
  },
  {
   "cell_type": "code",
   "execution_count": 48,
   "id": "d0658786-2377-4c91-87b5-9ea7b3254e6e",
   "metadata": {},
   "outputs": [
    {
     "data": {
      "text/plain": [
       "0.25"
      ]
     },
     "execution_count": 48,
     "metadata": {},
     "output_type": "execute_result"
    }
   ],
   "source": [
    "stats.uniform.cdf(30,loc=27,scale=12)"
   ]
  },
  {
   "cell_type": "markdown",
   "id": "4146433a-e1e1-45a3-9ef5-334001233ebc",
   "metadata": {},
   "source": [
    "In a continuous distribution, there is no area at any one point (only over an interval)<br>\n",
    "Thus the probability x < 30 is the same as the probability of x <= 30."
   ]
  },
  {
   "cell_type": "code",
   "execution_count": null,
   "id": "5847f8f4-ffa4-44ef-bfd6-e5a0994dceb8",
   "metadata": {},
   "outputs": [],
   "source": []
  },
  {
   "cell_type": "markdown",
   "id": "21ad45d0-551a-4d54-960c-a818b264d4d0",
   "metadata": {
    "jp-MarkdownHeadingCollapsed": true
   },
   "source": [
    "# Normal"
   ]
  },
  {
   "cell_type": "markdown",
   "id": "391195ef-f659-4511-bd4b-d2c3ab218d02",
   "metadata": {},
   "source": [
    "<div>\n",
    "    <img src='./images/continuous2.png' width=700>\n",
    "</div>"
   ]
  },
  {
   "cell_type": "code",
   "execution_count": 50,
   "id": "38ce3b8e-0e1c-4940-87ed-03222d615647",
   "metadata": {},
   "outputs": [
    {
     "data": {
      "text/plain": [
       "0.019699270409376912"
      ]
     },
     "execution_count": 50,
     "metadata": {},
     "output_type": "execute_result"
    }
   ],
   "source": [
    "1 - stats.norm.cdf(700,loc=494,scale=100)"
   ]
  },
  {
   "cell_type": "markdown",
   "id": "30c13dff-e1f0-48aa-9c59-272460d73ace",
   "metadata": {},
   "source": [
    "<div>\n",
    "    <img src='./images/continuous3.png' width=700>\n",
    "</div>"
   ]
  },
  {
   "cell_type": "code",
   "execution_count": 52,
   "id": "c41f2647-3685-4f1d-8f75-749bdaecd75f",
   "metadata": {},
   "outputs": [
    {
     "data": {
      "text/plain": [
       "0.8292378553956377"
      ]
     },
     "execution_count": 52,
     "metadata": {},
     "output_type": "execute_result"
    }
   ],
   "source": [
    "stats.norm.cdf(600,loc=494,scale=100) - stats.norm.cdf(300,loc=494,scale=100)"
   ]
  },
  {
   "cell_type": "code",
   "execution_count": 59,
   "id": "62292b7b-300e-45d5-ba22-4f74f711f3f1",
   "metadata": {},
   "outputs": [
    {
     "data": {
      "text/plain": [
       "409.0400813301245"
      ]
     },
     "execution_count": 59,
     "metadata": {},
     "output_type": "execute_result"
    }
   ],
   "source": [
    "449-stats.norm.ppf(0.8665)*36"
   ]
  },
  {
   "cell_type": "code",
   "execution_count": null,
   "id": "52dca659-7508-4096-9163-83298fda0e04",
   "metadata": {},
   "outputs": [],
   "source": []
  },
  {
   "cell_type": "markdown",
   "id": "0efc4c20-22bc-4b85-9409-cc8a401437eb",
   "metadata": {},
   "source": [
    "<div>\n",
    "    <img src='./images/continuous4.png' width=700>\n",
    "</div>"
   ]
  },
  {
   "cell_type": "code",
   "execution_count": 61,
   "id": "280f66f4-926a-4a08-bf59-c356f0c114dc",
   "metadata": {},
   "outputs": [
    {
     "data": {
      "text/plain": [
       "409.0400813301245"
      ]
     },
     "execution_count": 61,
     "metadata": {},
     "output_type": "execute_result"
    }
   ],
   "source": [
    "# z=(x-mu)/sigma\n",
    "# mu = x-(z*sigma)\n",
    "449-stats.norm.ppf(0.8665)*36"
   ]
  },
  {
   "cell_type": "code",
   "execution_count": null,
   "id": "b60e01d9-f661-43c9-9465-eb1b008e77f2",
   "metadata": {},
   "outputs": [],
   "source": []
  },
  {
   "cell_type": "markdown",
   "id": "16194d93-696d-45cd-87f1-f7e9499eb23d",
   "metadata": {
    "jp-MarkdownHeadingCollapsed": true
   },
   "source": [
    "# Exponential"
   ]
  },
  {
   "cell_type": "markdown",
   "id": "69746604-9fb6-48af-bb66-fcc406c9d14d",
   "metadata": {},
   "source": [
    "Arrivals at a bank are Poisson distributed with a of 1.2 customers every<br>\r",
    "minute. What is the average time between arrivals and what is the probability that at least<br>\r",
    "2 minutes will elapse between one arrival and the next arrival?"
   ]
  },
  {
   "cell_type": "code",
   "execution_count": 82,
   "id": "faa5d275-15b2-4850-8566-1e45edaa0d54",
   "metadata": {},
   "outputs": [],
   "source": [
    "lambda_ = 1.2"
   ]
  },
  {
   "cell_type": "code",
   "execution_count": 92,
   "id": "e94fd484-938e-4798-a3f5-861dab71e2ea",
   "metadata": {},
   "outputs": [
    {
     "data": {
      "image/png": "[encoded data removed]",
      "text/plain": [
       "<Figure size 640x480 with 1 Axes>"
      ]
     },
     "metadata": {},
     "output_type": "display_data"
    }
   ],
   "source": [
    "plt.plot(np.linspace(0,5),[ lambda_*np.exp(-lambda_*x) for x in np.linspace(0,5)])\n",
    "plt.axvspan(ymin=0,ymax=0.2,xmax=5,xmin=2,alpha=0.2)\n",
    "plt.show()"
   ]
  },
  {
   "cell_type": "markdown",
   "id": "05e46d32-d53f-4096-b5d1-eb3218b0723d",
   "metadata": {},
   "source": [
    "Since the interval for lambda is 1 minute and we want to know the probability that <br>\n",
    "at least 2 minutes transpire between arrivals x0 = 2"
   ]
  },
  {
   "cell_type": "code",
   "execution_count": 94,
   "id": "7c400005-2726-44c1-9d75-20035f3e0133",
   "metadata": {},
   "outputs": [
    {
     "data": {
      "text/plain": [
       "50.0"
      ]
     },
     "execution_count": 94,
     "metadata": {},
     "output_type": "execute_result"
    }
   ],
   "source": [
    "stats.expon.mean(scale=1/lambda_)*60"
   ]
  },
  {
   "cell_type": "markdown",
   "id": "09c3ffb8-e4ca-4f02-9960-4a6a683f9302",
   "metadata": {},
   "source": [
    "on average 50 seconds will elapse b/w arrivals at the bank"
   ]
  },
  {
   "cell_type": "code",
   "execution_count": 98,
   "id": "51fde2a1-7bf7-47a1-9d18-f45662fcc85d",
   "metadata": {},
   "outputs": [
    {
     "data": {
      "text/plain": [
       "9.071795328941246"
      ]
     },
     "execution_count": 98,
     "metadata": {},
     "output_type": "execute_result"
    }
   ],
   "source": [
    "(1-stats.expon.cdf(2, loc=0, scale=1/lambda_))*100"
   ]
  },
  {
   "cell_type": "markdown",
   "id": "3f430365-0211-4e67-8aec-04aaa4fe3e23",
   "metadata": {},
   "source": [
    "9.07% of the time when the rate of random arrivals is 1.2/minute, 2 minutes or more will elapse<br>\n",
    "between arrivals."
   ]
  },
  {
   "cell_type": "code",
   "execution_count": null,
   "id": "571e824e-5c08-4cdd-af7f-4fc7dfb6e1ac",
   "metadata": {},
   "outputs": [],
   "source": []
  },
  {
   "cell_type": "markdown",
   "id": "4354e16b-3ed4-475c-8ba8-b58d08bf74dd",
   "metadata": {},
   "source": [
    "<div>\n",
    "    <img src='./images/continuous5.png' width=800>\n",
    "</div>"
   ]
  },
  {
   "cell_type": "code",
   "execution_count": 190,
   "id": "a7f6b6f4-c1c5-4d57-820c-41eacdc2269c",
   "metadata": {},
   "outputs": [],
   "source": [
    "lambda_ = 1.38"
   ]
  },
  {
   "cell_type": "code",
   "execution_count": 191,
   "id": "2ee0b811-fc98-4ea9-825f-6e415cd42ecd",
   "metadata": {},
   "outputs": [
    {
     "data": {
      "text/plain": [
       "14.492753623188408"
      ]
     },
     "execution_count": 191,
     "metadata": {},
     "output_type": "execute_result"
    }
   ],
   "source": [
    "stats.expon.mean(scale=1/lambda_)*20"
   ]
  },
  {
   "cell_type": "markdown",
   "id": "ca8e3008-41a0-47fa-9162-379ec713c0ac",
   "metadata": {},
   "source": [
    "On average 14.49 minutes between defects"
   ]
  },
  {
   "cell_type": "code",
   "execution_count": 192,
   "id": "aca72c84-db20-49ed-84b5-332e66d74db0",
   "metadata": {},
   "outputs": [],
   "source": [
    "x0 = 15/20  # number of intervals is 0.75 our definition of interval is 20 minutes"
   ]
  },
  {
   "cell_type": "markdown",
   "id": "28cec112-3ca5-4f50-b72a-b0c42f1cfc3d",
   "metadata": {},
   "source": [
    "x0 represents the desired number intervals b/w arrivals or occurrences for the probability equation"
   ]
  },
  {
   "cell_type": "code",
   "execution_count": 193,
   "id": "06a4199c-4218-4350-8914-a33e84d75db6",
   "metadata": {},
   "outputs": [
    {
     "data": {
      "text/plain": [
       "64.47736190750484"
      ]
     },
     "execution_count": 193,
     "metadata": {},
     "output_type": "execute_result"
    }
   ],
   "source": [
    "stats.expon.cdf(x0,loc=0,scale=1/lambda_)*100"
   ]
  },
  {
   "cell_type": "markdown",
   "id": "0ff3c826-8ecd-4d45-b6b9-3bfa5ec2b9fb",
   "metadata": {},
   "source": [
    "There is a 64.47% probability that less than 15 minutes will elapse b.w two defects when<br>\n",
    "there is an average of 1.38 defects / 20 minutes interval or an average of 14.49 minutes b/w defects."
   ]
  },
  {
   "cell_type": "code",
   "execution_count": null,
   "id": "72979c1c-a3c3-4c50-969a-9d92c56237a3",
   "metadata": {},
   "outputs": [],
   "source": []
  },
  {
   "cell_type": "markdown",
   "id": "30165cf2-7a77-4a62-b705-0166bbb836c1",
   "metadata": {
    "jp-MarkdownHeadingCollapsed": true
   },
   "source": [
    "# Questions"
   ]
  },
  {
   "cell_type": "markdown",
   "id": "dd2e9585-b5cf-41c7-8be4-db66b6a87619",
   "metadata": {},
   "source": [
    "<div>\n",
    "    <img src='./images/continuous6.png' width=700>\n",
    "</div>"
   ]
  },
  {
   "cell_type": "code",
   "execution_count": 195,
   "id": "059550e1-fb4d-4611-83f4-3466e3dc3c8a",
   "metadata": {},
   "outputs": [],
   "source": [
    "lambda_= 3"
   ]
  },
  {
   "cell_type": "code",
   "execution_count": 196,
   "id": "27b003d2-ba82-4efb-a38f-c170679774ad",
   "metadata": {},
   "outputs": [
    {
     "data": {
      "text/plain": [
       "54.88116360940264"
      ]
     },
     "execution_count": 196,
     "metadata": {},
     "output_type": "execute_result"
    }
   ],
   "source": [
    "#a.\n",
    "x0 = 1/5\n",
    "(1-stats.expon.cdf(x0,loc=0,scale=1/lambda_))*100"
   ]
  },
  {
   "cell_type": "code",
   "execution_count": 197,
   "id": "de58b478-e69b-4faf-bc33-1dc398091c27",
   "metadata": {},
   "outputs": [
    {
     "data": {
      "text/plain": [
       "25.918177931828218"
      ]
     },
     "execution_count": 197,
     "metadata": {},
     "output_type": "execute_result"
    }
   ],
   "source": [
    "#b. \n",
    "x0 = 2/20\n",
    "(stats.expon.cdf(x0,loc=0,scale=1/lambda_))*100"
   ]
  },
  {
   "cell_type": "code",
   "execution_count": 198,
   "id": "0247134b-b800-452d-8b84-7e0a19594476",
   "metadata": {},
   "outputs": [
    {
     "data": {
      "text/plain": [
       "1.6666666666666665"
      ]
     },
     "execution_count": 198,
     "metadata": {},
     "output_type": "execute_result"
    }
   ],
   "source": [
    "#c.\n",
    "stats.expon.mean(scale=1/3)*5"
   ]
  },
  {
   "cell_type": "markdown",
   "id": "7bc88a1b-3cf7-44cb-b9a7-fe210f524b27",
   "metadata": {},
   "source": [
    "1.67 months"
   ]
  },
  {
   "cell_type": "code",
   "execution_count": null,
   "id": "5d5270f5-1c85-4b9d-a3f8-f44812a7ee27",
   "metadata": {},
   "outputs": [],
   "source": []
  },
  {
   "cell_type": "code",
   "execution_count": null,
   "id": "4826eae9-dc96-41e5-beb2-31adb663038c",
   "metadata": {},
   "outputs": [],
   "source": []
  }
 ],
 "metadata": {
  "kernelspec": {
   "display_name": "Python 3 (ipykernel)",
   "language": "python",
   "name": "python3"
  },
  "language_info": {
   "codemirror_mode": {
    "name": "ipython",
    "version": 3
   },
   "file_extension": ".py",
   "mimetype": "text/x-python",
   "name": "python",
   "nbconvert_exporter": "python",
   "pygments_lexer": "ipython3",
   "version": "3.11.7"
  }
 },
 "nbformat": 4,
 "nbformat_minor": 5
}
