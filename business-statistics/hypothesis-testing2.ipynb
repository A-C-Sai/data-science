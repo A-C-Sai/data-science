{
 "cells": [
  {
   "cell_type": "code",
   "execution_count": 1,
   "id": "df3f745a-af2a-484e-9ea9-b06fe9a2501d",
   "metadata": {},
   "outputs": [],
   "source": [
    "import numpy as np\n",
    "import pandas as pd\n",
    "from scipy import stats"
   ]
  },
  {
   "cell_type": "code",
   "execution_count": null,
   "id": "73da5c65-3959-48a6-a23d-4647d20ea958",
   "metadata": {},
   "outputs": [],
   "source": []
  },
  {
   "cell_type": "markdown",
   "id": "49aa1bdc-7e25-4fe7-9827-514f3573d107",
   "metadata": {},
   "source": [
    "# 2 Sample Z-test "
   ]
  },
  {
   "cell_type": "markdown",
   "id": "e4ce6d4f-f3bc-4b21-b9fd-1c7145991d2e",
   "metadata": {},
   "source": [
    "<div>\n",
    "    <img src='./images/2samplez.png' width=800>\n",
    "</div>"
   ]
  },
  {
   "cell_type": "code",
   "execution_count": 2,
   "id": "39d0352e-4624-48b3-a438-ba473356a9bb",
   "metadata": {},
   "outputs": [
    {
     "data": {
      "text/html": [
       "<div>\n",
       "<style scoped>\n",
       "    .dataframe tbody tr th:only-of-type {\n",
       "        vertical-align: middle;\n",
       "    }\n",
       "\n",
       "    .dataframe tbody tr th {\n",
       "        vertical-align: top;\n",
       "    }\n",
       "\n",
       "    .dataframe thead th {\n",
       "        text-align: right;\n",
       "    }\n",
       "</style>\n",
       "<table border=\"1\" class=\"dataframe\">\n",
       "  <thead>\n",
       "    <tr style=\"text-align: right;\">\n",
       "      <th></th>\n",
       "      <th>A</th>\n",
       "      <th>B</th>\n",
       "    </tr>\n",
       "  </thead>\n",
       "  <tbody>\n",
       "    <tr>\n",
       "      <th>n</th>\n",
       "      <td>40.00</td>\n",
       "      <td>37.00</td>\n",
       "    </tr>\n",
       "    <tr>\n",
       "      <th>x_hat</th>\n",
       "      <td>5.30</td>\n",
       "      <td>6.50</td>\n",
       "    </tr>\n",
       "    <tr>\n",
       "      <th>sigma</th>\n",
       "      <td>1.99</td>\n",
       "      <td>2.36</td>\n",
       "    </tr>\n",
       "  </tbody>\n",
       "</table>\n",
       "</div>"
      ],
      "text/plain": [
       "           A      B\n",
       "n      40.00  37.00\n",
       "x_hat   5.30   6.50\n",
       "sigma   1.99   2.36"
      ]
     },
     "execution_count": 2,
     "metadata": {},
     "output_type": "execute_result"
    }
   ],
   "source": [
    "data = pd.DataFrame({'A':[40,5.3,1.99],'B':[37,6.5,2.36]}, index=['n','x_hat','sigma'])\n",
    "data"
   ]
  },
  {
   "cell_type": "code",
   "execution_count": 10,
   "id": "c63475df-4650-4aba-9f72-7d27a0e25d72",
   "metadata": {},
   "outputs": [],
   "source": [
    "lower_bound = (data.B.x_hat-data.A.x_hat)+stats.norm.ppf(0.025)* \\\n",
    "                np.sqrt((data.A.sigma/data.A.n)+(data.B.sigma/data.B.n))"
   ]
  },
  {
   "cell_type": "code",
   "execution_count": 11,
   "id": "8602e352-ce81-4f3c-a665-3a3fa7eed769",
   "metadata": {},
   "outputs": [],
   "source": [
    "upper_bound = (data.B.x_hat-data.A.x_hat)-stats.norm.ppf(0.025)* \\\n",
    "                np.sqrt((data.A.sigma/data.A.n)+(data.B.sigma/data.B.n))"
   ]
  },
  {
   "cell_type": "code",
   "execution_count": 12,
   "id": "87cf64be-c7c6-44b9-b9e6-db9c6535b202",
   "metadata": {},
   "outputs": [
    {
     "name": "stdout",
     "output_type": "stream",
     "text": [
      "0.539594552442974 <= mu1-mu2 <= 1.8604054475570262\n"
     ]
    }
   ],
   "source": [
    "print(f'{lower_bound} <= mu1-mu2 <= {upper_bound}')"
   ]
  },
  {
   "cell_type": "markdown",
   "id": "123a8ab8-6d45-436f-9bd1-2d5f8a424d87",
   "metadata": {},
   "source": [
    "**0 difference in the population means of these two plumbers is unlikely, because zero is not in the 95% range.**"
   ]
  },
  {
   "cell_type": "code",
   "execution_count": null,
   "id": "754c6863-b9ae-4850-91ca-6e5503a0dad2",
   "metadata": {},
   "outputs": [],
   "source": []
  },
  {
   "cell_type": "markdown",
   "id": "acd84b01-5e58-4dc2-ad01-7bea54fa0ae1",
   "metadata": {},
   "source": [
    "# Paired t-test"
   ]
  },
  {
   "cell_type": "markdown",
   "id": "1254fe0c-8277-4709-a48e-02ba976c7445",
   "metadata": {},
   "source": [
    "<div>\n",
    "    <img src='./images/pairedttest.png' width=700>\n",
    "</div>"
   ]
  },
  {
   "cell_type": "code",
   "execution_count": 13,
   "id": "6aff8bc2-4921-4dbc-b706-8db96a6be37f",
   "metadata": {
    "scrolled": true
   },
   "outputs": [
    {
     "name": "stdout",
     "output_type": "stream",
     "text": [
      "Collecting pingouin\n",
      "  Downloading pingouin-0.5.4-py2.py3-none-any.whl.metadata (1.1 kB)\n",
      "Requirement already satisfied: numpy in /opt/anaconda3/lib/python3.11/site-packages (from pingouin) (1.26.4)\n",
      "Requirement already satisfied: scipy in /opt/anaconda3/lib/python3.11/site-packages (from pingouin) (1.11.4)\n",
      "Requirement already satisfied: pandas>=1.5 in /opt/anaconda3/lib/python3.11/site-packages (from pingouin) (2.1.4)\n",
      "Requirement already satisfied: matplotlib in /opt/anaconda3/lib/python3.11/site-packages (from pingouin) (3.8.0)\n",
      "Requirement already satisfied: seaborn in /opt/anaconda3/lib/python3.11/site-packages (from pingouin) (0.13.2)\n",
      "Requirement already satisfied: statsmodels in /opt/anaconda3/lib/python3.11/site-packages (from pingouin) (0.14.0)\n",
      "Requirement already satisfied: scikit-learn in /opt/anaconda3/lib/python3.11/site-packages (from pingouin) (1.4.1.post1)\n",
      "Collecting pandas-flavor (from pingouin)\n",
      "  Downloading pandas_flavor-0.6.0-py3-none-any.whl.metadata (6.3 kB)\n",
      "Requirement already satisfied: tabulate in /opt/anaconda3/lib/python3.11/site-packages (from pingouin) (0.9.0)\n",
      "Requirement already satisfied: python-dateutil>=2.8.2 in /opt/anaconda3/lib/python3.11/site-packages (from pandas>=1.5->pingouin) (2.8.2)\n",
      "Requirement already satisfied: pytz>=2020.1 in /opt/anaconda3/lib/python3.11/site-packages (from pandas>=1.5->pingouin) (2023.3.post1)\n",
      "Requirement already satisfied: tzdata>=2022.1 in /opt/anaconda3/lib/python3.11/site-packages (from pandas>=1.5->pingouin) (2023.3)\n",
      "Requirement already satisfied: contourpy>=1.0.1 in /opt/anaconda3/lib/python3.11/site-packages (from matplotlib->pingouin) (1.2.0)\n",
      "Requirement already satisfied: cycler>=0.10 in /opt/anaconda3/lib/python3.11/site-packages (from matplotlib->pingouin) (0.11.0)\n",
      "Requirement already satisfied: fonttools>=4.22.0 in /opt/anaconda3/lib/python3.11/site-packages (from matplotlib->pingouin) (4.25.0)\n",
      "Requirement already satisfied: kiwisolver>=1.0.1 in /opt/anaconda3/lib/python3.11/site-packages (from matplotlib->pingouin) (1.4.4)\n",
      "Requirement already satisfied: packaging>=20.0 in /opt/anaconda3/lib/python3.11/site-packages (from matplotlib->pingouin) (23.1)\n",
      "Requirement already satisfied: pillow>=6.2.0 in /opt/anaconda3/lib/python3.11/site-packages (from matplotlib->pingouin) (10.2.0)\n",
      "Requirement already satisfied: pyparsing>=2.3.1 in /opt/anaconda3/lib/python3.11/site-packages (from matplotlib->pingouin) (3.0.9)\n",
      "Requirement already satisfied: xarray in /opt/anaconda3/lib/python3.11/site-packages (from pandas-flavor->pingouin) (2023.6.0)\n",
      "Requirement already satisfied: joblib>=1.2.0 in /opt/anaconda3/lib/python3.11/site-packages (from scikit-learn->pingouin) (1.2.0)\n",
      "Requirement already satisfied: threadpoolctl>=2.0.0 in /opt/anaconda3/lib/python3.11/site-packages (from scikit-learn->pingouin) (2.2.0)\n",
      "Requirement already satisfied: patsy>=0.5.2 in /opt/anaconda3/lib/python3.11/site-packages (from statsmodels->pingouin) (0.5.3)\n",
      "Requirement already satisfied: six in /opt/anaconda3/lib/python3.11/site-packages (from patsy>=0.5.2->statsmodels->pingouin) (1.16.0)\n",
      "Downloading pingouin-0.5.4-py2.py3-none-any.whl (198 kB)\n",
      "\u001b[2K   \u001b[90m━━━━━━━━━━━━━━━━━━━━━━━━━━━━━━━━━━━━━━━\u001b[0m \u001b[32m198.9/198.9 kB\u001b[0m \u001b[31m450.5 kB/s\u001b[0m eta \u001b[36m0:00:00\u001b[0ma \u001b[36m0:00:01\u001b[0m\n",
      "\u001b[?25hDownloading pandas_flavor-0.6.0-py3-none-any.whl (7.2 kB)\n",
      "Installing collected packages: pandas-flavor, pingouin\n",
      "Successfully installed pandas-flavor-0.6.0 pingouin-0.5.4\n"
     ]
    }
   ],
   "source": [
    "!pip install pingouin"
   ]
  },
  {
   "cell_type": "code",
   "execution_count": 14,
   "id": "9e034bca-59b5-488e-81d4-50fd89256b7d",
   "metadata": {},
   "outputs": [
    {
     "data": {
      "text/html": [
       "<div>\n",
       "<style scoped>\n",
       "    .dataframe tbody tr th:only-of-type {\n",
       "        vertical-align: middle;\n",
       "    }\n",
       "\n",
       "    .dataframe tbody tr th {\n",
       "        vertical-align: top;\n",
       "    }\n",
       "\n",
       "    .dataframe thead th {\n",
       "        text-align: right;\n",
       "    }\n",
       "</style>\n",
       "<table border=\"1\" class=\"dataframe\">\n",
       "  <thead>\n",
       "    <tr style=\"text-align: right;\">\n",
       "      <th></th>\n",
       "      <th>before</th>\n",
       "      <th>after</th>\n",
       "    </tr>\n",
       "  </thead>\n",
       "  <tbody>\n",
       "    <tr>\n",
       "      <th>0</th>\n",
       "      <td>32</td>\n",
       "      <td>39</td>\n",
       "    </tr>\n",
       "    <tr>\n",
       "      <th>1</th>\n",
       "      <td>11</td>\n",
       "      <td>15</td>\n",
       "    </tr>\n",
       "    <tr>\n",
       "      <th>2</th>\n",
       "      <td>21</td>\n",
       "      <td>35</td>\n",
       "    </tr>\n",
       "    <tr>\n",
       "      <th>3</th>\n",
       "      <td>17</td>\n",
       "      <td>13</td>\n",
       "    </tr>\n",
       "    <tr>\n",
       "      <th>4</th>\n",
       "      <td>30</td>\n",
       "      <td>41</td>\n",
       "    </tr>\n",
       "    <tr>\n",
       "      <th>5</th>\n",
       "      <td>38</td>\n",
       "      <td>39</td>\n",
       "    </tr>\n",
       "    <tr>\n",
       "      <th>6</th>\n",
       "      <td>14</td>\n",
       "      <td>22</td>\n",
       "    </tr>\n",
       "  </tbody>\n",
       "</table>\n",
       "</div>"
      ],
      "text/plain": [
       "   before  after\n",
       "0      32     39\n",
       "1      11     15\n",
       "2      21     35\n",
       "3      17     13\n",
       "4      30     41\n",
       "5      38     39\n",
       "6      14     22"
      ]
     },
     "execution_count": 14,
     "metadata": {},
     "output_type": "execute_result"
    }
   ],
   "source": [
    "data = pd.DataFrame({'before':[32,11,21,17,30,38,14],\n",
    "                    'after':[39,15,35,13,41,39,22]})\n",
    "data"
   ]
  },
  {
   "cell_type": "code",
   "execution_count": 15,
   "id": "29c6db43-0933-4844-bd59-01992686fe9a",
   "metadata": {},
   "outputs": [],
   "source": [
    "import pingouin as pin"
   ]
  },
  {
   "cell_type": "markdown",
   "id": "45d1140e-7750-4648-abf1-c3b294f3e483",
   "metadata": {},
   "source": [
    "<div>\n",
    "    <img src='./images/pingouin-ttest.png' width=700>\n",
    "</div>"
   ]
  },
  {
   "cell_type": "markdown",
   "id": "fe8e345d-2c46-453e-b635-e0337d3fff9a",
   "metadata": {},
   "source": [
    "H0: D = 0<br>\n",
    "Ha: D > 0"
   ]
  },
  {
   "cell_type": "code",
   "execution_count": 36,
   "id": "6f0cc15c-cbdc-4a23-9826-b815ffab503e",
   "metadata": {},
   "outputs": [],
   "source": [
    "paired_ttest = pin.ttest(data.after.values,data.before.values,paired=True,alternative='greater',confidence=0.95)"
   ]
  },
  {
   "cell_type": "code",
   "execution_count": 37,
   "id": "1f8a4088-17b0-4f24-b313-1dabb6a5260c",
   "metadata": {},
   "outputs": [
    {
     "data": {
      "text/html": [
       "<div>\n",
       "<style scoped>\n",
       "    .dataframe tbody tr th:only-of-type {\n",
       "        vertical-align: middle;\n",
       "    }\n",
       "\n",
       "    .dataframe tbody tr th {\n",
       "        vertical-align: top;\n",
       "    }\n",
       "\n",
       "    .dataframe thead th {\n",
       "        text-align: right;\n",
       "    }\n",
       "</style>\n",
       "<table border=\"1\" class=\"dataframe\">\n",
       "  <thead>\n",
       "    <tr style=\"text-align: right;\">\n",
       "      <th></th>\n",
       "      <th>T</th>\n",
       "      <th>dof</th>\n",
       "      <th>alternative</th>\n",
       "      <th>p-val</th>\n",
       "      <th>CI95%</th>\n",
       "      <th>cohen-d</th>\n",
       "      <th>BF10</th>\n",
       "      <th>power</th>\n",
       "    </tr>\n",
       "  </thead>\n",
       "  <tbody>\n",
       "    <tr>\n",
       "      <th>T-test</th>\n",
       "      <td>2.542712</td>\n",
       "      <td>6</td>\n",
       "      <td>greater</td>\n",
       "      <td>0.02196</td>\n",
       "      <td>[1.38, inf]</td>\n",
       "      <td>0.523829</td>\n",
       "      <td>4.369</td>\n",
       "      <td>0.339258</td>\n",
       "    </tr>\n",
       "  </tbody>\n",
       "</table>\n",
       "</div>"
      ],
      "text/plain": [
       "               T  dof alternative    p-val        CI95%   cohen-d   BF10  \\\n",
       "T-test  2.542712    6     greater  0.02196  [1.38, inf]  0.523829  4.369   \n",
       "\n",
       "           power  \n",
       "T-test  0.339258  "
      ]
     },
     "execution_count": 37,
     "metadata": {},
     "output_type": "execute_result"
    }
   ],
   "source": [
    "paired_ttest"
   ]
  },
  {
   "cell_type": "code",
   "execution_count": 38,
   "id": "8020943d-b957-44a3-874f-9fed64255f54",
   "metadata": {},
   "outputs": [
    {
     "data": {
      "text/plain": [
       "T-test    2.542712\n",
       "Name: T, dtype: float64"
      ]
     },
     "execution_count": 38,
     "metadata": {},
     "output_type": "execute_result"
    }
   ],
   "source": [
    "paired_ttest['T']"
   ]
  },
  {
   "cell_type": "code",
   "execution_count": 39,
   "id": "2da1c66d-6fb5-49a3-9a97-c9e5223e8f01",
   "metadata": {},
   "outputs": [
    {
     "data": {
      "text/plain": [
       "True"
      ]
     },
     "execution_count": 39,
     "metadata": {},
     "output_type": "execute_result"
    }
   ],
   "source": [
    "paired_ttest['p-val'].iloc[0]<0.05"
   ]
  },
  {
   "cell_type": "markdown",
   "id": "8632e442-a392-445b-9a09-7b48ee4c5fa5",
   "metadata": {},
   "source": [
    "**Reject H0. There is enough evidence to conclude that, on average, the ratings have<br>\r",
    "increased significantly. This result might be used by managers to support a decision to<br>\r",
    "continue using the videos or to expand the use of such videos in an effort to increase<br>\r",
    "public support for their company.<br>**"
   ]
  },
  {
   "cell_type": "code",
   "execution_count": null,
   "id": "2054c026-e673-40b1-8ead-4b6411f39fbe",
   "metadata": {},
   "outputs": [],
   "source": []
  },
  {
   "cell_type": "code",
   "execution_count": null,
   "id": "5713ddd8-45cc-499c-be1a-f022fd0baa3c",
   "metadata": {},
   "outputs": [],
   "source": []
  },
  {
   "cell_type": "code",
   "execution_count": null,
   "id": "4309671c-3c72-4739-9b84-1535f9b8353f",
   "metadata": {},
   "outputs": [],
   "source": []
  }
 ],
 "metadata": {
  "kernelspec": {
   "display_name": "Python 3 (ipykernel)",
   "language": "python",
   "name": "python3"
  },
  "language_info": {
   "codemirror_mode": {
    "name": "ipython",
    "version": 3
   },
   "file_extension": ".py",
   "mimetype": "text/x-python",
   "name": "python",
   "nbconvert_exporter": "python",
   "pygments_lexer": "ipython3",
   "version": "3.11.7"
  }
 },
 "nbformat": 4,
 "nbformat_minor": 5
}
