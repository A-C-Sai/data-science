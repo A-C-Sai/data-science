{
 "cells": [
  {
   "cell_type": "code",
   "execution_count": 1,
   "id": "c2d11123-e153-41df-866f-7104c6bce559",
   "metadata": {},
   "outputs": [],
   "source": [
    "import numpy as np\n",
    "import pandas as pd\n",
    "from scipy import stats\n",
    "import matplotlib.pyplot as plt\n",
    "import seaborn as sns"
   ]
  },
  {
   "cell_type": "code",
   "execution_count": null,
   "id": "05c680de-cae5-45dd-8f6d-678fadb3d88f",
   "metadata": {},
   "outputs": [],
   "source": []
  },
  {
   "cell_type": "markdown",
   "id": "cb95367d-e387-493f-9ab4-a63f5c8c9313",
   "metadata": {
    "jp-MarkdownHeadingCollapsed": true
   },
   "source": [
    "# Sample Distribution of Sample Mean"
   ]
  },
  {
   "cell_type": "markdown",
   "id": "a10dec8c-118f-46b2-aeaf-2893261d2b43",
   "metadata": {},
   "source": [
    "<div>\n",
    "    <img src='./images/sampling1.png' width=900>\n",
    "</div>"
   ]
  },
  {
   "cell_type": "code",
   "execution_count": 15,
   "id": "b9297653-2785-4453-a4a0-194015a37e17",
   "metadata": {},
   "outputs": [],
   "source": [
    "pop_mean = 448\n",
    "pop_std = 21\n",
    "n = 49"
   ]
  },
  {
   "cell_type": "markdown",
   "id": "076a84fc-67b8-4dcb-9710-2c4509e39f10",
   "metadata": {},
   "source": [
    "n > 30 so we can apply CLT<br>\n",
    "The sample distribution of the sample mean will have mu = pop_mean and sts = pop_std/(n)^(1/2)\n"
   ]
  },
  {
   "cell_type": "code",
   "execution_count": 16,
   "id": "c49675e9-55fa-47fa-9440-ba52b008805c",
   "metadata": {},
   "outputs": [],
   "source": [
    "z_score1 = (441-pop_mean)/(21/np.sqrt(49))"
   ]
  },
  {
   "cell_type": "code",
   "execution_count": 17,
   "id": "ebb795a8-ab11-48d3-a61c-29d2c2d663a7",
   "metadata": {},
   "outputs": [],
   "source": [
    "z_score2 = (446-pop_mean)/(21/np.sqrt(49))"
   ]
  },
  {
   "cell_type": "code",
   "execution_count": 18,
   "id": "ad60922b-782c-4bd7-9b6d-78b8ebb496ac",
   "metadata": {},
   "outputs": [
    {
     "data": {
      "text/plain": [
       "0.24267720891827757"
      ]
     },
     "execution_count": 18,
     "metadata": {},
     "output_type": "execute_result"
    }
   ],
   "source": [
    "stats.norm.cdf(z_score2)-stats.norm.cdf(z_score1)"
   ]
  },
  {
   "cell_type": "markdown",
   "id": "1a12cee5-9704-465d-8666-f431fecf0cfa",
   "metadata": {},
   "source": [
    "There is a 24.26% chance of randomly selecting 49 hourly periods for which the sample<br>\r",
    "mean is between 441 and 446 shoppers."
   ]
  },
  {
   "cell_type": "code",
   "execution_count": null,
   "id": "ced4affb-313c-4ffa-8fc0-42c3648e2c09",
   "metadata": {},
   "outputs": [],
   "source": []
  },
  {
   "cell_type": "markdown",
   "id": "96165f97-3653-4669-a1d0-574f5b795975",
   "metadata": {},
   "source": [
    "# Sample Distribution of Sample Proportion"
   ]
  },
  {
   "cell_type": "markdown",
   "id": "103e5296-6644-4660-b31c-178726dad779",
   "metadata": {},
   "source": [
    "<div>\n",
    "    <img src='./images/sampling2.png' width=900>\n",
    "</div>"
   ]
  },
  {
   "cell_type": "code",
   "execution_count": 19,
   "id": "4327a7fb-1bfd-4ad1-a628-698cfb4fe59a",
   "metadata": {},
   "outputs": [],
   "source": [
    "p = 0.10\n",
    "q = 1-p\n",
    "n = 80"
   ]
  },
  {
   "cell_type": "code",
   "execution_count": 20,
   "id": "fab319e6-0ff3-414d-8adf-00e540aabe28",
   "metadata": {},
   "outputs": [
    {
     "data": {
      "text/plain": [
       "True"
      ]
     },
     "execution_count": 20,
     "metadata": {},
     "output_type": "execute_result"
    }
   ],
   "source": [
    "n*p > 5"
   ]
  },
  {
   "cell_type": "code",
   "execution_count": 21,
   "id": "f645f44c-0e95-4078-993a-8e5cacbd12a1",
   "metadata": {},
   "outputs": [
    {
     "data": {
      "text/plain": [
       "True"
      ]
     },
     "execution_count": 21,
     "metadata": {},
     "output_type": "execute_result"
    }
   ],
   "source": [
    "n*q > 5"
   ]
  },
  {
   "cell_type": "markdown",
   "id": "8e404d77-6675-4dec-b958-e5b7ae8c2e7c",
   "metadata": {},
   "source": [
    "as np >5 and nq > 5 We can apply CLT"
   ]
  },
  {
   "cell_type": "code",
   "execution_count": 22,
   "id": "c0850a0b-c13c-4157-a705-97ffe84dcca7",
   "metadata": {},
   "outputs": [],
   "source": [
    "p_hat = 12/80"
   ]
  },
  {
   "cell_type": "code",
   "execution_count": 23,
   "id": "09c44140-0fff-479d-b7fd-643135c01dd3",
   "metadata": {},
   "outputs": [],
   "source": [
    "z = (p_hat-p)/np.sqrt(p*q/n)"
   ]
  },
  {
   "cell_type": "code",
   "execution_count": 26,
   "id": "07203579-8254-4e76-9f22-f914a929c7dd",
   "metadata": {},
   "outputs": [
    {
     "data": {
      "text/plain": [
       "6.801856405707185"
      ]
     },
     "execution_count": 26,
     "metadata": {},
     "output_type": "execute_result"
    }
   ],
   "source": [
    "(1-stats.norm.cdf(z))*100"
   ]
  },
  {
   "cell_type": "code",
   "execution_count": null,
   "id": "9a3f0901-02e8-479d-8efb-6c7bf6a80656",
   "metadata": {},
   "outputs": [],
   "source": []
  },
  {
   "cell_type": "markdown",
   "id": "0ebe7b69-fc28-4ef1-b682-92087b5c03c1",
   "metadata": {},
   "source": [
    "# Questions"
   ]
  },
  {
   "cell_type": "markdown",
   "id": "c078ba20-6acb-4123-bda9-611f339d1799",
   "metadata": {},
   "source": [
    "<div>\n",
    "    <img src='./images/sampling3.png' width=600>\n",
    "</div>"
   ]
  },
  {
   "cell_type": "code",
   "execution_count": 61,
   "id": "d9c66672-9fe6-4707-bb51-71f4f2b486b4",
   "metadata": {},
   "outputs": [],
   "source": [
    "#a.\n",
    "p=0.73\n",
    "q=1-p\n",
    "n=300"
   ]
  },
  {
   "cell_type": "code",
   "execution_count": 62,
   "id": "a14e9f84-f7f9-414a-aece-87d623119678",
   "metadata": {},
   "outputs": [
    {
     "data": {
      "text/plain": [
       "True"
      ]
     },
     "execution_count": 62,
     "metadata": {},
     "output_type": "execute_result"
    }
   ],
   "source": [
    "n*p>5"
   ]
  },
  {
   "cell_type": "code",
   "execution_count": 63,
   "id": "c096002f-68e9-4fc4-bdb5-04c0eaa00d92",
   "metadata": {},
   "outputs": [
    {
     "data": {
      "text/plain": [
       "True"
      ]
     },
     "execution_count": 63,
     "metadata": {},
     "output_type": "execute_result"
    }
   ],
   "source": [
    "n*q>5"
   ]
  },
  {
   "cell_type": "code",
   "execution_count": 66,
   "id": "346d012f-bd06-4313-ab33-5c43714008c0",
   "metadata": {},
   "outputs": [],
   "source": [
    "p_hat1 = 234/300"
   ]
  },
  {
   "cell_type": "code",
   "execution_count": 67,
   "id": "6a790c53-94ec-4dd4-a169-c1a9ba8f7b3b",
   "metadata": {},
   "outputs": [],
   "source": [
    "p_hat2 = 210/300"
   ]
  },
  {
   "cell_type": "code",
   "execution_count": 68,
   "id": "21fedefe-9cd3-462e-b9fa-36a1236bac12",
   "metadata": {},
   "outputs": [],
   "source": [
    "z1 = (p_hat1-p)/np.sqrt(p*q/n)"
   ]
  },
  {
   "cell_type": "code",
   "execution_count": 69,
   "id": "15cbcfc9-9ee4-4489-94f4-977a5e7d389b",
   "metadata": {},
   "outputs": [],
   "source": [
    "z2 = (p_hat2-p)/np.sqrt(p*q/n)"
   ]
  },
  {
   "cell_type": "code",
   "execution_count": 73,
   "id": "ee4119ad-2dac-45e1-8126-e30d504f252a",
   "metadata": {},
   "outputs": [
    {
     "data": {
      "text/plain": [
       "0.85354"
      ]
     },
     "execution_count": 73,
     "metadata": {},
     "output_type": "execute_result"
    }
   ],
   "source": [
    "round(stats.norm.cdf(z1)-stats.norm.cdf(z2),5)"
   ]
  },
  {
   "cell_type": "code",
   "execution_count": null,
   "id": "1636f499-b1cc-42f3-9e02-5fcb077adcd5",
   "metadata": {},
   "outputs": [],
   "source": []
  },
  {
   "cell_type": "code",
   "execution_count": 74,
   "id": "d0668d1e-d493-426e-a910-fe14f4705c28",
   "metadata": {},
   "outputs": [],
   "source": [
    "#b.\n",
    "p_hat3 = 0.78"
   ]
  },
  {
   "cell_type": "code",
   "execution_count": 75,
   "id": "47ffe2d4-0d72-44f9-a7b1-50a380cb9f40",
   "metadata": {},
   "outputs": [],
   "source": [
    "z3 = (p_hat3-p)/np.sqrt(p*q/n)"
   ]
  },
  {
   "cell_type": "code",
   "execution_count": 78,
   "id": "e4a22bf2-25c7-442d-b9d7-15a8e1bb8afa",
   "metadata": {},
   "outputs": [
    {
     "data": {
      "text/plain": [
       "0.0255"
      ]
     },
     "execution_count": 78,
     "metadata": {},
     "output_type": "execute_result"
    }
   ],
   "source": [
    "round(1-stats.norm.cdf(z3),4)"
   ]
  },
  {
   "cell_type": "code",
   "execution_count": null,
   "id": "45e14d5e-b342-4551-8eac-7380ca5df978",
   "metadata": {},
   "outputs": [],
   "source": []
  },
  {
   "cell_type": "code",
   "execution_count": 91,
   "id": "4bd2381d-83c3-43de-bfdc-493c854554ed",
   "metadata": {},
   "outputs": [],
   "source": [
    "#c.\n",
    "n = 800"
   ]
  },
  {
   "cell_type": "code",
   "execution_count": 92,
   "id": "28e4d624-879f-45c8-a1a6-ac748bcf4f8c",
   "metadata": {},
   "outputs": [],
   "source": [
    "p_hat4 = 0.78"
   ]
  },
  {
   "cell_type": "code",
   "execution_count": 93,
   "id": "8af380b6-4a3a-4111-b5e5-4f8af6158cad",
   "metadata": {},
   "outputs": [],
   "source": [
    "z4 = (p_hat4-p)/np.sqrt(p*q/n)"
   ]
  },
  {
   "cell_type": "code",
   "execution_count": 94,
   "id": "bfc78c08-5597-4fc4-a9ad-b68ca01fd13f",
   "metadata": {},
   "outputs": [
    {
     "data": {
      "text/plain": [
       "0.0007226290228297128"
      ]
     },
     "execution_count": 94,
     "metadata": {},
     "output_type": "execute_result"
    }
   ],
   "source": [
    "1-stats.norm.cdf(z4)"
   ]
  },
  {
   "cell_type": "code",
   "execution_count": null,
   "id": "14d67611-70a0-40ad-b15b-3a9be2b24c38",
   "metadata": {},
   "outputs": [],
   "source": []
  }
 ],
 "metadata": {
  "kernelspec": {
   "display_name": "Python 3 (ipykernel)",
   "language": "python",
   "name": "python3"
  },
  "language_info": {
   "codemirror_mode": {
    "name": "ipython",
    "version": 3
   },
   "file_extension": ".py",
   "mimetype": "text/x-python",
   "name": "python",
   "nbconvert_exporter": "python",
   "pygments_lexer": "ipython3",
   "version": "3.11.7"
  }
 },
 "nbformat": 4,
 "nbformat_minor": 5
}
