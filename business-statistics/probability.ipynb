{
 "cells": [
  {
   "cell_type": "code",
   "execution_count": 2,
   "id": "521d51e1-441c-453d-8bbd-81f37e8796bd",
   "metadata": {},
   "outputs": [],
   "source": [
    "import numpy as np\n",
    "import pandas as pd"
   ]
  },
  {
   "cell_type": "code",
   "execution_count": 2,
   "id": "8b0f601e-5e6e-4463-b1d3-fbd9e342523b",
   "metadata": {},
   "outputs": [],
   "source": [
    "male = [8,31,52,9,100]\n",
    "female = [3,13,17,22,55]\n",
    "total = [11,44,69,31,155]"
   ]
  },
  {
   "cell_type": "markdown",
   "id": "88ad88f8-dd9f-4c51-8a2c-ea89698fc297",
   "metadata": {
    "jp-MarkdownHeadingCollapsed": true
   },
   "source": [
    "# HR"
   ]
  },
  {
   "cell_type": "code",
   "execution_count": 3,
   "id": "3a0aab73-db5a-4ba9-b93f-d0b029c4d75d",
   "metadata": {},
   "outputs": [],
   "source": [
    "human_resource = pd.DataFrame({'male':male,'female':female,'total':total},\n",
    "                              index=['managerial','professional','technical','clerical','total'])"
   ]
  },
  {
   "cell_type": "code",
   "execution_count": 4,
   "id": "a07a4050-f525-4311-9e65-7ff1333bf587",
   "metadata": {},
   "outputs": [
    {
     "data": {
      "text/html": [
       "<div>\n",
       "<style scoped>\n",
       "    .dataframe tbody tr th:only-of-type {\n",
       "        vertical-align: middle;\n",
       "    }\n",
       "\n",
       "    .dataframe tbody tr th {\n",
       "        vertical-align: top;\n",
       "    }\n",
       "\n",
       "    .dataframe thead th {\n",
       "        text-align: right;\n",
       "    }\n",
       "</style>\n",
       "<table border=\"1\" class=\"dataframe\">\n",
       "  <thead>\n",
       "    <tr style=\"text-align: right;\">\n",
       "      <th></th>\n",
       "      <th>male</th>\n",
       "      <th>female</th>\n",
       "      <th>total</th>\n",
       "    </tr>\n",
       "  </thead>\n",
       "  <tbody>\n",
       "    <tr>\n",
       "      <th>managerial</th>\n",
       "      <td>8</td>\n",
       "      <td>3</td>\n",
       "      <td>11</td>\n",
       "    </tr>\n",
       "    <tr>\n",
       "      <th>professional</th>\n",
       "      <td>31</td>\n",
       "      <td>13</td>\n",
       "      <td>44</td>\n",
       "    </tr>\n",
       "    <tr>\n",
       "      <th>technical</th>\n",
       "      <td>52</td>\n",
       "      <td>17</td>\n",
       "      <td>69</td>\n",
       "    </tr>\n",
       "    <tr>\n",
       "      <th>clerical</th>\n",
       "      <td>9</td>\n",
       "      <td>22</td>\n",
       "      <td>31</td>\n",
       "    </tr>\n",
       "    <tr>\n",
       "      <th>total</th>\n",
       "      <td>100</td>\n",
       "      <td>55</td>\n",
       "      <td>155</td>\n",
       "    </tr>\n",
       "  </tbody>\n",
       "</table>\n",
       "</div>"
      ],
      "text/plain": [
       "              male  female  total\n",
       "managerial       8       3     11\n",
       "professional    31      13     44\n",
       "technical       52      17     69\n",
       "clerical         9      22     31\n",
       "total          100      55    155"
      ]
     },
     "execution_count": 4,
     "metadata": {},
     "output_type": "execute_result"
    }
   ],
   "source": [
    "human_resource"
   ]
  },
  {
   "cell_type": "markdown",
   "id": "5e31d761-6f36-4924-b82d-e1a3c79293bc",
   "metadata": {},
   "source": [
    "Suppose some legal concern has been expressed that a\r",
    "disproportionate number of managerial people at the\r",
    "client company are men. If a worker is randomly selected\r",
    "from the client company, what is the probability that the\r",
    "worker is a woman? If a managerial person is randomly\r",
    "selected, what is the probability that the person is a\r",
    "woman? What factors might enter into the apparent\r",
    "discrepancy between probabilities?"
   ]
  },
  {
   "cell_type": "code",
   "execution_count": 7,
   "id": "ccfb2899-2e12-4089-8fa2-a32c9b35fea4",
   "metadata": {},
   "outputs": [
    {
     "data": {
      "text/plain": [
       "35.0"
      ]
     },
     "execution_count": 7,
     "metadata": {},
     "output_type": "execute_result"
    }
   ],
   "source": [
    "#P(female)\n",
    "round(55/155,2)*100"
   ]
  },
  {
   "cell_type": "code",
   "execution_count": 8,
   "id": "f5df379e-8b98-4e49-877b-1ba1389bd4c5",
   "metadata": {},
   "outputs": [
    {
     "data": {
      "text/plain": [
       "27.0"
      ]
     },
     "execution_count": 8,
     "metadata": {},
     "output_type": "execute_result"
    }
   ],
   "source": [
    "#P(female|managerial)\n",
    "round(3/11,2)*100"
   ]
  },
  {
   "cell_type": "markdown",
   "id": "6b9b7a49-239c-4646-a78c-0c1d0aa61f20",
   "metadata": {},
   "source": [
    "Suppose a special bonus is being given to one person in\r",
    "the technical area this year. If the bonus is randomly\r",
    "awarded, what is the probability that it will go to a\r",
    "woman, given that worker is in the technical area? Is this\r",
    "discrimination against male technical workers? What\r",
    "factors might enter into the awarding of the bonus other\r",
    "than random selection?"
   ]
  },
  {
   "cell_type": "code",
   "execution_count": 9,
   "id": "a42e7b6e-2f57-422e-ac0a-e28ae6c3b74b",
   "metadata": {},
   "outputs": [
    {
     "data": {
      "text/plain": [
       "25.0"
      ]
     },
     "execution_count": 9,
     "metadata": {},
     "output_type": "execute_result"
    }
   ],
   "source": [
    "#P(female|technical)\n",
    "round(17/69,2)*100"
   ]
  },
  {
   "cell_type": "code",
   "execution_count": 10,
   "id": "a9af07c8-78ee-4e77-b98a-c060c3fb7359",
   "metadata": {},
   "outputs": [
    {
     "data": {
      "text/plain": [
       "75.0"
      ]
     },
     "execution_count": 10,
     "metadata": {},
     "output_type": "execute_result"
    }
   ],
   "source": [
    "#P(male|technical)\n",
    "round(52/69,2)*100"
   ]
  },
  {
   "cell_type": "markdown",
   "id": "b882c1f9-4cd5-4dca-83c7-42c9af196aa3",
   "metadata": {},
   "source": [
    "Suppose that at the annual holiday party the name of an\r",
    "employee of the client company will be drawn randomly\r",
    "to win a trip to Hawaii. What is the probability that a\r",
    "professional person will be the winner?"
   ]
  },
  {
   "cell_type": "code",
   "execution_count": 16,
   "id": "8b45e420-c8e9-40cd-aec9-ffeaae987d68",
   "metadata": {},
   "outputs": [
    {
     "data": {
      "text/plain": [
       "30.0"
      ]
     },
     "execution_count": 16,
     "metadata": {},
     "output_type": "execute_result"
    }
   ],
   "source": [
    "#P(professional)\n",
    "round(44/155,1)*100"
   ]
  },
  {
   "cell_type": "markdown",
   "id": "4d4e037f-d0bf-450e-8010-97e6c9386d44",
   "metadata": {},
   "source": [
    "What is the probability that the winner will be either a\r",
    "man or a clerical worker? What is the probability that the\r",
    "winner will be a woman and in management? Suppose the\r",
    "winner is a man. What is the probability that the winner is\r",
    "from the technical group, given that the winner is a man?"
   ]
  },
  {
   "cell_type": "code",
   "execution_count": 17,
   "id": "529e6215-2d90-4b2c-92bd-50ac87fa4fc1",
   "metadata": {},
   "outputs": [
    {
     "data": {
      "text/plain": [
       "79.0"
      ]
     },
     "execution_count": 17,
     "metadata": {},
     "output_type": "execute_result"
    }
   ],
   "source": [
    "#P(male U clerical) = P(male) + P(clerical) - P(male and clerical)\n",
    "round(100/155 + 31/155 - 9/155,2)*100"
   ]
  },
  {
   "cell_type": "code",
   "execution_count": 18,
   "id": "c89a0b00-f0fb-44cb-aeeb-2d01ab494d78",
   "metadata": {},
   "outputs": [
    {
     "data": {
      "text/plain": [
       "2.0"
      ]
     },
     "execution_count": 18,
     "metadata": {},
     "output_type": "execute_result"
    }
   ],
   "source": [
    "#P(female and managerial)\n",
    "round(3/155,2)*100"
   ]
  },
  {
   "cell_type": "code",
   "execution_count": 19,
   "id": "3625f59e-79ff-449e-bc1c-70de397732a6",
   "metadata": {},
   "outputs": [
    {
     "data": {
      "text/plain": [
       "52.0"
      ]
     },
     "execution_count": 19,
     "metadata": {},
     "output_type": "execute_result"
    }
   ],
   "source": [
    "#P(technical|male)\n",
    "round(52/100,2)*100"
   ]
  },
  {
   "cell_type": "code",
   "execution_count": null,
   "id": "bd80c4da-3eee-42a8-921c-0789486a7b57",
   "metadata": {},
   "outputs": [],
   "source": []
  },
  {
   "cell_type": "code",
   "execution_count": null,
   "id": "95349d86-f579-4431-b2ed-21ba41dfd727",
   "metadata": {},
   "outputs": [],
   "source": []
  },
  {
   "cell_type": "markdown",
   "id": "4e95c3de-2c44-4217-bb8b-fbab8c8e7002",
   "metadata": {
    "jp-MarkdownHeadingCollapsed": true
   },
   "source": [
    "# Questions"
   ]
  },
  {
   "cell_type": "markdown",
   "id": "32b88464-ea22-4144-9244-d7e983efc690",
   "metadata": {},
   "source": [
    "<div>\n",
    "<img src=\"./images/probability1.png\" width=\"500\"/>\n",
    "</div>"
   ]
  },
  {
   "cell_type": "code",
   "execution_count": 5,
   "id": "17c1bf4a-e174-4e49-ae7c-8e725e2ccfef",
   "metadata": {},
   "outputs": [],
   "source": [
    "joint_probability_table = pd.DataFrame([[0.33,0.28,0.61],[0.09,0.3,0.39],[0.42,0.58,1]],\n",
    "                                       index=['Offer Life Insurance','Don\\'t Offer Life Insurance','Total'],\n",
    "                                       columns=['Offer Retirement Plans','Don\\'t Offer Retirement Plans','Total'])"
   ]
  },
  {
   "cell_type": "code",
   "execution_count": 6,
   "id": "1ddcaa37-0be8-4b14-bbcb-e0a934f8c8e3",
   "metadata": {},
   "outputs": [
    {
     "data": {
      "text/html": [
       "<div>\n",
       "<style scoped>\n",
       "    .dataframe tbody tr th:only-of-type {\n",
       "        vertical-align: middle;\n",
       "    }\n",
       "\n",
       "    .dataframe tbody tr th {\n",
       "        vertical-align: top;\n",
       "    }\n",
       "\n",
       "    .dataframe thead th {\n",
       "        text-align: right;\n",
       "    }\n",
       "</style>\n",
       "<table border=\"1\" class=\"dataframe\">\n",
       "  <thead>\n",
       "    <tr style=\"text-align: right;\">\n",
       "      <th></th>\n",
       "      <th>Offer Retirement Plans</th>\n",
       "      <th>Don't Offer Retirement Plans</th>\n",
       "      <th>Total</th>\n",
       "    </tr>\n",
       "  </thead>\n",
       "  <tbody>\n",
       "    <tr>\n",
       "      <th>Offer Life Insurance</th>\n",
       "      <td>0.33</td>\n",
       "      <td>0.28</td>\n",
       "      <td>0.61</td>\n",
       "    </tr>\n",
       "    <tr>\n",
       "      <th>Don't Offer Life Insurance</th>\n",
       "      <td>0.09</td>\n",
       "      <td>0.30</td>\n",
       "      <td>0.39</td>\n",
       "    </tr>\n",
       "    <tr>\n",
       "      <th>Total</th>\n",
       "      <td>0.42</td>\n",
       "      <td>0.58</td>\n",
       "      <td>1.00</td>\n",
       "    </tr>\n",
       "  </tbody>\n",
       "</table>\n",
       "</div>"
      ],
      "text/plain": [
       "                            Offer Retirement Plans  \\\n",
       "Offer Life Insurance                          0.33   \n",
       "Don't Offer Life Insurance                    0.09   \n",
       "Total                                         0.42   \n",
       "\n",
       "                            Don't Offer Retirement Plans  Total  \n",
       "Offer Life Insurance                                0.28   0.61  \n",
       "Don't Offer Life Insurance                          0.30   0.39  \n",
       "Total                                               0.58   1.00  "
      ]
     },
     "execution_count": 6,
     "metadata": {},
     "output_type": "execute_result"
    }
   ],
   "source": [
    "joint_probability_table"
   ]
  },
  {
   "cell_type": "code",
   "execution_count": 8,
   "id": "87e449ff-7995-4159-9f2b-e5e54837bccc",
   "metadata": {},
   "outputs": [
    {
     "data": {
      "text/plain": [
       "0.541"
      ]
     },
     "execution_count": 8,
     "metadata": {},
     "output_type": "execute_result"
    }
   ],
   "source": [
    "# P(Offer Retirement Plans | Offer Life Insurance ) = P(Offer Retirement Plans and Offer Life Insurance ) / P(Offer Life Insurance)\n",
    "round(0.33/0.61,4)"
   ]
  },
  {
   "cell_type": "code",
   "execution_count": 12,
   "id": "b482ed77-dd59-4203-aa1d-9c06443f699d",
   "metadata": {},
   "outputs": [
    {
     "data": {
      "text/plain": [
       "0.7857"
      ]
     },
     "execution_count": 12,
     "metadata": {},
     "output_type": "execute_result"
    }
   ],
   "source": [
    "# P( Offer Life Insurance | Offer Retirement Plans  ) = P(Offer Retirement Plans AND Offer Life Insurance ) / P(Offer Retirement Plans)\n",
    "round(0.33/0.42,4)"
   ]
  },
  {
   "cell_type": "code",
   "execution_count": 13,
   "id": "946e7c1f-972f-460f-b19c-7bd2a7b9c5a0",
   "metadata": {},
   "outputs": [
    {
     "data": {
      "text/plain": [
       "0.7"
      ]
     },
     "execution_count": 13,
     "metadata": {},
     "output_type": "execute_result"
    }
   ],
   "source": [
    "# P(Offer Life Insurance OR Offer Retirement Plans)\n",
    "0.09+0.28+0.33"
   ]
  },
  {
   "cell_type": "code",
   "execution_count": 14,
   "id": "7724e45d-d76b-499a-a0d4-6cb08e84818c",
   "metadata": {},
   "outputs": [
    {
     "data": {
      "text/plain": [
       "0.09"
      ]
     },
     "execution_count": 14,
     "metadata": {},
     "output_type": "execute_result"
    }
   ],
   "source": [
    "#P(Offer Retirement Plans AND Don't Offer Life Insurance)\n",
    "0.09"
   ]
  },
  {
   "cell_type": "code",
   "execution_count": 15,
   "id": "81b3d883-4d8c-4b99-8740-15e4786e8a67",
   "metadata": {},
   "outputs": [
    {
     "data": {
      "text/plain": [
       "0.2143"
      ]
     },
     "execution_count": 15,
     "metadata": {},
     "output_type": "execute_result"
    }
   ],
   "source": [
    "#P( Don't Offer Life Insurance | Offer Retirement Plans  ) = P(Offer Retirement Plans AND Don't Offer Life Insurance ) / P(Offer Retirement Plans)\n",
    "round(0.09/0.42,4)"
   ]
  },
  {
   "cell_type": "code",
   "execution_count": null,
   "id": "891f1249-c154-42ce-8dbb-299312143e8c",
   "metadata": {},
   "outputs": [],
   "source": []
  },
  {
   "cell_type": "code",
   "execution_count": null,
   "id": "1d8227cc-ca96-48ae-8161-f18e94c8c66b",
   "metadata": {},
   "outputs": [],
   "source": []
  },
  {
   "cell_type": "markdown",
   "id": "8c5d7146-7c07-46e0-8a1d-32901c371956",
   "metadata": {},
   "source": [
    "<div>\n",
    "<img src=\"./images/probability2.png\" width=\"500\"/>\n",
    "<img src=\"./images/bayes-rule.png\" width=\"600\"/>\n",
    "</div>"
   ]
  },
  {
   "cell_type": "code",
   "execution_count": 38,
   "id": "be20d4e9-1c7e-4d9f-95b3-46bb3b57bf60",
   "metadata": {},
   "outputs": [],
   "source": [
    "bayesian_table =pd.DataFrame(np.full((3,4),0,dtype=float),\n",
    "             index=['Dr. Sarabia', 'Dr. Tran', 'Dr. Jackson'],\n",
    "             columns=['Prior P(Doctor_i)','Conditional P(Requests Test| Doctor_i)',\n",
    "                      'Joint P(Doctor_i AND Tests Requested)','Posterior P(Doctor_i | Had Blood Test)'])"
   ]
  },
  {
   "cell_type": "code",
   "execution_count": 39,
   "id": "e1aaae99-3e2e-4209-89be-e8f63d0f4240",
   "metadata": {},
   "outputs": [],
   "source": [
    "bayesian_table.index.name = 'Event'"
   ]
  },
  {
   "cell_type": "code",
   "execution_count": 40,
   "id": "ae8aab15-a392-471f-8603-535943750dd4",
   "metadata": {},
   "outputs": [
    {
     "data": {
      "text/html": [
       "<div>\n",
       "<style scoped>\n",
       "    .dataframe tbody tr th:only-of-type {\n",
       "        vertical-align: middle;\n",
       "    }\n",
       "\n",
       "    .dataframe tbody tr th {\n",
       "        vertical-align: top;\n",
       "    }\n",
       "\n",
       "    .dataframe thead th {\n",
       "        text-align: right;\n",
       "    }\n",
       "</style>\n",
       "<table border=\"1\" class=\"dataframe\">\n",
       "  <thead>\n",
       "    <tr style=\"text-align: right;\">\n",
       "      <th></th>\n",
       "      <th>Prior P(Doctor_i)</th>\n",
       "      <th>Conditional P(Requests Test| Doctor_i)</th>\n",
       "      <th>Joint P(Doctor_i AND Tests Requested)</th>\n",
       "      <th>Posterior P(Doctor_i | Had Blood Test)</th>\n",
       "    </tr>\n",
       "    <tr>\n",
       "      <th>Event</th>\n",
       "      <th></th>\n",
       "      <th></th>\n",
       "      <th></th>\n",
       "      <th></th>\n",
       "    </tr>\n",
       "  </thead>\n",
       "  <tbody>\n",
       "    <tr>\n",
       "      <th>Dr. Sarabia</th>\n",
       "      <td>0.0</td>\n",
       "      <td>0.0</td>\n",
       "      <td>0.0</td>\n",
       "      <td>0.0</td>\n",
       "    </tr>\n",
       "    <tr>\n",
       "      <th>Dr. Tran</th>\n",
       "      <td>0.0</td>\n",
       "      <td>0.0</td>\n",
       "      <td>0.0</td>\n",
       "      <td>0.0</td>\n",
       "    </tr>\n",
       "    <tr>\n",
       "      <th>Dr. Jackson</th>\n",
       "      <td>0.0</td>\n",
       "      <td>0.0</td>\n",
       "      <td>0.0</td>\n",
       "      <td>0.0</td>\n",
       "    </tr>\n",
       "  </tbody>\n",
       "</table>\n",
       "</div>"
      ],
      "text/plain": [
       "             Prior P(Doctor_i)  Conditional P(Requests Test| Doctor_i)  \\\n",
       "Event                                                                    \n",
       "Dr. Sarabia                0.0                                     0.0   \n",
       "Dr. Tran                   0.0                                     0.0   \n",
       "Dr. Jackson                0.0                                     0.0   \n",
       "\n",
       "             Joint P(Doctor_i AND Tests Requested)  \\\n",
       "Event                                                \n",
       "Dr. Sarabia                                    0.0   \n",
       "Dr. Tran                                       0.0   \n",
       "Dr. Jackson                                    0.0   \n",
       "\n",
       "             Posterior P(Doctor_i | Had Blood Test)  \n",
       "Event                                                \n",
       "Dr. Sarabia                                     0.0  \n",
       "Dr. Tran                                        0.0  \n",
       "Dr. Jackson                                     0.0  "
      ]
     },
     "execution_count": 40,
     "metadata": {},
     "output_type": "execute_result"
    }
   ],
   "source": [
    "bayesian_table"
   ]
  },
  {
   "cell_type": "code",
   "execution_count": 41,
   "id": "6a92b61b-db6a-420c-a363-0936f4d46acc",
   "metadata": {},
   "outputs": [],
   "source": [
    "# Prior\n",
    "bayesian_table.iloc[0,0] = 0.41\n",
    "bayesian_table.iloc[1,0] = 0.32\n",
    "bayesian_table.iloc[2,0] = 0.27"
   ]
  },
  {
   "cell_type": "code",
   "execution_count": 42,
   "id": "98aab9c1-a808-4040-a65e-32d2012902a5",
   "metadata": {},
   "outputs": [],
   "source": [
    "# Conditional\n",
    "bayesian_table.iloc[0,1] = 0.05\n",
    "bayesian_table.iloc[1,1] = 0.08\n",
    "bayesian_table.iloc[2,1] = 0.06"
   ]
  },
  {
   "cell_type": "code",
   "execution_count": 43,
   "id": "b5f762f5-dc25-4ff4-812b-46ae8b0eb33e",
   "metadata": {},
   "outputs": [],
   "source": [
    "# joint\n",
    "bayesian_table.iloc[:,2] = bayesian_table.iloc[:,0]*bayesian_table.iloc[:,1]"
   ]
  },
  {
   "cell_type": "code",
   "execution_count": 44,
   "id": "97279849-ef8c-46e2-adf5-ee1a81e4c80e",
   "metadata": {},
   "outputs": [],
   "source": [
    "# P(Requests Tests)\n",
    "pr_test_requested = bayesian_table.iloc[:,2].sum()"
   ]
  },
  {
   "cell_type": "code",
   "execution_count": 47,
   "id": "74228679-cd8a-43c7-964e-2885815279ba",
   "metadata": {},
   "outputs": [],
   "source": [
    "# posterior\n",
    "bayesian_table.iloc[:,3] = round(bayesian_table.iloc[:,2]/pr_test_requested,3)"
   ]
  },
  {
   "cell_type": "code",
   "execution_count": 48,
   "id": "4c7c1950-ff0a-489b-9781-a100f5730c9b",
   "metadata": {},
   "outputs": [
    {
     "data": {
      "text/html": [
       "<div>\n",
       "<style scoped>\n",
       "    .dataframe tbody tr th:only-of-type {\n",
       "        vertical-align: middle;\n",
       "    }\n",
       "\n",
       "    .dataframe tbody tr th {\n",
       "        vertical-align: top;\n",
       "    }\n",
       "\n",
       "    .dataframe thead th {\n",
       "        text-align: right;\n",
       "    }\n",
       "</style>\n",
       "<table border=\"1\" class=\"dataframe\">\n",
       "  <thead>\n",
       "    <tr style=\"text-align: right;\">\n",
       "      <th></th>\n",
       "      <th>Prior P(Doctor_i)</th>\n",
       "      <th>Conditional P(Requests Test| Doctor_i)</th>\n",
       "      <th>Joint P(Doctor_i AND Tests Requested)</th>\n",
       "      <th>Posterior P(Doctor_i | Had Blood Test)</th>\n",
       "    </tr>\n",
       "    <tr>\n",
       "      <th>Event</th>\n",
       "      <th></th>\n",
       "      <th></th>\n",
       "      <th></th>\n",
       "      <th></th>\n",
       "    </tr>\n",
       "  </thead>\n",
       "  <tbody>\n",
       "    <tr>\n",
       "      <th>Dr. Sarabia</th>\n",
       "      <td>0.41</td>\n",
       "      <td>0.05</td>\n",
       "      <td>0.0205</td>\n",
       "      <td>0.329</td>\n",
       "    </tr>\n",
       "    <tr>\n",
       "      <th>Dr. Tran</th>\n",
       "      <td>0.32</td>\n",
       "      <td>0.08</td>\n",
       "      <td>0.0256</td>\n",
       "      <td>0.411</td>\n",
       "    </tr>\n",
       "    <tr>\n",
       "      <th>Dr. Jackson</th>\n",
       "      <td>0.27</td>\n",
       "      <td>0.06</td>\n",
       "      <td>0.0162</td>\n",
       "      <td>0.260</td>\n",
       "    </tr>\n",
       "  </tbody>\n",
       "</table>\n",
       "</div>"
      ],
      "text/plain": [
       "             Prior P(Doctor_i)  Conditional P(Requests Test| Doctor_i)  \\\n",
       "Event                                                                    \n",
       "Dr. Sarabia               0.41                                    0.05   \n",
       "Dr. Tran                  0.32                                    0.08   \n",
       "Dr. Jackson               0.27                                    0.06   \n",
       "\n",
       "             Joint P(Doctor_i AND Tests Requested)  \\\n",
       "Event                                                \n",
       "Dr. Sarabia                                 0.0205   \n",
       "Dr. Tran                                    0.0256   \n",
       "Dr. Jackson                                 0.0162   \n",
       "\n",
       "             Posterior P(Doctor_i | Had Blood Test)  \n",
       "Event                                                \n",
       "Dr. Sarabia                                   0.329  \n",
       "Dr. Tran                                      0.411  \n",
       "Dr. Jackson                                   0.260  "
      ]
     },
     "execution_count": 48,
     "metadata": {},
     "output_type": "execute_result"
    }
   ],
   "source": [
    "bayesian_table"
   ]
  },
  {
   "cell_type": "code",
   "execution_count": null,
   "id": "20f96d6c-a540-4fb0-818b-d9abba7d729f",
   "metadata": {},
   "outputs": [],
   "source": []
  }
 ],
 "metadata": {
  "kernelspec": {
   "display_name": "Python 3 (ipykernel)",
   "language": "python",
   "name": "python3"
  },
  "language_info": {
   "codemirror_mode": {
    "name": "ipython",
    "version": 3
   },
   "file_extension": ".py",
   "mimetype": "text/x-python",
   "name": "python",
   "nbconvert_exporter": "python",
   "pygments_lexer": "ipython3",
   "version": "3.11.7"
  }
 },
 "nbformat": 4,
 "nbformat_minor": 5
}
